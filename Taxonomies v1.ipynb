{
 "cells": [
  {
   "cell_type": "code",
   "execution_count": 1,
   "metadata": {
    "ExecuteTime": {
     "end_time": "2020-04-07T14:15:20.236314Z",
     "start_time": "2020-04-07T14:15:14.759949Z"
    }
   },
   "outputs": [],
   "source": [
    "import re\n",
    "import nltk\n",
    "from nltk.corpus import stopwords\n",
    "import pandas as pd\n",
    "stop_words = set(stopwords.words('english'))"
   ]
  },
  {
   "cell_type": "code",
   "execution_count": 7,
   "metadata": {
    "ExecuteTime": {
     "end_time": "2020-04-07T14:17:48.289482Z",
     "start_time": "2020-04-07T14:17:48.083033Z"
    }
   },
   "outputs": [],
   "source": [
    "indeed_jobs = pd.read_csv(r'C:\\Users\\User\\Desktop\\indeed_new_full_jobs.csv').reset_index().drop(['Unnamed: 0', 'index'], axis=1)"
   ]
  },
  {
   "cell_type": "code",
   "execution_count": 8,
   "metadata": {
    "ExecuteTime": {
     "end_time": "2020-04-07T14:17:50.169434Z",
     "start_time": "2020-04-07T14:17:50.165444Z"
    }
   },
   "outputs": [
    {
     "data": {
      "text/plain": [
       "(46479, 12)"
      ]
     },
     "execution_count": 8,
     "metadata": {},
     "output_type": "execute_result"
    }
   ],
   "source": [
    "indeed_jobs.shape"
   ]
  },
  {
   "cell_type": "code",
   "execution_count": 9,
   "metadata": {
    "ExecuteTime": {
     "end_time": "2020-04-07T14:17:50.631873Z",
     "start_time": "2020-04-07T14:17:50.619879Z"
    }
   },
   "outputs": [],
   "source": [
    "indeed_jobs.rename(columns={'Job  Title': 'Job Title'}, inplace=True)"
   ]
  },
  {
   "cell_type": "code",
   "execution_count": 10,
   "metadata": {
    "ExecuteTime": {
     "end_time": "2020-04-07T14:17:51.148395Z",
     "start_time": "2020-04-07T14:17:51.144404Z"
    }
   },
   "outputs": [
    {
     "name": "stdout",
     "output_type": "stream",
     "text": [
      "Index(['Company Name', 'Days Posted', 'Experience Level', 'Job Description',\n",
      "       'Job Title', 'Job Type', 'Location', 'Rating', 'Salary Estimate',\n",
      "       'Skills', 'Time Collected', 'Country'],\n",
      "      dtype='object')\n"
     ]
    }
   ],
   "source": [
    "print(indeed_jobs.columns)"
   ]
  },
  {
   "cell_type": "code",
   "execution_count": 1,
   "metadata": {
    "ExecuteTime": {
     "end_time": "2020-04-09T16:40:20.928533Z",
     "start_time": "2020-04-09T16:40:20.113848Z"
    }
   },
   "outputs": [
    {
     "ename": "JSONDecodeError",
     "evalue": "Expecting value: line 1 column 1 (char 0)",
     "output_type": "error",
     "traceback": [
      "\u001b[1;31m---------------------------------------------------------------------------\u001b[0m",
      "\u001b[1;31mJSONDecodeError\u001b[0m                           Traceback (most recent call last)",
      "\u001b[1;32m<ipython-input-1-a3c326dc2a3f>\u001b[0m in \u001b[0;36m<module>\u001b[1;34m\u001b[0m\n\u001b[0;32m      1\u001b[0m \u001b[1;32mfrom\u001b[0m \u001b[0mgoogletrans\u001b[0m \u001b[1;32mimport\u001b[0m \u001b[0mTranslator\u001b[0m\u001b[1;33m\u001b[0m\u001b[1;33m\u001b[0m\u001b[0m\n\u001b[0;32m      2\u001b[0m \u001b[0mtranslator\u001b[0m \u001b[1;33m=\u001b[0m \u001b[0mTranslator\u001b[0m\u001b[1;33m(\u001b[0m\u001b[1;33m)\u001b[0m\u001b[1;33m\u001b[0m\u001b[1;33m\u001b[0m\u001b[0m\n\u001b[1;32m----> 3\u001b[1;33m \u001b[0mtranslator\u001b[0m\u001b[1;33m.\u001b[0m\u001b[0mtranslate\u001b[0m\u001b[1;33m(\u001b[0m\u001b[1;34m'안녕하세요.'\u001b[0m\u001b[1;33m)\u001b[0m\u001b[1;33m\u001b[0m\u001b[1;33m\u001b[0m\u001b[0m\n\u001b[0m\u001b[0;32m      4\u001b[0m \u001b[1;31m# # <Translated src=ko dest=en text=Good evening. pronunciation=Good evening.>\u001b[0m\u001b[1;33m\u001b[0m\u001b[1;33m\u001b[0m\u001b[1;33m\u001b[0m\u001b[0m\n\u001b[0;32m      5\u001b[0m \u001b[1;31m# translator.translate('안녕하세요.', dest='ja')\u001b[0m\u001b[1;33m\u001b[0m\u001b[1;33m\u001b[0m\u001b[1;33m\u001b[0m\u001b[0m\n",
      "\u001b[1;32m~\\Anaconda3\\lib\\site-packages\\googletrans\\client.py\u001b[0m in \u001b[0;36mtranslate\u001b[1;34m(self, text, dest, src)\u001b[0m\n\u001b[0;32m    170\u001b[0m \u001b[1;33m\u001b[0m\u001b[0m\n\u001b[0;32m    171\u001b[0m         \u001b[0morigin\u001b[0m \u001b[1;33m=\u001b[0m \u001b[0mtext\u001b[0m\u001b[1;33m\u001b[0m\u001b[1;33m\u001b[0m\u001b[0m\n\u001b[1;32m--> 172\u001b[1;33m         \u001b[0mdata\u001b[0m \u001b[1;33m=\u001b[0m \u001b[0mself\u001b[0m\u001b[1;33m.\u001b[0m\u001b[0m_translate\u001b[0m\u001b[1;33m(\u001b[0m\u001b[0mtext\u001b[0m\u001b[1;33m,\u001b[0m \u001b[0mdest\u001b[0m\u001b[1;33m,\u001b[0m \u001b[0msrc\u001b[0m\u001b[1;33m)\u001b[0m\u001b[1;33m\u001b[0m\u001b[1;33m\u001b[0m\u001b[0m\n\u001b[0m\u001b[0;32m    173\u001b[0m \u001b[1;33m\u001b[0m\u001b[0m\n\u001b[0;32m    174\u001b[0m         \u001b[1;31m# this code will be updated when the format is changed.\u001b[0m\u001b[1;33m\u001b[0m\u001b[1;33m\u001b[0m\u001b[1;33m\u001b[0m\u001b[0m\n",
      "\u001b[1;32m~\\Anaconda3\\lib\\site-packages\\googletrans\\client.py\u001b[0m in \u001b[0;36m_translate\u001b[1;34m(self, text, dest, src)\u001b[0m\n\u001b[0;32m     79\u001b[0m         \u001b[0mr\u001b[0m \u001b[1;33m=\u001b[0m \u001b[0mself\u001b[0m\u001b[1;33m.\u001b[0m\u001b[0msession\u001b[0m\u001b[1;33m.\u001b[0m\u001b[0mget\u001b[0m\u001b[1;33m(\u001b[0m\u001b[0murl\u001b[0m\u001b[1;33m,\u001b[0m \u001b[0mparams\u001b[0m\u001b[1;33m=\u001b[0m\u001b[0mparams\u001b[0m\u001b[1;33m)\u001b[0m\u001b[1;33m\u001b[0m\u001b[1;33m\u001b[0m\u001b[0m\n\u001b[0;32m     80\u001b[0m \u001b[1;33m\u001b[0m\u001b[0m\n\u001b[1;32m---> 81\u001b[1;33m         \u001b[0mdata\u001b[0m \u001b[1;33m=\u001b[0m \u001b[0mutils\u001b[0m\u001b[1;33m.\u001b[0m\u001b[0mformat_json\u001b[0m\u001b[1;33m(\u001b[0m\u001b[0mr\u001b[0m\u001b[1;33m.\u001b[0m\u001b[0mtext\u001b[0m\u001b[1;33m)\u001b[0m\u001b[1;33m\u001b[0m\u001b[1;33m\u001b[0m\u001b[0m\n\u001b[0m\u001b[0;32m     82\u001b[0m         \u001b[1;32mreturn\u001b[0m \u001b[0mdata\u001b[0m\u001b[1;33m\u001b[0m\u001b[1;33m\u001b[0m\u001b[0m\n\u001b[0;32m     83\u001b[0m \u001b[1;33m\u001b[0m\u001b[0m\n",
      "\u001b[1;32m~\\Anaconda3\\lib\\site-packages\\googletrans\\utils.py\u001b[0m in \u001b[0;36mformat_json\u001b[1;34m(original)\u001b[0m\n\u001b[0;32m     60\u001b[0m         \u001b[0mconverted\u001b[0m \u001b[1;33m=\u001b[0m \u001b[0mjson\u001b[0m\u001b[1;33m.\u001b[0m\u001b[0mloads\u001b[0m\u001b[1;33m(\u001b[0m\u001b[0moriginal\u001b[0m\u001b[1;33m)\u001b[0m\u001b[1;33m\u001b[0m\u001b[1;33m\u001b[0m\u001b[0m\n\u001b[0;32m     61\u001b[0m     \u001b[1;32mexcept\u001b[0m \u001b[0mValueError\u001b[0m\u001b[1;33m:\u001b[0m\u001b[1;33m\u001b[0m\u001b[1;33m\u001b[0m\u001b[0m\n\u001b[1;32m---> 62\u001b[1;33m         \u001b[0mconverted\u001b[0m \u001b[1;33m=\u001b[0m \u001b[0mlegacy_format_json\u001b[0m\u001b[1;33m(\u001b[0m\u001b[0moriginal\u001b[0m\u001b[1;33m)\u001b[0m\u001b[1;33m\u001b[0m\u001b[1;33m\u001b[0m\u001b[0m\n\u001b[0m\u001b[0;32m     63\u001b[0m \u001b[1;33m\u001b[0m\u001b[0m\n\u001b[0;32m     64\u001b[0m     \u001b[1;32mreturn\u001b[0m \u001b[0mconverted\u001b[0m\u001b[1;33m\u001b[0m\u001b[1;33m\u001b[0m\u001b[0m\n",
      "\u001b[1;32m~\\Anaconda3\\lib\\site-packages\\googletrans\\utils.py\u001b[0m in \u001b[0;36mlegacy_format_json\u001b[1;34m(original)\u001b[0m\n\u001b[0;32m     52\u001b[0m             \u001b[0mtext\u001b[0m \u001b[1;33m=\u001b[0m \u001b[0mtext\u001b[0m\u001b[1;33m[\u001b[0m\u001b[1;33m:\u001b[0m\u001b[0mp\u001b[0m\u001b[1;33m]\u001b[0m \u001b[1;33m+\u001b[0m \u001b[0mstates\u001b[0m\u001b[1;33m[\u001b[0m\u001b[0mj\u001b[0m\u001b[1;33m]\u001b[0m\u001b[1;33m[\u001b[0m\u001b[1;36m1\u001b[0m\u001b[1;33m]\u001b[0m \u001b[1;33m+\u001b[0m \u001b[0mtext\u001b[0m\u001b[1;33m[\u001b[0m\u001b[0mnxt\u001b[0m\u001b[1;33m:\u001b[0m\u001b[1;33m]\u001b[0m\u001b[1;33m\u001b[0m\u001b[1;33m\u001b[0m\u001b[0m\n\u001b[0;32m     53\u001b[0m \u001b[1;33m\u001b[0m\u001b[0m\n\u001b[1;32m---> 54\u001b[1;33m     \u001b[0mconverted\u001b[0m \u001b[1;33m=\u001b[0m \u001b[0mjson\u001b[0m\u001b[1;33m.\u001b[0m\u001b[0mloads\u001b[0m\u001b[1;33m(\u001b[0m\u001b[0mtext\u001b[0m\u001b[1;33m)\u001b[0m\u001b[1;33m\u001b[0m\u001b[1;33m\u001b[0m\u001b[0m\n\u001b[0m\u001b[0;32m     55\u001b[0m     \u001b[1;32mreturn\u001b[0m \u001b[0mconverted\u001b[0m\u001b[1;33m\u001b[0m\u001b[1;33m\u001b[0m\u001b[0m\n\u001b[0;32m     56\u001b[0m \u001b[1;33m\u001b[0m\u001b[0m\n",
      "\u001b[1;32m~\\Anaconda3\\lib\\json\\__init__.py\u001b[0m in \u001b[0;36mloads\u001b[1;34m(s, encoding, cls, object_hook, parse_float, parse_int, parse_constant, object_pairs_hook, **kw)\u001b[0m\n\u001b[0;32m    346\u001b[0m             \u001b[0mparse_int\u001b[0m \u001b[1;32mis\u001b[0m \u001b[1;32mNone\u001b[0m \u001b[1;32mand\u001b[0m \u001b[0mparse_float\u001b[0m \u001b[1;32mis\u001b[0m \u001b[1;32mNone\u001b[0m \u001b[1;32mand\u001b[0m\u001b[1;33m\u001b[0m\u001b[1;33m\u001b[0m\u001b[0m\n\u001b[0;32m    347\u001b[0m             parse_constant is None and object_pairs_hook is None and not kw):\n\u001b[1;32m--> 348\u001b[1;33m         \u001b[1;32mreturn\u001b[0m \u001b[0m_default_decoder\u001b[0m\u001b[1;33m.\u001b[0m\u001b[0mdecode\u001b[0m\u001b[1;33m(\u001b[0m\u001b[0ms\u001b[0m\u001b[1;33m)\u001b[0m\u001b[1;33m\u001b[0m\u001b[1;33m\u001b[0m\u001b[0m\n\u001b[0m\u001b[0;32m    349\u001b[0m     \u001b[1;32mif\u001b[0m \u001b[0mcls\u001b[0m \u001b[1;32mis\u001b[0m \u001b[1;32mNone\u001b[0m\u001b[1;33m:\u001b[0m\u001b[1;33m\u001b[0m\u001b[1;33m\u001b[0m\u001b[0m\n\u001b[0;32m    350\u001b[0m         \u001b[0mcls\u001b[0m \u001b[1;33m=\u001b[0m \u001b[0mJSONDecoder\u001b[0m\u001b[1;33m\u001b[0m\u001b[1;33m\u001b[0m\u001b[0m\n",
      "\u001b[1;32m~\\Anaconda3\\lib\\json\\decoder.py\u001b[0m in \u001b[0;36mdecode\u001b[1;34m(self, s, _w)\u001b[0m\n\u001b[0;32m    335\u001b[0m \u001b[1;33m\u001b[0m\u001b[0m\n\u001b[0;32m    336\u001b[0m         \"\"\"\n\u001b[1;32m--> 337\u001b[1;33m         \u001b[0mobj\u001b[0m\u001b[1;33m,\u001b[0m \u001b[0mend\u001b[0m \u001b[1;33m=\u001b[0m \u001b[0mself\u001b[0m\u001b[1;33m.\u001b[0m\u001b[0mraw_decode\u001b[0m\u001b[1;33m(\u001b[0m\u001b[0ms\u001b[0m\u001b[1;33m,\u001b[0m \u001b[0midx\u001b[0m\u001b[1;33m=\u001b[0m\u001b[0m_w\u001b[0m\u001b[1;33m(\u001b[0m\u001b[0ms\u001b[0m\u001b[1;33m,\u001b[0m \u001b[1;36m0\u001b[0m\u001b[1;33m)\u001b[0m\u001b[1;33m.\u001b[0m\u001b[0mend\u001b[0m\u001b[1;33m(\u001b[0m\u001b[1;33m)\u001b[0m\u001b[1;33m)\u001b[0m\u001b[1;33m\u001b[0m\u001b[1;33m\u001b[0m\u001b[0m\n\u001b[0m\u001b[0;32m    338\u001b[0m         \u001b[0mend\u001b[0m \u001b[1;33m=\u001b[0m \u001b[0m_w\u001b[0m\u001b[1;33m(\u001b[0m\u001b[0ms\u001b[0m\u001b[1;33m,\u001b[0m \u001b[0mend\u001b[0m\u001b[1;33m)\u001b[0m\u001b[1;33m.\u001b[0m\u001b[0mend\u001b[0m\u001b[1;33m(\u001b[0m\u001b[1;33m)\u001b[0m\u001b[1;33m\u001b[0m\u001b[1;33m\u001b[0m\u001b[0m\n\u001b[0;32m    339\u001b[0m         \u001b[1;32mif\u001b[0m \u001b[0mend\u001b[0m \u001b[1;33m!=\u001b[0m \u001b[0mlen\u001b[0m\u001b[1;33m(\u001b[0m\u001b[0ms\u001b[0m\u001b[1;33m)\u001b[0m\u001b[1;33m:\u001b[0m\u001b[1;33m\u001b[0m\u001b[1;33m\u001b[0m\u001b[0m\n",
      "\u001b[1;32m~\\Anaconda3\\lib\\json\\decoder.py\u001b[0m in \u001b[0;36mraw_decode\u001b[1;34m(self, s, idx)\u001b[0m\n\u001b[0;32m    353\u001b[0m             \u001b[0mobj\u001b[0m\u001b[1;33m,\u001b[0m \u001b[0mend\u001b[0m \u001b[1;33m=\u001b[0m \u001b[0mself\u001b[0m\u001b[1;33m.\u001b[0m\u001b[0mscan_once\u001b[0m\u001b[1;33m(\u001b[0m\u001b[0ms\u001b[0m\u001b[1;33m,\u001b[0m \u001b[0midx\u001b[0m\u001b[1;33m)\u001b[0m\u001b[1;33m\u001b[0m\u001b[1;33m\u001b[0m\u001b[0m\n\u001b[0;32m    354\u001b[0m         \u001b[1;32mexcept\u001b[0m \u001b[0mStopIteration\u001b[0m \u001b[1;32mas\u001b[0m \u001b[0merr\u001b[0m\u001b[1;33m:\u001b[0m\u001b[1;33m\u001b[0m\u001b[1;33m\u001b[0m\u001b[0m\n\u001b[1;32m--> 355\u001b[1;33m             \u001b[1;32mraise\u001b[0m \u001b[0mJSONDecodeError\u001b[0m\u001b[1;33m(\u001b[0m\u001b[1;34m\"Expecting value\"\u001b[0m\u001b[1;33m,\u001b[0m \u001b[0ms\u001b[0m\u001b[1;33m,\u001b[0m \u001b[0merr\u001b[0m\u001b[1;33m.\u001b[0m\u001b[0mvalue\u001b[0m\u001b[1;33m)\u001b[0m \u001b[1;32mfrom\u001b[0m \u001b[1;32mNone\u001b[0m\u001b[1;33m\u001b[0m\u001b[1;33m\u001b[0m\u001b[0m\n\u001b[0m\u001b[0;32m    356\u001b[0m         \u001b[1;32mreturn\u001b[0m \u001b[0mobj\u001b[0m\u001b[1;33m,\u001b[0m \u001b[0mend\u001b[0m\u001b[1;33m\u001b[0m\u001b[1;33m\u001b[0m\u001b[0m\n",
      "\u001b[1;31mJSONDecodeError\u001b[0m: Expecting value: line 1 column 1 (char 0)"
     ]
    }
   ],
   "source": [
    "from googletrans import Translator\n",
    "translator = Translator()\n",
    "translator.translate('안녕하세요.')\n",
    "# # <Translated src=ko dest=en text=Good evening. pronunciation=Good evening.>\n",
    "# translator.translate('안녕하세요.', dest='ja')\n",
    "# # <Translated src=ko dest=ja text=こんにちは。 pronunciation=Kon'nichiwa.>\n",
    "# translator.translate('veritas lux mea', src='la')\n",
    "# # <Translated src=la dest=en text=The truth is my light pronunciation=The truth is my light>"
   ]
  },
  {
   "cell_type": "code",
   "execution_count": 14,
   "metadata": {
    "ExecuteTime": {
     "end_time": "2020-04-07T15:50:19.424358Z",
     "start_time": "2020-04-07T15:50:19.224837Z"
    }
   },
   "outputs": [],
   "source": [
    "from googletrans import Translator\n",
    "\n",
    "def translate_func(x):\n",
    "    translator = Translator()\n",
    "    x = translator.translate(str(x))\n",
    "    return x"
   ]
  },
  {
   "cell_type": "code",
   "execution_count": null,
   "metadata": {
    "ExecuteTime": {
     "start_time": "2020-04-07T15:50:30.920Z"
    }
   },
   "outputs": [],
   "source": [
    "indeed_jobs['Job Title'].apply(translate_func)"
   ]
  },
  {
   "cell_type": "code",
   "execution_count": 13,
   "metadata": {
    "ExecuteTime": {
     "end_time": "2020-04-07T14:18:17.739975Z",
     "start_time": "2020-04-07T14:18:17.700472Z"
    }
   },
   "outputs": [
    {
     "data": {
      "text/plain": [
       "Aushilfe Warenverräumung Minijob (m/w/d)                           287\n",
       "Equipier polyvalent (h/f)                                          219\n",
       "Marktmitarbeiter (m/w/d) als Verkäufer, Kassierer, Warenverr...    217\n",
       "Equipier polyvalent                                                211\n",
       "Crew - Temporary                                                   201\n",
       "                                                                  ... \n",
       "SIEM Project Manager                                                 1\n",
       "Attaché Commercial (H/F)                                             1\n",
       "AVP 136 AGENT D'ENTRETIEN DES LOCAUX ET DU MATERIEL LACTARIU...      1\n",
       "Statistician in Customer Quality Support, Global Quality, Ba...      1\n",
       "PREPARATEUR AUTOMOBILE H/F                                           1\n",
       "Name: Job Title, Length: 32618, dtype: int64"
      ]
     },
     "execution_count": 13,
     "metadata": {},
     "output_type": "execute_result"
    }
   ],
   "source": [
    "indeed_jobs['Job Title'].value_counts()"
   ]
  },
  {
   "cell_type": "code",
   "execution_count": 7,
   "metadata": {
    "ExecuteTime": {
     "end_time": "2020-03-12T03:25:51.272151Z",
     "start_time": "2020-03-12T03:25:51.268161Z"
    }
   },
   "outputs": [
    {
     "data": {
      "text/plain": [
       "Index(['CEO Approval', 'Career Opportunities', 'Company Benfits',\n",
       "       'Company Name', 'Competitors', 'Culture Values', 'Days Posted',\n",
       "       'Experience Level', 'Founded', 'Headquarters', 'Hot Post', 'Industry',\n",
       "       'Job Description', 'Job Title', 'Job Type', 'Location', 'Rating',\n",
       "       'Recommend', 'Revenue', 'Salary Estimate', 'Sector',\n",
       "       'Senior Management Approval', 'Size', 'Skills', 'Type of ownership',\n",
       "       'Unnamed: 0', 'Work Life Balance'],\n",
       "      dtype='object')"
      ]
     },
     "execution_count": 7,
     "metadata": {},
     "output_type": "execute_result"
    }
   ],
   "source": [
    "data.columns"
   ]
  },
  {
   "cell_type": "code",
   "execution_count": 8,
   "metadata": {
    "ExecuteTime": {
     "end_time": "2020-03-09T00:26:38.471218Z",
     "start_time": "2020-03-09T00:26:38.463236Z"
    }
   },
   "outputs": [],
   "source": [
    "def get_first_title(title):\n",
    "    # keep \"co-founder, co-ceo, etc\"\n",
    "    title = re.sub(r\"[Cc]o[\\-\\ ]\",\"\", title)\n",
    "    split_titles = re.split(r\"\\,|\\-|\\||\\&|\\:|\\/|and\", title)\n",
    "    return split_titles[0].strip()\n",
    "\n",
    "def get_title_features(title):\n",
    "    features = {}\n",
    "    word_tokens = nltk.word_tokenize(title)\n",
    "    filtered_words = [w for w in word_tokens if not w in stop_words] \n",
    "    for word in filtered_words:\n",
    "        features['contains({})'.format(word.lower())] = True\n",
    "    if len(filtered_words) > 0:\n",
    "        first_key = 'first({})'.format(filtered_words[0].lower())\n",
    "        last_key = 'last({})'.format(filtered_words[-1].lower())\n",
    "        features[first_key] = True\n",
    "        features[last_key] = True\n",
    "    return features"
   ]
  },
  {
   "cell_type": "code",
   "execution_count": 9,
   "metadata": {
    "ExecuteTime": {
     "end_time": "2020-03-09T00:26:54.285684Z",
     "start_time": "2020-03-09T00:26:54.280672Z"
    }
   },
   "outputs": [
    {
     "data": {
      "text/plain": [
       "'Director of Global Operations'"
      ]
     },
     "execution_count": 9,
     "metadata": {},
     "output_type": "execute_result"
    }
   ],
   "source": [
    "get_first_title('Director of Global Operations')"
   ]
  },
  {
   "cell_type": "code",
   "execution_count": 11,
   "metadata": {
    "ExecuteTime": {
     "end_time": "2020-03-09T00:27:46.015474Z",
     "start_time": "2020-03-09T00:27:46.004471Z"
    }
   },
   "outputs": [
    {
     "data": {
      "text/plain": [
       "{'contains(director)': True,\n",
       " 'contains(global)': True,\n",
       " 'contains(operations)': True,\n",
       " 'first(director)': True,\n",
       " 'last(operations)': True}"
      ]
     },
     "execution_count": 11,
     "metadata": {},
     "output_type": "execute_result"
    }
   ],
   "source": [
    "get_title_features('Director of Global Operations')"
   ]
  },
  {
   "cell_type": "markdown",
   "metadata": {},
   "source": [
    "# Actual - Predict Job Search Key "
   ]
  },
  {
   "cell_type": "code",
   "execution_count": 7,
   "metadata": {
    "ExecuteTime": {
     "end_time": "2020-03-17T08:27:46.545889Z",
     "start_time": "2020-03-17T08:27:46.541867Z"
    }
   },
   "outputs": [],
   "source": [
    "from nltk import ngrams\n",
    "from nltk.tokenize import word_tokenize\n",
    "from nltk.corpus import stopwords\n",
    "from nltk.tokenize import RegexpTokenizer"
   ]
  },
  {
   "cell_type": "code",
   "execution_count": 8,
   "metadata": {
    "ExecuteTime": {
     "end_time": "2020-03-17T08:27:47.246980Z",
     "start_time": "2020-03-17T08:27:47.004379Z"
    }
   },
   "outputs": [],
   "source": [
    "import pandas as pd\n",
    "total_data = pd.read_csv(r'C:\\Users\\User\\Desktop\\Fresh\\Vertex\\Taxonomies\\df.csv')\n",
    "analyst = pd.read_csv(r'C:\\Users\\User\\Desktop\\Fresh\\Vertex\\Taxonomies\\df_analyst.csv')\n",
    "engineer = pd.read_csv(r'C:\\Users\\User\\Desktop\\Fresh\\Vertex\\Taxonomies\\df_engineer.csv')\n",
    "operation = pd.read_csv(r'C:\\Users\\User\\Desktop\\Fresh\\Vertex\\Taxonomies\\df_operation.csv')\n",
    "product_manager = pd.read_csv(r'C:\\Users\\User\\Desktop\\Fresh\\Vertex\\Taxonomies\\df_pm.csv')\n",
    "sales = pd.read_csv(r'C:\\Users\\User\\Desktop\\Fresh\\Vertex\\Taxonomies\\df_sales.csv')\n",
    "art_intel = pd.read_csv(r'C:\\Users\\User\\Desktop\\Fresh\\Vertex\\Taxonomies\\dfai.csv')"
   ]
  },
  {
   "cell_type": "code",
   "execution_count": 9,
   "metadata": {
    "ExecuteTime": {
     "end_time": "2020-03-17T08:27:51.062377Z",
     "start_time": "2020-03-17T08:27:51.054398Z"
    }
   },
   "outputs": [
    {
     "name": "stdout",
     "output_type": "stream",
     "text": [
      "(58824, 13)\n",
      "(1534, 13)\n",
      "(1213, 13)\n",
      "(1601, 13)\n",
      "(1418, 13)\n",
      "(1591, 13)\n",
      "(1108, 13)\n"
     ]
    }
   ],
   "source": [
    "print(total_data.shape)\n",
    "print(analyst.shape)\n",
    "print(engineer.shape)\n",
    "print(operation.shape)\n",
    "print(product_manager.shape)\n",
    "print(sales.shape)\n",
    "print(art_intel.shape)"
   ]
  },
  {
   "cell_type": "code",
   "execution_count": 10,
   "metadata": {
    "ExecuteTime": {
     "end_time": "2020-03-17T08:27:52.069727Z",
     "start_time": "2020-03-17T08:27:52.060720Z"
    }
   },
   "outputs": [
    {
     "name": "stdout",
     "output_type": "stream",
     "text": [
      "['Analyst']\n",
      "['Engineer']\n",
      "['operation']\n",
      "['Product Manager']\n",
      "['sales']\n",
      "['Artificial Intelligence']\n"
     ]
    }
   ],
   "source": [
    "print(analyst['Search Key'].unique())\n",
    "print(engineer['Search Key'].unique())\n",
    "print(operation['Search Key'].unique())\n",
    "print(product_manager['Search Key'].unique())\n",
    "print(sales['Search Key'].unique())\n",
    "print(art_intel['Search Key'].unique())"
   ]
  },
  {
   "cell_type": "code",
   "execution_count": 11,
   "metadata": {
    "ExecuteTime": {
     "end_time": "2020-03-17T08:27:53.623690Z",
     "start_time": "2020-03-17T08:27:53.595733Z"
    }
   },
   "outputs": [
    {
     "name": "stderr",
     "output_type": "stream",
     "text": [
      "C:\\Users\\User\\Anaconda3\\lib\\site-packages\\ipykernel_launcher.py:1: FutureWarning: Sorting because non-concatenation axis is not aligned. A future version\n",
      "of pandas will change to not sort by default.\n",
      "\n",
      "To accept the future behavior, pass 'sort=False'.\n",
      "\n",
      "To retain the current behavior and silence the warning, pass 'sort=True'.\n",
      "\n",
      "  \"\"\"Entry point for launching an IPython kernel.\n"
     ]
    }
   ],
   "source": [
    "net_data = pd.concat([total_data, analyst, engineer, operation, product_manager, sales, art_intel], axis=0)"
   ]
  },
  {
   "cell_type": "code",
   "execution_count": 13,
   "metadata": {
    "ExecuteTime": {
     "end_time": "2020-03-17T08:29:52.247566Z",
     "start_time": "2020-03-17T08:29:52.243576Z"
    }
   },
   "outputs": [],
   "source": [
    "net_data['Date'] = '10-03-2020'"
   ]
  },
  {
   "cell_type": "code",
   "execution_count": 16,
   "metadata": {
    "ExecuteTime": {
     "end_time": "2020-03-17T08:31:23.552066Z",
     "start_time": "2020-03-17T08:31:23.425272Z"
    }
   },
   "outputs": [],
   "source": [
    "net_data = net_data.reset_index().drop(['Unnamed: 0', 'index'], axis=1).dropna(subset=['Title', 'Company']).drop_duplicates()"
   ]
  },
  {
   "cell_type": "code",
   "execution_count": 20,
   "metadata": {
    "ExecuteTime": {
     "end_time": "2020-03-17T08:32:23.810905Z",
     "start_time": "2020-03-17T08:32:23.784974Z"
    }
   },
   "outputs": [
    {
     "data": {
      "text/html": [
       "<div>\n",
       "<style scoped>\n",
       "    .dataframe tbody tr th:only-of-type {\n",
       "        vertical-align: middle;\n",
       "    }\n",
       "\n",
       "    .dataframe tbody tr th {\n",
       "        vertical-align: top;\n",
       "    }\n",
       "\n",
       "    .dataframe thead th {\n",
       "        text-align: right;\n",
       "    }\n",
       "</style>\n",
       "<table border=\"1\" class=\"dataframe\">\n",
       "  <thead>\n",
       "    <tr style=\"text-align: right;\">\n",
       "      <th></th>\n",
       "      <th>Company</th>\n",
       "      <th>Days Posted</th>\n",
       "      <th>Description</th>\n",
       "      <th>Experience Level</th>\n",
       "      <th>Job Type</th>\n",
       "      <th>Location</th>\n",
       "      <th>Rating</th>\n",
       "      <th>Salary</th>\n",
       "      <th>Search Key</th>\n",
       "      <th>Skills</th>\n",
       "      <th>Sponsored</th>\n",
       "      <th>Title</th>\n",
       "      <th>Date</th>\n",
       "    </tr>\n",
       "  </thead>\n",
       "  <tbody>\n",
       "    <tr>\n",
       "      <td>0</td>\n",
       "      <td>Barclays</td>\n",
       "      <td>3 days ago</td>\n",
       "      <td>\\n\\nAchieves operational excellence by effecti...</td>\n",
       "      <td>NaN</td>\n",
       "      <td>NaN</td>\n",
       "      <td>Delhi, Delhi</td>\n",
       "      <td>4.0</td>\n",
       "      <td>NaN</td>\n",
       "      <td>operational analyst</td>\n",
       "      <td>NaN</td>\n",
       "      <td>Organic</td>\n",
       "      <td>Governance Analyst</td>\n",
       "      <td>10-03-2020</td>\n",
       "    </tr>\n",
       "    <tr>\n",
       "      <td>1</td>\n",
       "      <td>RBS</td>\n",
       "      <td>Just posted</td>\n",
       "      <td>\\n\\nKnowledge and experience of operational pr...</td>\n",
       "      <td>NaN</td>\n",
       "      <td>NaN</td>\n",
       "      <td>Gurgaon, Haryana</td>\n",
       "      <td>3.9</td>\n",
       "      <td>NaN</td>\n",
       "      <td>operational analyst</td>\n",
       "      <td>NaN</td>\n",
       "      <td>Organic</td>\n",
       "      <td>Production Management Analyst</td>\n",
       "      <td>10-03-2020</td>\n",
       "    </tr>\n",
       "    <tr>\n",
       "      <td>2</td>\n",
       "      <td>Genworth</td>\n",
       "      <td>2 days ago</td>\n",
       "      <td>\\n\\nAs a QA/Testing Analyst on the LTC Custome...</td>\n",
       "      <td>NaN</td>\n",
       "      <td>NaN</td>\n",
       "      <td>Mumbai, Maharashtra</td>\n",
       "      <td>3.7</td>\n",
       "      <td>NaN</td>\n",
       "      <td>operational analyst</td>\n",
       "      <td>Analysis Skills, Test Automation</td>\n",
       "      <td>Organic</td>\n",
       "      <td>QA Testing Analyst</td>\n",
       "      <td>10-03-2020</td>\n",
       "    </tr>\n",
       "    <tr>\n",
       "      <td>3</td>\n",
       "      <td>Novo Nordisk</td>\n",
       "      <td>1 day ago</td>\n",
       "      <td>\\n\\nYou will be providing support and drive th...</td>\n",
       "      <td>NaN</td>\n",
       "      <td>NaN</td>\n",
       "      <td>Bengaluru, Karnataka</td>\n",
       "      <td>4.1</td>\n",
       "      <td>NaN</td>\n",
       "      <td>operational analyst</td>\n",
       "      <td>NaN</td>\n",
       "      <td>Organic</td>\n",
       "      <td>Analyst</td>\n",
       "      <td>10-03-2020</td>\n",
       "    </tr>\n",
       "    <tr>\n",
       "      <td>4</td>\n",
       "      <td>Barclays</td>\n",
       "      <td>3 days ago</td>\n",
       "      <td>\\n\\nThe range of models encompasses the majori...</td>\n",
       "      <td>NaN</td>\n",
       "      <td>NaN</td>\n",
       "      <td>Delhi, Delhi</td>\n",
       "      <td>4.0</td>\n",
       "      <td>NaN</td>\n",
       "      <td>operational analyst</td>\n",
       "      <td>NaN</td>\n",
       "      <td>Organic</td>\n",
       "      <td>Modelling Analyst</td>\n",
       "      <td>10-03-2020</td>\n",
       "    </tr>\n",
       "    <tr>\n",
       "      <td>...</td>\n",
       "      <td>...</td>\n",
       "      <td>...</td>\n",
       "      <td>...</td>\n",
       "      <td>...</td>\n",
       "      <td>...</td>\n",
       "      <td>...</td>\n",
       "      <td>...</td>\n",
       "      <td>...</td>\n",
       "      <td>...</td>\n",
       "      <td>...</td>\n",
       "      <td>...</td>\n",
       "      <td>...</td>\n",
       "      <td>...</td>\n",
       "    </tr>\n",
       "    <tr>\n",
       "      <td>67281</td>\n",
       "      <td>Société Générale</td>\n",
       "      <td>25 days ago</td>\n",
       "      <td>\\n\\nAn experienced Storage and Data Protection...</td>\n",
       "      <td>NaN</td>\n",
       "      <td>NaN</td>\n",
       "      <td>Bengaluru, Karnataka</td>\n",
       "      <td>3.9</td>\n",
       "      <td>NaN</td>\n",
       "      <td>Artificial Intelligence</td>\n",
       "      <td>NaN</td>\n",
       "      <td>Organic</td>\n",
       "      <td>Specialist System Engineer- Storage</td>\n",
       "      <td>10-03-2020</td>\n",
       "    </tr>\n",
       "    <tr>\n",
       "      <td>67282</td>\n",
       "      <td>Wells Fargo</td>\n",
       "      <td>24 days ago</td>\n",
       "      <td>\\n\\nWholesale, Wealth &amp; Investment Management ...</td>\n",
       "      <td>NaN</td>\n",
       "      <td>NaN</td>\n",
       "      <td>Bengaluru, Karnataka</td>\n",
       "      <td>3.7</td>\n",
       "      <td>NaN</td>\n",
       "      <td>Artificial Intelligence</td>\n",
       "      <td>NaN</td>\n",
       "      <td>Organic</td>\n",
       "      <td>Senior Technology Specialist</td>\n",
       "      <td>10-03-2020</td>\n",
       "    </tr>\n",
       "    <tr>\n",
       "      <td>67283</td>\n",
       "      <td>Wells Fargo</td>\n",
       "      <td>25 days ago</td>\n",
       "      <td>\\n\\nWholesale, Wealth &amp; Investment Management ...</td>\n",
       "      <td>NaN</td>\n",
       "      <td>NaN</td>\n",
       "      <td>Bengaluru, Karnataka</td>\n",
       "      <td>3.7</td>\n",
       "      <td>NaN</td>\n",
       "      <td>Artificial Intelligence</td>\n",
       "      <td>NaN</td>\n",
       "      <td>Organic</td>\n",
       "      <td>Senior Technology Specialist</td>\n",
       "      <td>10-03-2020</td>\n",
       "    </tr>\n",
       "    <tr>\n",
       "      <td>67284</td>\n",
       "      <td>Capgemini</td>\n",
       "      <td>19 days ago</td>\n",
       "      <td>\\n\\nPython developer-4to6years-Mumbai location...</td>\n",
       "      <td>NaN</td>\n",
       "      <td>NaN</td>\n",
       "      <td>Mumbai, Maharashtra</td>\n",
       "      <td>3.8</td>\n",
       "      <td>NaN</td>\n",
       "      <td>Artificial Intelligence</td>\n",
       "      <td>NaN</td>\n",
       "      <td>Organic</td>\n",
       "      <td>Python developer--4to6years--Mumbai location</td>\n",
       "      <td>10-03-2020</td>\n",
       "    </tr>\n",
       "    <tr>\n",
       "      <td>67285</td>\n",
       "      <td>Société Générale</td>\n",
       "      <td>25 days ago</td>\n",
       "      <td>\\n\\nBachelor's degree in IT/IS or related fiel...</td>\n",
       "      <td>NaN</td>\n",
       "      <td>NaN</td>\n",
       "      <td>Bengaluru, Karnataka</td>\n",
       "      <td>3.9</td>\n",
       "      <td>NaN</td>\n",
       "      <td>Artificial Intelligence</td>\n",
       "      <td>NaN</td>\n",
       "      <td>Organic</td>\n",
       "      <td>Sr. Support Engineer</td>\n",
       "      <td>10-03-2020</td>\n",
       "    </tr>\n",
       "  </tbody>\n",
       "</table>\n",
       "<p>25083 rows × 13 columns</p>\n",
       "</div>"
      ],
      "text/plain": [
       "                Company  Days Posted  \\\n",
       "0              Barclays   3 days ago   \n",
       "1                   RBS  Just posted   \n",
       "2              Genworth   2 days ago   \n",
       "3          Novo Nordisk    1 day ago   \n",
       "4              Barclays   3 days ago   \n",
       "...                 ...          ...   \n",
       "67281  Société Générale  25 days ago   \n",
       "67282       Wells Fargo  24 days ago   \n",
       "67283       Wells Fargo  25 days ago   \n",
       "67284         Capgemini  19 days ago   \n",
       "67285  Société Générale  25 days ago   \n",
       "\n",
       "                                             Description  Experience Level  \\\n",
       "0      \\n\\nAchieves operational excellence by effecti...               NaN   \n",
       "1      \\n\\nKnowledge and experience of operational pr...               NaN   \n",
       "2      \\n\\nAs a QA/Testing Analyst on the LTC Custome...               NaN   \n",
       "3      \\n\\nYou will be providing support and drive th...               NaN   \n",
       "4      \\n\\nThe range of models encompasses the majori...               NaN   \n",
       "...                                                  ...               ...   \n",
       "67281  \\n\\nAn experienced Storage and Data Protection...               NaN   \n",
       "67282  \\n\\nWholesale, Wealth & Investment Management ...               NaN   \n",
       "67283  \\n\\nWholesale, Wealth & Investment Management ...               NaN   \n",
       "67284  \\n\\nPython developer-4to6years-Mumbai location...               NaN   \n",
       "67285  \\n\\nBachelor's degree in IT/IS or related fiel...               NaN   \n",
       "\n",
       "       Job Type              Location  Rating Salary               Search Key  \\\n",
       "0           NaN          Delhi, Delhi     4.0    NaN      operational analyst   \n",
       "1           NaN      Gurgaon, Haryana     3.9    NaN      operational analyst   \n",
       "2           NaN   Mumbai, Maharashtra     3.7    NaN      operational analyst   \n",
       "3           NaN  Bengaluru, Karnataka     4.1    NaN      operational analyst   \n",
       "4           NaN          Delhi, Delhi     4.0    NaN      operational analyst   \n",
       "...         ...                   ...     ...    ...                      ...   \n",
       "67281       NaN  Bengaluru, Karnataka     3.9    NaN  Artificial Intelligence   \n",
       "67282       NaN  Bengaluru, Karnataka     3.7    NaN  Artificial Intelligence   \n",
       "67283       NaN  Bengaluru, Karnataka     3.7    NaN  Artificial Intelligence   \n",
       "67284       NaN   Mumbai, Maharashtra     3.8    NaN  Artificial Intelligence   \n",
       "67285       NaN  Bengaluru, Karnataka     3.9    NaN  Artificial Intelligence   \n",
       "\n",
       "                                 Skills Sponsored  \\\n",
       "0                                   NaN   Organic   \n",
       "1                                   NaN   Organic   \n",
       "2      Analysis Skills, Test Automation   Organic   \n",
       "3                                   NaN   Organic   \n",
       "4                                   NaN   Organic   \n",
       "...                                 ...       ...   \n",
       "67281                               NaN   Organic   \n",
       "67282                               NaN   Organic   \n",
       "67283                               NaN   Organic   \n",
       "67284                               NaN   Organic   \n",
       "67285                               NaN   Organic   \n",
       "\n",
       "                                              Title        Date  \n",
       "0                                Governance Analyst  10-03-2020  \n",
       "1                     Production Management Analyst  10-03-2020  \n",
       "2                                QA Testing Analyst  10-03-2020  \n",
       "3                                           Analyst  10-03-2020  \n",
       "4                                 Modelling Analyst  10-03-2020  \n",
       "...                                             ...         ...  \n",
       "67281           Specialist System Engineer- Storage  10-03-2020  \n",
       "67282                  Senior Technology Specialist  10-03-2020  \n",
       "67283                  Senior Technology Specialist  10-03-2020  \n",
       "67284  Python developer--4to6years--Mumbai location  10-03-2020  \n",
       "67285                          Sr. Support Engineer  10-03-2020  \n",
       "\n",
       "[25083 rows x 13 columns]"
      ]
     },
     "execution_count": 20,
     "metadata": {},
     "output_type": "execute_result"
    }
   ],
   "source": [
    "net_data.loc[net_data['Days Posted'] != '30+ days ago']"
   ]
  },
  {
   "cell_type": "code",
   "execution_count": 17,
   "metadata": {
    "ExecuteTime": {
     "end_time": "2020-03-17T08:31:25.994433Z",
     "start_time": "2020-03-17T08:31:25.990428Z"
    }
   },
   "outputs": [
    {
     "data": {
      "text/plain": [
       "(51100, 13)"
      ]
     },
     "execution_count": 17,
     "metadata": {},
     "output_type": "execute_result"
    }
   ],
   "source": [
    "net_data.shape"
   ]
  },
  {
   "cell_type": "code",
   "execution_count": 13,
   "metadata": {
    "ExecuteTime": {
     "end_time": "2020-03-12T03:26:39.704390Z",
     "start_time": "2020-03-12T03:26:38.757792Z"
    }
   },
   "outputs": [],
   "source": [
    "net_data.to_csv(r'C:\\Users\\User\\Desktop\\Fresh\\Vertex\\Taxonomies\\indeed_jobs_table_v3.csv')"
   ]
  },
  {
   "cell_type": "code",
   "execution_count": 14,
   "metadata": {
    "ExecuteTime": {
     "end_time": "2020-03-12T03:26:40.680739Z",
     "start_time": "2020-03-12T03:26:40.592467Z"
    }
   },
   "outputs": [],
   "source": [
    "net_data = net_data.reset_index().drop(['Unnamed: 0', 'index'], axis=1).dropna(how='all')"
   ]
  },
  {
   "cell_type": "code",
   "execution_count": 15,
   "metadata": {
    "ExecuteTime": {
     "end_time": "2020-03-12T03:27:12.641382Z",
     "start_time": "2020-03-12T03:27:12.635427Z"
    }
   },
   "outputs": [
    {
     "data": {
      "text/plain": [
       "Index(['Company', 'Days Posted', 'Description', 'Experience Level', 'Job Type',\n",
       "       'Location', 'Rating', 'Salary', 'Search Key', 'Skills', 'Sponsored',\n",
       "       'Title'],\n",
       "      dtype='object')"
      ]
     },
     "execution_count": 15,
     "metadata": {},
     "output_type": "execute_result"
    }
   ],
   "source": [
    "net_data.columns"
   ]
  },
  {
   "cell_type": "code",
   "execution_count": 16,
   "metadata": {
    "ExecuteTime": {
     "end_time": "2020-03-12T03:27:13.840819Z",
     "start_time": "2020-03-12T03:27:13.837816Z"
    }
   },
   "outputs": [],
   "source": [
    "tokenizer = RegexpTokenizer(r'\\w+')\n",
    "stop_words = stopwords.words('english')"
   ]
  },
  {
   "cell_type": "code",
   "execution_count": 17,
   "metadata": {
    "ExecuteTime": {
     "end_time": "2020-03-12T03:27:19.662491Z",
     "start_time": "2020-03-12T03:27:15.778084Z"
    }
   },
   "outputs": [],
   "source": [
    "#lowercase\n",
    "net_data[\"Job Description Lowered\"] = net_data['Description'].str.lower().str.replace(\"\\n\\n\", \" \")\n",
    "# #remove \\n\n",
    "# net_data[\"Job Description Lowered\"] = net_data[\"Job Description Lowered\"]\n",
    "#remove punctuation and tokenize\n",
    "net_data[\"Tokens\"] = net_data.apply(lambda row: tokenizer.tokenize(row['Job Description Lowered']), axis=1)\n",
    "#remove stopwords\n",
    "net_data['Tokens_1'] = net_data['Tokens'].apply(lambda x: [item for item in x if item not in stop_words])\n",
    "#merge tokens back into string text\n",
    "net_data['Job Description Tokened']=[\" \".join(txt) for txt in net_data[\"Tokens_1\"].values]\n",
    "#create bigrams\n",
    "net_data[\"Tokens_2\"] = net_data[\"Tokens_1\"].apply(lambda row: list(ngrams(row, 2)))"
   ]
  },
  {
   "cell_type": "code",
   "execution_count": 18,
   "metadata": {
    "ExecuteTime": {
     "end_time": "2020-03-12T03:27:19.676375Z",
     "start_time": "2020-03-12T03:27:19.663401Z"
    }
   },
   "outputs": [
    {
     "name": "stdout",
     "output_type": "stream",
     "text": [
      "[37 37 37 ...  1  1  1]\n"
     ]
    }
   ],
   "source": [
    "from sklearn.preprocessing import LabelEncoder\n",
    "encoder = LabelEncoder()\n",
    "y = encoder.fit_transform(net_data['Search Key'])\n",
    "print(y)"
   ]
  },
  {
   "cell_type": "code",
   "execution_count": 19,
   "metadata": {
    "ExecuteTime": {
     "end_time": "2020-03-12T03:27:21.725047Z",
     "start_time": "2020-03-12T03:27:21.713051Z"
    }
   },
   "outputs": [
    {
     "data": {
      "text/plain": [
       "64"
      ]
     },
     "execution_count": 19,
     "metadata": {},
     "output_type": "execute_result"
    }
   ],
   "source": [
    "len(set(y))"
   ]
  },
  {
   "cell_type": "code",
   "execution_count": 20,
   "metadata": {
    "ExecuteTime": {
     "end_time": "2020-03-12T03:27:22.818740Z",
     "start_time": "2020-03-12T03:27:22.813755Z"
    }
   },
   "outputs": [],
   "source": [
    "net_data['search key class'] = y"
   ]
  },
  {
   "cell_type": "code",
   "execution_count": 21,
   "metadata": {
    "ExecuteTime": {
     "end_time": "2020-03-12T03:27:24.025964Z",
     "start_time": "2020-03-12T03:27:23.978093Z"
    }
   },
   "outputs": [
    {
     "data": {
      "text/html": [
       "<div>\n",
       "<style scoped>\n",
       "    .dataframe tbody tr th:only-of-type {\n",
       "        vertical-align: middle;\n",
       "    }\n",
       "\n",
       "    .dataframe tbody tr th {\n",
       "        vertical-align: top;\n",
       "    }\n",
       "\n",
       "    .dataframe thead th {\n",
       "        text-align: right;\n",
       "    }\n",
       "</style>\n",
       "<table border=\"1\" class=\"dataframe\">\n",
       "  <thead>\n",
       "    <tr style=\"text-align: right;\">\n",
       "      <th></th>\n",
       "      <th>Company</th>\n",
       "      <th>Days Posted</th>\n",
       "      <th>Description</th>\n",
       "      <th>Experience Level</th>\n",
       "      <th>Job Type</th>\n",
       "      <th>Location</th>\n",
       "      <th>Rating</th>\n",
       "      <th>Salary</th>\n",
       "      <th>Search Key</th>\n",
       "      <th>Skills</th>\n",
       "      <th>Sponsored</th>\n",
       "      <th>Title</th>\n",
       "      <th>Job Description Lowered</th>\n",
       "      <th>Tokens</th>\n",
       "      <th>Tokens_1</th>\n",
       "      <th>Job Description Tokened</th>\n",
       "      <th>Tokens_2</th>\n",
       "      <th>search key class</th>\n",
       "    </tr>\n",
       "  </thead>\n",
       "  <tbody>\n",
       "    <tr>\n",
       "      <td>0</td>\n",
       "      <td>Barclays</td>\n",
       "      <td>3 days ago</td>\n",
       "      <td>\\n\\nAchieves operational excellence by effecti...</td>\n",
       "      <td>NaN</td>\n",
       "      <td>NaN</td>\n",
       "      <td>Delhi, Delhi</td>\n",
       "      <td>4.0</td>\n",
       "      <td>NaN</td>\n",
       "      <td>operational analyst</td>\n",
       "      <td>NaN</td>\n",
       "      <td>Organic</td>\n",
       "      <td>Governance Analyst</td>\n",
       "      <td>achieves operational excellence by effectivel...</td>\n",
       "      <td>[achieves, operational, excellence, by, effect...</td>\n",
       "      <td>[achieves, operational, excellence, effectivel...</td>\n",
       "      <td>achieves operational excellence effectively ap...</td>\n",
       "      <td>[(achieves, operational), (operational, excell...</td>\n",
       "      <td>37</td>\n",
       "    </tr>\n",
       "    <tr>\n",
       "      <td>1</td>\n",
       "      <td>RBS</td>\n",
       "      <td>Just posted</td>\n",
       "      <td>\\n\\nKnowledge and experience of operational pr...</td>\n",
       "      <td>NaN</td>\n",
       "      <td>NaN</td>\n",
       "      <td>Gurgaon, Haryana</td>\n",
       "      <td>3.9</td>\n",
       "      <td>NaN</td>\n",
       "      <td>operational analyst</td>\n",
       "      <td>NaN</td>\n",
       "      <td>Organic</td>\n",
       "      <td>Production Management Analyst</td>\n",
       "      <td>knowledge and experience of operational princ...</td>\n",
       "      <td>[knowledge, and, experience, of, operational, ...</td>\n",
       "      <td>[knowledge, experience, operational, principle...</td>\n",
       "      <td>knowledge experience operational principles jo...</td>\n",
       "      <td>[(knowledge, experience), (experience, operati...</td>\n",
       "      <td>37</td>\n",
       "    </tr>\n",
       "    <tr>\n",
       "      <td>2</td>\n",
       "      <td>Genworth</td>\n",
       "      <td>2 days ago</td>\n",
       "      <td>\\n\\nAs a QA/Testing Analyst on the LTC Custome...</td>\n",
       "      <td>NaN</td>\n",
       "      <td>NaN</td>\n",
       "      <td>Mumbai, Maharashtra</td>\n",
       "      <td>3.7</td>\n",
       "      <td>NaN</td>\n",
       "      <td>operational analyst</td>\n",
       "      <td>Analysis Skills, Test Automation</td>\n",
       "      <td>Organic</td>\n",
       "      <td>QA Testing Analyst</td>\n",
       "      <td>as a qa/testing analyst on the ltc customer s...</td>\n",
       "      <td>[as, a, qa, testing, analyst, on, the, ltc, cu...</td>\n",
       "      <td>[qa, testing, analyst, ltc, customer, solution...</td>\n",
       "      <td>qa testing analyst ltc customer solutions team...</td>\n",
       "      <td>[(qa, testing), (testing, analyst), (analyst, ...</td>\n",
       "      <td>37</td>\n",
       "    </tr>\n",
       "    <tr>\n",
       "      <td>3</td>\n",
       "      <td>Novo Nordisk</td>\n",
       "      <td>1 day ago</td>\n",
       "      <td>\\n\\nYou will be providing support and drive th...</td>\n",
       "      <td>NaN</td>\n",
       "      <td>NaN</td>\n",
       "      <td>Bengaluru, Karnataka</td>\n",
       "      <td>4.1</td>\n",
       "      <td>NaN</td>\n",
       "      <td>operational analyst</td>\n",
       "      <td>NaN</td>\n",
       "      <td>Organic</td>\n",
       "      <td>Analyst</td>\n",
       "      <td>you will be providing support and drive the p...</td>\n",
       "      <td>[you, will, be, providing, support, and, drive...</td>\n",
       "      <td>[providing, support, drive, preparation, high,...</td>\n",
       "      <td>providing support drive preparation high quali...</td>\n",
       "      <td>[(providing, support), (support, drive), (driv...</td>\n",
       "      <td>37</td>\n",
       "    </tr>\n",
       "    <tr>\n",
       "      <td>4</td>\n",
       "      <td>Barclays</td>\n",
       "      <td>3 days ago</td>\n",
       "      <td>\\n\\nThe range of models encompasses the majori...</td>\n",
       "      <td>NaN</td>\n",
       "      <td>NaN</td>\n",
       "      <td>Delhi, Delhi</td>\n",
       "      <td>4.0</td>\n",
       "      <td>NaN</td>\n",
       "      <td>operational analyst</td>\n",
       "      <td>NaN</td>\n",
       "      <td>Organic</td>\n",
       "      <td>Modelling Analyst</td>\n",
       "      <td>the range of models encompasses the majority ...</td>\n",
       "      <td>[the, range, of, models, encompasses, the, maj...</td>\n",
       "      <td>[range, models, encompasses, majority, empiric...</td>\n",
       "      <td>range models encompasses majority empirical mo...</td>\n",
       "      <td>[(range, models), (models, encompasses), (enco...</td>\n",
       "      <td>37</td>\n",
       "    </tr>\n",
       "    <tr>\n",
       "      <td>...</td>\n",
       "      <td>...</td>\n",
       "      <td>...</td>\n",
       "      <td>...</td>\n",
       "      <td>...</td>\n",
       "      <td>...</td>\n",
       "      <td>...</td>\n",
       "      <td>...</td>\n",
       "      <td>...</td>\n",
       "      <td>...</td>\n",
       "      <td>...</td>\n",
       "      <td>...</td>\n",
       "      <td>...</td>\n",
       "      <td>...</td>\n",
       "      <td>...</td>\n",
       "      <td>...</td>\n",
       "      <td>...</td>\n",
       "      <td>...</td>\n",
       "      <td>...</td>\n",
       "    </tr>\n",
       "    <tr>\n",
       "      <td>67284</td>\n",
       "      <td>Capgemini</td>\n",
       "      <td>19 days ago</td>\n",
       "      <td>\\n\\nPython developer-4to6years-Mumbai location...</td>\n",
       "      <td>NaN</td>\n",
       "      <td>NaN</td>\n",
       "      <td>Mumbai, Maharashtra</td>\n",
       "      <td>3.8</td>\n",
       "      <td>NaN</td>\n",
       "      <td>Artificial Intelligence</td>\n",
       "      <td>NaN</td>\n",
       "      <td>Organic</td>\n",
       "      <td>Python developer--4to6years--Mumbai location</td>\n",
       "      <td>python developer-4to6years-mumbai location.\\n...</td>\n",
       "      <td>[python, developer, 4to6years, mumbai, locatio...</td>\n",
       "      <td>[python, developer, 4to6years, mumbai, locatio...</td>\n",
       "      <td>python developer 4to6years mumbai location hir...</td>\n",
       "      <td>[(python, developer), (developer, 4to6years), ...</td>\n",
       "      <td>1</td>\n",
       "    </tr>\n",
       "    <tr>\n",
       "      <td>67285</td>\n",
       "      <td>Société Générale</td>\n",
       "      <td>25 days ago</td>\n",
       "      <td>\\n\\nBachelor's degree in IT/IS or related fiel...</td>\n",
       "      <td>NaN</td>\n",
       "      <td>NaN</td>\n",
       "      <td>Bengaluru, Karnataka</td>\n",
       "      <td>3.9</td>\n",
       "      <td>NaN</td>\n",
       "      <td>Artificial Intelligence</td>\n",
       "      <td>NaN</td>\n",
       "      <td>Organic</td>\n",
       "      <td>Sr. Support Engineer</td>\n",
       "      <td>bachelor's degree in it/is or related field, ...</td>\n",
       "      <td>[bachelor, s, degree, in, it, is, or, related,...</td>\n",
       "      <td>[bachelor, degree, related, field, equivalent,...</td>\n",
       "      <td>bachelor degree related field equivalent exper...</td>\n",
       "      <td>[(bachelor, degree), (degree, related), (relat...</td>\n",
       "      <td>1</td>\n",
       "    </tr>\n",
       "    <tr>\n",
       "      <td>67286</td>\n",
       "      <td>Accenture</td>\n",
       "      <td>30+ days ago</td>\n",
       "      <td>\\n\\nAccenture Applied Intelligence, part of Ac...</td>\n",
       "      <td>NaN</td>\n",
       "      <td>NaN</td>\n",
       "      <td>Bengaluru, Karnataka</td>\n",
       "      <td>4.0</td>\n",
       "      <td>NaN</td>\n",
       "      <td>Artificial Intelligence</td>\n",
       "      <td>NaN</td>\n",
       "      <td>Organic</td>\n",
       "      <td>ACN - Digital - Analytics - CDM - 10</td>\n",
       "      <td>accenture applied intelligence, part of accen...</td>\n",
       "      <td>[accenture, applied, intelligence, part, of, a...</td>\n",
       "      <td>[accenture, applied, intelligence, part, accen...</td>\n",
       "      <td>accenture applied intelligence part accenture ...</td>\n",
       "      <td>[(accenture, applied), (applied, intelligence)...</td>\n",
       "      <td>1</td>\n",
       "    </tr>\n",
       "    <tr>\n",
       "      <td>67287</td>\n",
       "      <td>The Boston Consulting Group</td>\n",
       "      <td>30+ days ago</td>\n",
       "      <td>\\n\\nBCG GAMMA combines innovative skills in co...</td>\n",
       "      <td>NaN</td>\n",
       "      <td>NaN</td>\n",
       "      <td>Bengaluru, Karnataka</td>\n",
       "      <td>4.2</td>\n",
       "      <td>NaN</td>\n",
       "      <td>Artificial Intelligence</td>\n",
       "      <td>NaN</td>\n",
       "      <td>Organic</td>\n",
       "      <td>Senior Analyst - GAMMA</td>\n",
       "      <td>bcg gamma combines innovative skills in compu...</td>\n",
       "      <td>[bcg, gamma, combines, innovative, skills, in,...</td>\n",
       "      <td>[bcg, gamma, combines, innovative, skills, com...</td>\n",
       "      <td>bcg gamma combines innovative skills computer ...</td>\n",
       "      <td>[(bcg, gamma), (gamma, combines), (combines, i...</td>\n",
       "      <td>1</td>\n",
       "    </tr>\n",
       "    <tr>\n",
       "      <td>67288</td>\n",
       "      <td>Microsoft</td>\n",
       "      <td>30+ days ago</td>\n",
       "      <td>\\n\\nWhile you’ve heard about Microsoft’s Digit...</td>\n",
       "      <td>NaN</td>\n",
       "      <td>NaN</td>\n",
       "      <td>Hyderabad, Telangana</td>\n",
       "      <td>4.2</td>\n",
       "      <td>NaN</td>\n",
       "      <td>Artificial Intelligence</td>\n",
       "      <td>NaN</td>\n",
       "      <td>Organic</td>\n",
       "      <td>Sr Software Engineer</td>\n",
       "      <td>while you’ve heard about microsoft’s digital ...</td>\n",
       "      <td>[while, you, ve, heard, about, microsoft, s, d...</td>\n",
       "      <td>[heard, microsoft, digital, transformation, le...</td>\n",
       "      <td>heard microsoft digital transformation leading...</td>\n",
       "      <td>[(heard, microsoft), (microsoft, digital), (di...</td>\n",
       "      <td>1</td>\n",
       "    </tr>\n",
       "  </tbody>\n",
       "</table>\n",
       "<p>67289 rows × 18 columns</p>\n",
       "</div>"
      ],
      "text/plain": [
       "                           Company   Days Posted  \\\n",
       "0                         Barclays    3 days ago   \n",
       "1                              RBS   Just posted   \n",
       "2                         Genworth    2 days ago   \n",
       "3                     Novo Nordisk     1 day ago   \n",
       "4                         Barclays    3 days ago   \n",
       "...                            ...           ...   \n",
       "67284                    Capgemini   19 days ago   \n",
       "67285             Société Générale   25 days ago   \n",
       "67286                    Accenture  30+ days ago   \n",
       "67287  The Boston Consulting Group  30+ days ago   \n",
       "67288                    Microsoft  30+ days ago   \n",
       "\n",
       "                                             Description  Experience Level  \\\n",
       "0      \\n\\nAchieves operational excellence by effecti...               NaN   \n",
       "1      \\n\\nKnowledge and experience of operational pr...               NaN   \n",
       "2      \\n\\nAs a QA/Testing Analyst on the LTC Custome...               NaN   \n",
       "3      \\n\\nYou will be providing support and drive th...               NaN   \n",
       "4      \\n\\nThe range of models encompasses the majori...               NaN   \n",
       "...                                                  ...               ...   \n",
       "67284  \\n\\nPython developer-4to6years-Mumbai location...               NaN   \n",
       "67285  \\n\\nBachelor's degree in IT/IS or related fiel...               NaN   \n",
       "67286  \\n\\nAccenture Applied Intelligence, part of Ac...               NaN   \n",
       "67287  \\n\\nBCG GAMMA combines innovative skills in co...               NaN   \n",
       "67288  \\n\\nWhile you’ve heard about Microsoft’s Digit...               NaN   \n",
       "\n",
       "       Job Type              Location  Rating Salary               Search Key  \\\n",
       "0           NaN          Delhi, Delhi     4.0    NaN      operational analyst   \n",
       "1           NaN      Gurgaon, Haryana     3.9    NaN      operational analyst   \n",
       "2           NaN   Mumbai, Maharashtra     3.7    NaN      operational analyst   \n",
       "3           NaN  Bengaluru, Karnataka     4.1    NaN      operational analyst   \n",
       "4           NaN          Delhi, Delhi     4.0    NaN      operational analyst   \n",
       "...         ...                   ...     ...    ...                      ...   \n",
       "67284       NaN   Mumbai, Maharashtra     3.8    NaN  Artificial Intelligence   \n",
       "67285       NaN  Bengaluru, Karnataka     3.9    NaN  Artificial Intelligence   \n",
       "67286       NaN  Bengaluru, Karnataka     4.0    NaN  Artificial Intelligence   \n",
       "67287       NaN  Bengaluru, Karnataka     4.2    NaN  Artificial Intelligence   \n",
       "67288       NaN  Hyderabad, Telangana     4.2    NaN  Artificial Intelligence   \n",
       "\n",
       "                                 Skills Sponsored  \\\n",
       "0                                   NaN   Organic   \n",
       "1                                   NaN   Organic   \n",
       "2      Analysis Skills, Test Automation   Organic   \n",
       "3                                   NaN   Organic   \n",
       "4                                   NaN   Organic   \n",
       "...                                 ...       ...   \n",
       "67284                               NaN   Organic   \n",
       "67285                               NaN   Organic   \n",
       "67286                               NaN   Organic   \n",
       "67287                               NaN   Organic   \n",
       "67288                               NaN   Organic   \n",
       "\n",
       "                                              Title  \\\n",
       "0                                Governance Analyst   \n",
       "1                     Production Management Analyst   \n",
       "2                                QA Testing Analyst   \n",
       "3                                           Analyst   \n",
       "4                                 Modelling Analyst   \n",
       "...                                             ...   \n",
       "67284  Python developer--4to6years--Mumbai location   \n",
       "67285                          Sr. Support Engineer   \n",
       "67286          ACN - Digital - Analytics - CDM - 10   \n",
       "67287                        Senior Analyst - GAMMA   \n",
       "67288                          Sr Software Engineer   \n",
       "\n",
       "                                 Job Description Lowered  \\\n",
       "0       achieves operational excellence by effectivel...   \n",
       "1       knowledge and experience of operational princ...   \n",
       "2       as a qa/testing analyst on the ltc customer s...   \n",
       "3       you will be providing support and drive the p...   \n",
       "4       the range of models encompasses the majority ...   \n",
       "...                                                  ...   \n",
       "67284   python developer-4to6years-mumbai location.\\n...   \n",
       "67285   bachelor's degree in it/is or related field, ...   \n",
       "67286   accenture applied intelligence, part of accen...   \n",
       "67287   bcg gamma combines innovative skills in compu...   \n",
       "67288   while you’ve heard about microsoft’s digital ...   \n",
       "\n",
       "                                                  Tokens  \\\n",
       "0      [achieves, operational, excellence, by, effect...   \n",
       "1      [knowledge, and, experience, of, operational, ...   \n",
       "2      [as, a, qa, testing, analyst, on, the, ltc, cu...   \n",
       "3      [you, will, be, providing, support, and, drive...   \n",
       "4      [the, range, of, models, encompasses, the, maj...   \n",
       "...                                                  ...   \n",
       "67284  [python, developer, 4to6years, mumbai, locatio...   \n",
       "67285  [bachelor, s, degree, in, it, is, or, related,...   \n",
       "67286  [accenture, applied, intelligence, part, of, a...   \n",
       "67287  [bcg, gamma, combines, innovative, skills, in,...   \n",
       "67288  [while, you, ve, heard, about, microsoft, s, d...   \n",
       "\n",
       "                                                Tokens_1  \\\n",
       "0      [achieves, operational, excellence, effectivel...   \n",
       "1      [knowledge, experience, operational, principle...   \n",
       "2      [qa, testing, analyst, ltc, customer, solution...   \n",
       "3      [providing, support, drive, preparation, high,...   \n",
       "4      [range, models, encompasses, majority, empiric...   \n",
       "...                                                  ...   \n",
       "67284  [python, developer, 4to6years, mumbai, locatio...   \n",
       "67285  [bachelor, degree, related, field, equivalent,...   \n",
       "67286  [accenture, applied, intelligence, part, accen...   \n",
       "67287  [bcg, gamma, combines, innovative, skills, com...   \n",
       "67288  [heard, microsoft, digital, transformation, le...   \n",
       "\n",
       "                                 Job Description Tokened  \\\n",
       "0      achieves operational excellence effectively ap...   \n",
       "1      knowledge experience operational principles jo...   \n",
       "2      qa testing analyst ltc customer solutions team...   \n",
       "3      providing support drive preparation high quali...   \n",
       "4      range models encompasses majority empirical mo...   \n",
       "...                                                  ...   \n",
       "67284  python developer 4to6years mumbai location hir...   \n",
       "67285  bachelor degree related field equivalent exper...   \n",
       "67286  accenture applied intelligence part accenture ...   \n",
       "67287  bcg gamma combines innovative skills computer ...   \n",
       "67288  heard microsoft digital transformation leading...   \n",
       "\n",
       "                                                Tokens_2  search key class  \n",
       "0      [(achieves, operational), (operational, excell...                37  \n",
       "1      [(knowledge, experience), (experience, operati...                37  \n",
       "2      [(qa, testing), (testing, analyst), (analyst, ...                37  \n",
       "3      [(providing, support), (support, drive), (driv...                37  \n",
       "4      [(range, models), (models, encompasses), (enco...                37  \n",
       "...                                                  ...               ...  \n",
       "67284  [(python, developer), (developer, 4to6years), ...                 1  \n",
       "67285  [(bachelor, degree), (degree, related), (relat...                 1  \n",
       "67286  [(accenture, applied), (applied, intelligence)...                 1  \n",
       "67287  [(bcg, gamma), (gamma, combines), (combines, i...                 1  \n",
       "67288  [(heard, microsoft), (microsoft, digital), (di...                 1  \n",
       "\n",
       "[67289 rows x 18 columns]"
      ]
     },
     "execution_count": 21,
     "metadata": {},
     "output_type": "execute_result"
    }
   ],
   "source": [
    "net_data"
   ]
  },
  {
   "cell_type": "code",
   "execution_count": 22,
   "metadata": {
    "ExecuteTime": {
     "end_time": "2020-03-12T03:27:31.809560Z",
     "start_time": "2020-03-12T03:27:30.967731Z"
    }
   },
   "outputs": [],
   "source": [
    "words_size = net_data[\"Job Description Tokened\"].str.split(\" \", expand=True)"
   ]
  },
  {
   "cell_type": "code",
   "execution_count": 23,
   "metadata": {
    "ExecuteTime": {
     "end_time": "2020-03-12T03:27:33.057526Z",
     "start_time": "2020-03-12T03:27:32.154970Z"
    }
   },
   "outputs": [
    {
     "data": {
      "text/plain": [
       "20027"
      ]
     },
     "execution_count": 23,
     "metadata": {},
     "output_type": "execute_result"
    }
   ],
   "source": [
    "words_size_list = []\n",
    "for i in words_size.columns:\n",
    "    words_size_list.append(words_size[i])\n",
    "    \n",
    "flat_list = []\n",
    "for sublist in words_size_list:\n",
    "    for item in sublist:\n",
    "        flat_list.append(item)\n",
    "\n",
    "len(set(flat_list))"
   ]
  },
  {
   "cell_type": "code",
   "execution_count": 24,
   "metadata": {
    "ExecuteTime": {
     "end_time": "2020-03-12T03:27:37.123580Z",
     "start_time": "2020-03-12T03:27:35.391448Z"
    }
   },
   "outputs": [],
   "source": [
    "from sklearn.feature_extraction.text import TfidfVectorizer\n",
    "v = TfidfVectorizer(max_features=2000)\n",
    "x = net_data[\"Job Description Tokened\"]\n",
    "v.fit(x)\n",
    "x_tfidf = v.transform(x)"
   ]
  },
  {
   "cell_type": "markdown",
   "metadata": {},
   "source": [
    "## With n-gram  "
   ]
  },
  {
   "cell_type": "code",
   "execution_count": 15,
   "metadata": {
    "ExecuteTime": {
     "end_time": "2020-03-09T17:10:15.488497Z",
     "start_time": "2020-03-09T17:09:57.026874Z"
    }
   },
   "outputs": [],
   "source": [
    "from sklearn.feature_extraction.text import TfidfVectorizer\n",
    "v = TfidfVectorizer(max_features=2000, ngram_range=(1,4))\n",
    "x = net_data[\"Job Description Tokened\"]\n",
    "v.fit(x)\n",
    "x_tfidf = v.transform(x)"
   ]
  },
  {
   "cell_type": "markdown",
   "metadata": {},
   "source": [
    "## With no max_features "
   ]
  },
  {
   "cell_type": "code",
   "execution_count": 17,
   "metadata": {
    "ExecuteTime": {
     "end_time": "2020-03-09T17:10:55.307023Z",
     "start_time": "2020-03-09T17:10:52.356266Z"
    }
   },
   "outputs": [],
   "source": [
    "from sklearn.feature_extraction.text import TfidfVectorizer\n",
    "v = TfidfVectorizer(max_features=None)\n",
    "x = net_data[\"Job Description Tokened\"]\n",
    "v.fit(x)\n",
    "x_tfidf = v.transform(x)"
   ]
  },
  {
   "cell_type": "code",
   "execution_count": 12,
   "metadata": {
    "ExecuteTime": {
     "end_time": "2020-03-09T17:09:42.083694Z",
     "start_time": "2020-03-09T17:09:42.076713Z"
    }
   },
   "outputs": [
    {
     "name": "stdout",
     "output_type": "stream",
     "text": [
      "{'operational': 1269, 'excellence': 686, 'effectively': 605, 'applying': 156, 'knowledge': 1018, 'procurement': 1439, 'strategy': 1753, 'implementation': 899, 'planning': 1373, 'managing': 1110, 'experience': 707, 'principles': 1425, 'join': 1003, 'us': 1906, 'production': 1443, 'management': 1105, 'analyst': 142, 'look': 1081, 'play': 1378, 'key': 1013, 'role': 1601, 'supporting': 1788, 'qa': 1497, 'testing': 1824, 'customer': 473, 'solutions': 1705, 'team': 1810, 'part': 1324, 'transforming': 1866, 'business': 274, 'providing': 1487, 'support': 1787, 'drive': 585, 'preparation': 1409, 'high': 866, 'quality': 1504, 'insight': 947, 'analyses': 139, 'enable': 628, 'strategic': 1751, 'decision': 492, 'range': 1512, 'models': 1182, 'model': 1180, 'types': 1881, 'developed': 539, 'includes': 913, 'capital': 289, 'risk': 1594, 'economic': 597, 'preparing': 1412, 'insurance': 954, 'analysts': 143, 'website': 1961, 'candidate': 283, 'responsible': 1582, 'several': 1671, 'standard': 1733, 'ensure': 648, 'data': 479, 'handling': 851, 'platforms': 1377, 'across': 77, 'fit': 756, 'purpose': 1491, 'world': 1987, 'leading': 1041, 'mining': 1173, 'organisation': 1282, 'legal': 1049, 'control': 428, 'group': 837, 'within': 1978, 'finance': 747, 'primary': 1424, 'responsibility': 1581, 'ensuring': 650, 'financial': 748, 'integrity': 959, 'applicable': 152, 'uk': 1884, 'entities': 655, 'transformation': 1865, 'journey': 1005, 'bringing': 263, 'credit': 462, 'documentation': 575, 'requires': 1569, 'strong': 1758, 'handle': 850, 'shall': 1672, 'collect': 361, 'analyse': 138, 'required': 1566, 'present': 1415, 'reports': 1560, 'analysis': 141, 'decisions': 493, 'trends': 1872, 'manager': 1106, 'accounting': 67, 'investments': 983, 'platform': 1376, 'work': 1981, 'external': 718, 'service': 1664, 'providers': 1485, 'internal': 971, 'members': 1149, 'performance': 1346, 'processes': 1437, 'operations': 1270, 'analyze': 146, 'existing': 698, 'technical': 1813, 'also': 130, 'manages': 1109, 'relationship': 1550, 'third': 1829, 'party': 1332, 'payment': 1340, 'partners': 1330, 'driving': 589, 'improvements': 906, 'closely': 345, 'engineers': 641, 'interact': 963, 'cross': 465, 'stakeholders': 1732, 'improve': 904, 'via': 1938, 'process': 1436, 'automation': 201, 'job': 1000, 'title': 1843, 'trade': 1853, 'capture': 290, 'target': 1802, 'state': 1740, 'architecture': 165, 'opening': 1264, 'mumbai': 1205, 'exp': 699, 'yrs': 1999, 'years': 1996, 'responsibilities': 1580, 'practice': 1403, 'staffing': 1731, 'partner': 1329, 'full': 791, 'turn': 1877, 'communicate': 374, 'users': 1911, 'including': 914, 'executive': 695, 'ncr': 1213, 'corporation': 441, 'nyse': 1239, 'software': 1702, 'identify': 893, 'areas': 167, 'efficiency': 607, 'implement': 898, 'enhancements': 645, 'markets': 1122, 'products': 1445, 'location': 1077, 'asean': 172, 'south': 1714, 'asia': 173, 'india': 922, 'bangalore': 217, 'understanding': 1886, 'delivery': 507, 'initiatives': 938, 'effective': 604, 'application': 153, 'create': 458, 'reporting': 1559, 'review': 1589, 'test': 1822, 'help': 862, 'develop': 538, 'comprehensive': 393, 'plans': 1374, 'success': 1770, 'delivering': 505, 'portfolio': 1388, 'insights': 948, 'senior': 1658, 'managers': 1108, 'board': 246, 'make': 1098, 'informed': 933, 'generate': 810, 'daily': 478, 'transactions': 1862, 'company': 380, 'micro': 1161, 'pvt': 1494, 'ltd': 1087, 'degree': 499, 'diploma': 554, 'analytics': 145, 'cost': 446, 'opportunities': 1271, 'able': 54, 'understand': 1885, 'accounts': 68, 'payable': 1338, 'system': 1793, 'gather': 807, 'metrics': 1160, 'update': 1899, 'progress': 1461, 'information': 932, 'security': 1644, 'controls': 430, 'impact': 897, 'identifies': 892, 'issues': 996, 'clinical': 343, 'trial': 1873, 'using': 1913, 'analytical': 144, 'statistical': 1742, 'tools': 1847, 'towards': 1850, 'processing': 1438, 'overall': 1297, 'project': 1462, 'contribute': 425, 'design': 524, 'development': 543, 'networks': 1223, 'big': 234, 'internet': 973, 'things': 1826, 'mobile': 1178, 'services': 1665, 'billing': 236, 'systems': 1794, 'ability': 53, 'manage': 1103, 'multiple': 1204, 'projects': 1464, 'deadlines': 486, 'coach': 350, 'mentor': 1152, 'specialists': 1719, 'depth': 519, 'working': 1984, 'provider': 1484, 'requirements': 1568, 'core': 439, 'include': 912, 'tasks': 1805, 'potential': 1398, 'dynamics': 593, 'profitability': 1455, 'one': 1259, 'companies': 379, 'developing': 542, 'unique': 1889, 'personnel': 1355, 'according': 62, 'specific': 1722, 'hr': 880, 'assess': 175, 'risks': 1596, 'associated': 190, 'careers': 297, 'grow': 839, 'others': 1291, 'new': 1224, 'emerging': 622, 'patterns': 1336, 'build': 270, 'proactively': 1432, 'bachelor': 211, 'engineering': 640, 'sciences': 1629, 'equivalent': 665, 'main': 1092, 'alert': 124, 'capacity': 288, 'vision': 1944, 'identifying': 894, 'deep': 495, 'improvement': 905, 'provide': 1482, 'guidance': 845, 'feedback': 739, 'teams': 1811, 'order': 1279, 'efficient': 608, 'techniques': 1814, 'expected': 704, 'ui': 1883, 'applications': 154, 'per': 1344, 'content': 421, 'produce': 1440, 'regulatory': 1545, 'demonstrated': 513, 'based': 222, 'outside': 1295, 'good': 825, 'standards': 1734, 'relevant': 1554, 'procedures': 1435, 'aml': 135, 'list': 1067, 'priority': 1428, 'deliverables': 503, 'statements': 1741, 'incumbent': 918, 'cash': 301, 'position': 1389, 'reconciliations': 1531, 'lifecycle': 1058, 'proprietary': 1475, 'looking': 1082, 'lead': 1037, 'would': 1989, 'campaign': 280, 'global': 818, 'leader': 1038, 'creating': 459, 'people': 1343, 'brands': 258, 'perform': 1345, 'line': 1061, 'reviews': 1591, 'case': 299, 'timely': 1840, 'actions': 81, 'kyc': 1022, 'posting': 1396, 'date': 483, 'feb': 738, '18': 23, '2020': 32, 'care': 295, 'forecasting': 773, 'increase': 916, 'addition': 94, 'validate': 1918, 'weekly': 1964, 'monthly': 1193, 'annual': 148, 'unit': 1891, 'corporate': 440, 'facilitate': 722, 'monitor': 1189, 'problems': 1434, 'health': 857, 'positions': 1390, 'administration': 102, 'training': 1859, 'programs': 1460, 'meet': 1143, 'needs': 1218, 'staff': 1730, 'regular': 1542, 'execution': 694, 'defined': 497, 'following': 767, 'supplier': 1784, 'determine': 537, 'strategies': 1752, 'due': 590, 'long': 1080, 'liquid': 1066, 'investment': 982, 'collaborating': 355, 'assist': 183, 'functions': 797, 'meetings': 1145, 'complex': 388, 'view': 1942, 'robust': 1599, 'governance': 828, 'structure': 1759, 'minimize': 1171, 'ad': 91, 'hoc': 872, 'requests': 1564, 'current': 470, 'evaluate': 679, 'proven': 1481, 'wide': 1971, 'report': 1558, 'translate': 1867, 'identification': 890, 'assessment': 177, 'activities': 86, 'least': 1045, 'travel': 1869, 'industry': 930, 'extensive': 717, 'flow': 761, 'secondary': 1638, 'research': 1571, 'familiarity': 729, 'scam': 1623, 'caution': 305, 'fraudulent': 783, 'offers': 1250, 'assigned': 181, 'infrastructure': 934, 'client': 341, 'site': 1687, 'next': 1225, 'career': 296, '30': 40, 'experienced': 708, 'chennai': 332, '03': 4, 'mar': 1118, 'unposting': 1898, '17': 22, 'developers': 541, 'testers': 1823, 'minimum': 1172, 'resolving': 1574, 'addressing': 97, 'related': 1547, 'cases': 300, 'provides': 1486, 'change': 318, 'groups': 838, 'motivated': 1196, 'person': 1353, 'dynamic': 592, 'environment': 658, 'skills': 1692, 'changing': 320, 'ongoing': 1260, 'chemical': 330, 'best': 230, 'intelligent': 961, 'performs': 1348, 'generation': 812, 'background': 215, 'checks': 329, 'hire': 870, 'onboarding': 1258, 'etc': 675, 'deloitte': 508, 'helps': 865, 'organizations': 1285, 'assets': 180, 'believe': 227, 'secure': 1642, 'hands': 852, 'amazon': 133, 'display': 566, 'advertising': 107, 'capabilities': 285, 'recruitment': 1537, 'taking': 1798, 'experiences': 709, 'effectiveness': 606, 'available': 205, 'conversion': 432, 'analyzing': 147, 'limited': 1060, 'salesforce': 1617, 'com': 366, 'oracle': 1277, 'erp': 666, 'sap': 1618, 'preferred': 1408, 'posted': 1395, '06': 7, 'book': 249, 'find': 750, 'difference': 549, 'making': 1100, 'delivers': 506, 'objectives': 1241, 'compliance': 389, 'accordance': 61, 'policies': 1386, 'practices': 1404, 'successful': 1771, 'continuous': 422, 'aspects': 174, 'aim': 122, 'organization': 1283, 'tactical': 1795, 'human': 883, 'resources': 1576, 'department': 515, 'creation': 460, 'contracts': 424, 'maintain': 1093, 'goods': 826, 'significant': 1683, 'direction': 556, 'conducts': 401, 'founded': 780, 'among': 136, 'top': 1848, 'businesses': 275, 'writing': 1991, 'future': 800, 'logistics': 1079, 'first': 755, 'pipeline': 1368, 'various': 1926, 'legacy': 1048, 'sources': 1712, 'ideas': 889, 'trust': 1876, 'innovative': 942, 'corporations': 442, 'deliver': 502, 'focus': 763, 'level': 1050, 'customers': 474, 'better': 231, 'prior': 1426, 'middle': 1163, 'office': 1251, 'action': 79, 'configuration': 403, 'maintenance': 1096, 'optimization': 1274, 'functional': 795, 'come': 368, 'pioneer': 1367, 'innovation': 940, 'technology': 1817, 'value': 1921, 'accenture': 57, 'post': 1394, 'charge': 323, 'analysing': 140, 'short': 1681, 'term': 1819, 'drivers': 587, 'valuation': 1920, 'experts': 712, 'actionable': 80, 'intelligence': 960, 'university': 1895, 'computer': 394, 'science': 1628, 'advanced': 105, 'sales': 1616, 'establishing': 673, 'costs': 447, 'collecting': 362, '13': 15, 'changes': 319, 'gathering': 808, 'ownership': 1306, 'space': 1715, 'large': 1029, 'digital': 553, 'supports': 1789, 'product': 1442, 'evaluating': 680, 'results': 1584, 'recommendations': 1527, 'sla': 1693, 'hardware': 853, 'operating': 1267, 'area': 166, 'mrp': 1199, 'conduct': 399, 'pricing': 1422, 'options': 1276, 'establish': 671, 'goals': 823, 'local': 1075, 'day': 484, 'life': 1057, 'added': 93, 'workflow': 1983, 'correct': 443, 'center': 307, 'assignments': 182, 'professional': 1446, 'broad': 264, 'consulting': 415, 'ensures': 649, 'leads': 1042, 'appropriate': 159, 'contributes': 426, 'helping': 864, 'food': 768, 'enabling': 630, 'millions': 1167, 'use': 1908, 'perspective': 1356, 'superior': 1779, 'require': 1565, 'discipline': 561, 'typically': 1882, 'education': 601, 'general': 809, 'supervision': 1782, 'worked': 1982, 'interest': 965, 'age': 112, 'fmcg': 762, 'selling': 1655, 'member': 1148, 'documents': 576, '04': 5, 'requirement': 1567, 'challenges': 316, 'market': 1120, 'creative': 461, 'energetic': 632, 'capability': 286, 'take': 1797, 'self': 1653, 'detail': 534, 'oriented': 1289, 'problem': 1433, 'focused': 764, 'assessments': 178, 'supervise': 1780, 'price': 1421, 'resolution': 1572, 'director': 559, 'track': 1851, 'influence': 931, 'leadership': 1040, 'promote': 1465, 'low': 1083, 'activity': 87, 'variety': 1925, 'gurgaon': 848, '24': 34, '09': 8, 'involves': 991, 'sound': 1710, 'advice': 108, 'practical': 1402, 'critical': 463, 'thinking': 1828, 'clients': 342, 'slas': 1694, 'proficient': 1451, 'implementing': 901, 'framework': 781, 'quarterly': 1506, 'calls': 279, 'front': 789, 'tax': 1806, 'transfer': 1863, 'banking': 219, 'institutional': 952, 'around': 168, 'programming': 1459, 'components': 392, 'corrective': 444, 'solve': 1706, 'consultants': 412, 'integration': 958, 'set': 1669, 'seeking': 1647, 'like': 1059, 'every': 684, 'verticals': 1935, 'way': 1957, 'trainings': 1860, 'supervisor': 1783, 'server': 1662, 'availability': 204, 'monitoring': 1190, 'mind': 1169, 'safety': 1613, 'need': 1216, 'suggest': 1773, 'participate': 1325, 'co': 349, 'become': 226, 'familiar': 728, 'policy': 1387, 'manuals': 1115, 'troubleshooting': 1875, 'act': 78, 'advisor': 109, 'orientation': 1288, 'plant': 1375, 'plan': 1371, '05': 6, 'written': 1992, 'verbal': 1931, 'communication': 376, 'integrated': 957, 'keep': 1011, 'guidelines': 847, 'adherence': 98, 'different': 550, 'sites': 1688, 'optimize': 1275, 'preferably': 1407, 'accountable': 64, 'vendor': 1927, 'delivered': 504, 'incidents': 911, 'three': 1835, 'task': 1804, 'monitors': 1191, 'automated': 200, 'call': 277, 'brand': 256, 'exceptional': 688, 'challenging': 317, 'proper': 1471, 'marketing': 1121, 'record': 1532, 'bi': 233, 'designing': 528, 'aid': 121, 'tests': 1825, 'databases': 481, 'possible': 1393, 'wells': 1966, 'fargo': 732, 'trillion': 1874, 'transform': 1864, 'consumer': 418, 'driven': 586, 'ai': 120, 'led': 1046, 'associate': 189, 'integral': 955, 'leveraging': 1053, 'oversee': 1299, 'independent': 920, 'challenge': 315, 'firm': 753, 'interesting': 967, 'learn': 1043, 'technologies': 1816, 'fast': 734, 'web': 1960, 'hyderabad': 885, 'check': 327, 'contract': 423, 'kpis': 1021, 'desire': 531, 'something': 1709, 'special': 1717, 'winning': 1976, 'oversight': 1301, 'met': 1154, 'schedule': 1624, 'scheduling': 1626, 'english': 642, 'language': 1028, 'oral': 1278, '16': 21, 'offices': 1254, '11': 12, 'countries': 451, 'performing': 1347, 'sourcing': 1713, 'outcomes': 1293, 'account': 63, 'pre': 1405, 'ups': 1903, 'user': 1910, 'stories': 1750, 'growth': 841, 'manner': 1112, 'flexible': 759, 'enhance': 643, 'asset': 179, 'servicing': 1666, 'culture': 467, 'mitigate': 1177, 'lives': 1071, 'power': 1399, 'builds': 273, 'officers': 1253, 'locations': 1078, 'school': 1627, 'directly': 558, 'mutual': 1207, '40': 42, 'exchange': 690, 'funds': 799, 'actively': 84, 'works': 1985, 'end': 631, 'expertise': 711, 'domain': 577, 'assurance': 192, 'transaction': 1861, 'advisory': 110, 'time': 1838, 'bank': 218, 'necessary': 1215, 'means': 1137, 'email': 619, 'along': 128, 'international': 972, 'exposure': 715, 'interaction': 964, 'needed': 1217, 'regularly': 1543, 'interface': 968, 'architects': 164, 'designers': 527, 'function': 794, 'subject': 1766, 'matter': 1129, 'enterprise': 651, 'live': 1070, 'values': 1922, 'relating': 1548, 'vendors': 1928, 'independently': 921, 'smooth': 1698, 'drafting': 582, 'proposal': 1473, 'awareness': 207, 'productivity': 1444, 'gain': 802, 'accurate': 70, 'coaching': 351, 'collaborate': 354, 'learning': 1044, 'talent': 1799, 'point': 1384, 'contact': 420, 'globally': 819, 'well': 1965, 'overseeing': 1300, 'releases': 1553, 'achieve': 71, 'place': 1369, 'network': 1221, 'deal': 487, 'trading': 1855, 'master': 1125, 'lower': 1084, 'audit': 196, 'microsoft': 1162, 'excel': 685, 'word': 1980, 'entry': 657, 'methodology': 1157, 'resolve': 1573, 'name': 1209, 'growing': 840, 'startup': 1739, 'especially': 669, 'supply': 1786, 'chain': 313, 'recommend': 1526, 'hours': 878, 'specialist': 1718, 'active': 83, 'community': 378, 'document': 574, 'serves': 1663, 'real': 1521, 'roles': 1602, 'engineer': 639, 'implements': 902, 'maintains': 1095, 'going': 824, 'periodic': 1350, 'fully': 792, 'enterprises': 652, 'move': 1198, 'input': 943, 'summary': 1778, 'presentation': 1416, 'exciting': 691, 'opportunity': 1272, 'demonstrate': 512, 'add': 92, 'willingness': 1973, 'shift': 1677, 'spirit': 1727, '90': 50, '000': 1, 'curious': 469, 'courageous': 453, 'minds': 1170, 'go': 821, 'biggest': 235, 'fun': 793, 'achieved': 72, 'administrative': 103, 'junior': 1009, 'database': 480, 'artificial': 171, 'outstanding': 1296, 'acquisition': 76, 'thorough': 1830, 'interpret': 976, 'architect': 163, 'solution': 1704, 'building': 271, 'shared': 1674, 'makes': 1099, 'maintaining': 1094, 'professionals': 1448, 'fund': 798, 'division': 572, 'competitor': 383, '10': 9, 'invoices': 988, 'verify': 1933, 'records': 1533, 'coordinating': 435, 'events': 683, 'excellent': 687, 'solving': 1707, 'address': 96, 'define': 496, 'pay': 1337, 'payroll': 1342, 'apply': 155, 'studies': 1763, 'net': 1220, 'correspondence': 445, 'maximize': 1131, 'coordinate': 434, 'hub': 882, 'store': 1748, 'organizational': 1284, 'small': 1695, 'qualifications': 1501, 'graduate': 831, 'release': 1552, 'objective': 1240, 'construction': 409, 'get': 814, 'collaboration': 356, 'presence': 1414, 'efforts': 611, 'acts': 88, 'mentoring': 1153, 'someone': 1708, 'cyber': 476, 'must': 1206, 'description': 523, 'code': 352, 'approaches': 158, 'quantitative': 1505, 'engage': 634, 'located': 1076, 'commercial': 371, 'reconciliation': 1530, 'administrator': 104, 'concepts': 397, 'government': 830, 'specifically': 1723, 'candidates': 284, 'passion': 1333, 'consultation': 413, 'ideal': 887, 'liaison': 1056, 'resource': 1575, 'drives': 588, 'either': 612, 'partnership': 1331, 'goal': 822, 'speed': 1725, 'stay': 1746, 'centre': 309, 'multi': 1202, 'worldwide': 1988, 'electronic': 615, 'module': 1185, 'sharing': 1675, 'liaise': 1054, 'ordinate': 1281, 'defining': 498, 'mission': 1176, 'maximum': 1132, 'advantage': 106, 'agreed': 117, 'assessing': 176, 'obtain': 1243, 'assists': 188, 'crm': 464, 'operation': 1268, 'possess': 1392, 'mandatory': 1111, 'levels': 1051, 'prepare': 1410, 'presentations': 1417, 'leaders': 1039, 'owners': 1305, 'discussions': 565, '50': 44, 'america': 134, 'back': 212, 'derivative': 521, 'cib': 334, 'covering': 456, 'collateral': 359, 'updates': 1900, '2500': 36, 'number': 1236, 'associates': 191, 'empower': 627, 'scientific': 1630, 'execute': 692, 'program': 1456, 'compensation': 381, 'recognition': 1524, 'instances': 949, 'jobseekers': 1002, 'used': 1909, 'highly': 869, 'securities': 1643, 'expert': 710, 'visual': 1947, 'inventory': 981, 'dedicated': 494, 'certified': 312, 'fraud': 782, 'chartered': 324, 'accountants': 66, 'manual': 1114, 'variance': 1923, 'forward': 778, 'proposals': 1474, 'running': 1610, 'linux': 1065, 'windows': 1974, 'major': 1097, 'alongside': 129, 'executing': 693, 'innovate': 939, 'hand': 849, 'units': 1892, 'setting': 1670, 'selecting': 1651, 'employee': 623, '12': 14, '2019': 31, 'explore': 713, 'direct': 555, 'improving': 907, 'maharashtra': 1090, 'media': 1140, 'relations': 1549, 'roadmap': 1598, 'develops': 545, 'methods': 1158, 'sme': 1697, 'national': 1210, 'specifications': 1724, 'bring': 262, 'shifts': 1678, 'close': 344, 'cycle': 477, 'completion': 387, 'train': 1857, 'event': 682, 'seek': 1646, 'natural': 1211, 'gas': 806, 'deployment': 517, 'api': 151, 'individual': 926, 'appropriately': 160, 'house': 879, 'central': 308, 'ii': 895, 'regional': 1541, 'reviewing': 1590, 'elements': 617, 'whole': 1969, 'throughout': 1836, 'achievement': 73, 'may': 1133, 'participates': 1326, 'morgan': 1195, 'wealth': 1959, 'want': 1953, 'sector': 1640, 'skill': 1690, 'owned': 1303, 'scope': 1634, 'consultant': 411, 'tracking': 1852, 'important': 903, 'accountant': 65, 'cloud': 347, 'balance': 216, 'sheet': 1676, 'permanent': 1352, 'medical': 1141, 'updating': 1901, 'paced': 1310, 'pace': 1309, 'saas': 1611, 'class': 338, 'satisfaction': 1620, '15': 17, 'status': 1744, 'capturing': 292, 'access': 58, 'suitable': 1775, 'suppliers': 1785, 'pune': 1489, 'banks': 220, 'contributing': 427, 'attention': 195, 'young': 1997, 'interns': 974, 'hiring': 871, 'intern': 970, 'targets': 1803, 'campus': 282, 'recruiting': 1536, 'individuals': 927, 'sr': 1729, 'equity': 664, 'guide': 846, 'fellow': 740, 'willing': 1972, 'serve': 1661, 'open': 1262, 'primarily': 1423, '80': 49, 'coordinator': 437, 'scrum': 1636, 'methodologies': 1156, 'agile': 115, 'non': 1230, 'features': 737, 'etl': 676, 'developer': 540, 'posts': 1397, 'colleagues': 360, 'moderately': 1183, 'north': 1232, 'manufacturing': 1116, 'environments': 660, 'proficiency': 1450, 'sql': 1728, 'lab': 1023, 'base': 221, 'materials': 1128, 'ey': 719, 'public': 1488, 'medium': 1142, 'sized': 1689, 'tech': 1812, 'quickly': 1509, 'details': 536, 'regarding': 1539, 'mode': 1179, 'comfortable': 369, 'jpmorgan': 1007, 'chase': 325, 'together': 1845, 'investors': 984, 'mis': 1175, 'communicating': 375, 'single': 1686, 'calling': 278, 'facing': 725, 'type': 1880, 'operates': 1266, 'subscription': 1768, 'pharmaceutical': 1361, 'jan': 998, 'air': 123, 'hotel': 877, 'income': 915, 'indicators': 924, 'audits': 199, 'demonstrates': 514, 'ways': 1958, 'done': 580, 'duties': 591, 'validation': 1919, 'sessions': 1668, 'many': 1117, 'gaps': 803, 'commerce': 370, 'expectations': 703, 'identified': 891, 'coverage': 455, 'routine': 1605, 'foundation': 779, 'enables': 629, 'plus': 1382, 'lines': 1062, 'implementations': 900, '28': 38, 'requisition': 1570, 'ind': 919, 'vp': 1951, 'executives': 696, 'essential': 670, '02': 3, 'machine': 1088, 'revenue': 1588, 'enhancement': 644, 'desk': 533, 'year': 1995, 'link': 1063, 'overview': 1302, 'programme': 1457, 'achieving': 74, 'collections': 364, 'integrate': 956, 'innovations': 941, 'idea': 886, 'basis': 225, 'detailed': 535, 'bridge': 259, 'assisting': 187, 'made': 1089, 'google': 827, 'promoting': 1467, 'certification': 311, 'books': 251, 'budget': 267, 'selection': 1652, 'region': 1540, 'employees': 624, 'points': 1385, 'assistant': 185, 'acumen': 90, 'right': 1593, 'meets': 1146, 'engagement': 635, 'mca': 1135, 'collaborative': 357, 'relationships': 1551, 'involve': 989, 'custom': 472, 'stanley': 1735, 'ops': 1273, 'received': 1523, 'matters': 1130, 'ux': 1915, 'specialized': 1721, 'specialization': 1720, 'benefits': 229, '100': 10, '60': 46, 'unlock': 1896, 'timelines': 1839, 'feasibility': 736, 'think': 1827, 'treasury': 1870, 'home': 873, '150': 18, 'million': 1166, 'mba': 1134, 'uses': 1912, 'successfully': 1772, 'tailored': 1796, 'inputs': 944, 'ms': 1200, 'indirect': 925, 'taxes': 1808, 'receivable': 1522, 'inter': 962, 'recommends': 1528, 'prepared': 1411, 'east': 595, 'fidelity': 742, 'guest': 843, 'ideally': 888, 'consultancy': 410, 'consistent': 408, 'designed': 526, 'scientists': 1632, 'given': 816, 'conditions': 398, 'months': 1194, 'closing': 346, 'proactive': 1431, 'solid': 1703, 'competitive': 382, 'enjoy': 646, 'freshworks': 788, 'numerous': 1237, 'accolades': 59, 'ready': 1520, '20': 25, 'sustainable': 1791, 'wholesale': 1970, 'mentioned': 1151, 'parameters': 1322, 'laid': 1026, 'keeping': 1012, 'invoice': 987, 'committed': 373, 'workshops': 1986, 'clear': 339, 'package': 1311, 'chief': 333, 'officer': 1252, 'complete': 384, 'collaboratively': 358, 'source': 1711, 'similar': 1684, 'talented': 1800, 'questions': 1508, 'warehouse': 1954, 'owner': 1304, 'involved': 990, 'interested': 966, 'follow': 766, 'latest': 1032, 'month': 1192, 'accuracy': 69, 'loan': 1073, 'sub': 1765, 'largest': 1030, 'reduce': 1538, 'run': 1609, 'provided': 1483, 'representatives': 1562, 'python': 1496, 'modules': 1186, 'established': 672, '200': 26, 'ago': 116, 'online': 1261, 'great': 834, '25': 35, 'conducting': 400, 'managerial': 1107, 'assistance': 184, 'respective': 1578, 'payments': 1341, 'intermediate': 969, 'particular': 1327, 'institution': 951, 'expand': 700, 'inc': 908, 'combine': 367, 'category': 304, 'statistics': 1743, 'organizing': 1287, 'agreements': 118, 'meeting': 1144, 'initiative': 937, 'free': 784, 'financing': 749, 'known': 1019, 'masters': 1126, 'suite': 1776, 'forbes': 770, 'jpm': 1006, 'diverse': 571, 'efficiently': 609, 'profiles': 1453, 'offering': 1248, '500': 45, 'often': 1256, 'engine': 638, 'managed': 1104, 'skilled': 1691, 'carry': 298, 'p2p': 1307, 'answer': 149, 'queries': 1507, 'tier': 1837, 'desired': 532, 'deals': 490, 'previous': 1420, 'passionate': 1334, 'reinvent': 1546, 'fulfilling': 790, 'leverage': 1052, '2013': 28, 'subsidiary': 1769, 'scale': 1622, 'designs': 529, 'labs': 1024, 'spend': 1726, 'consumers': 419, 'connected': 405, 'basic': 223, 'coordination': 436, 'demand': 509, 'designation': 525, 'connect': 404, 'reliable': 1555, 'academic': 55, 'supervising': 1781, 'purchase': 1490, 'facilities': 723, 'increasing': 917, 'energy': 633, 'employment': 625, 'agencies': 113, 'approach': 157, 'scientist': 1631, 'protection': 1480, 'sale': 1615, 'property': 1472, 'arrangements': 169, 'negotiation': 1219, 'desirable': 530, 'firms': 754, 'iso': 994, 'write': 1990, 'align': 126, 'fields': 744, 'return': 1586, 'offer': 1246, 'paid': 1316, 'fixed': 757, 'estate': 674, 'scm': 1633, 'expanding': 702, 'administer': 101, 'distribution': 567, 'transportation': 1868, 'engagements': 636, 'industries': 929, 'jd': 999, 'attend': 193, 'tool': 1846, 'escalate': 667, 'two': 1879, 'priorities': 1427, 'auditing': 197, 'globe': 820, 'auditors': 198, 'head': 854, 'gartner': 805, 'institute': 950, 'invites': 986, 'prescribed': 1413, 'eligible': 618, 'keywords': 1015, 'cards': 294, 'field': 743, 'domains': 578, 'shipping': 1679, 'without': 1979, 'factory': 727, 'safe': 1612, 'brief': 260, 'player': 1379, 'ca': 276, 'europe': 677, 'card': 293, 'branding': 257, 'retail': 1585, 'checking': 328, 'evaluation': 681, 'approval': 161, 'total': 1849, 'preferable': 1406, 'material': 1127, 'epc': 661, 'consultative': 414, 'urgent': 1904, 'engaging': 637, 'techno': 1815, 'currently': 471, 'edwards': 603, 'migration': 1164, 'momentum': 1187, 'immediate': 896, 'joiners': 1004, 'streamlined': 1756, 'consumed': 417, 'expense': 705, 'terms': 1820, 'algorithms': 125, 'directions': 557, 'papers': 1321, 'projections': 1463, 'press': 1419, 'positive': 1391, 'petroleum': 1357, 'geologists': 813, 'seismic': 1649, 'sequence': 1660, 'stratigraphic': 1754, 'basin': 224, 'prospect': 1477, 'ranking': 1513, 'risking': 1595, 'statutory': 1745, 'forecast': 772, 'foreign': 775, 'overseas': 1298, 'headquartered': 855, 'profile': 1452, 'openings': 1265, 'institutions': 953, 'serving': 1667, 'budgeting': 268, 'period': 1349, 'stock': 1747, 'wise': 1977, 'president': 1418, 'commitment': 372, 'modern': 1184, 'completed': 385, '27': 37, 'ap': 150, 'ar': 162, 'reconcile': 1529, 'give': 815, 'submission': 1767, 'timings': 1842, 'forecasts': 774, 'starter': 1737, 'orders': 1280, 'expanded': 701, 'sectors': 1641, 'discrepancies': 563, 'heart': 859, 'admin': 100, 'recognized': 1525, 'ls': 1086, 'gaap': 801, 'bnp': 245, 'paribas': 1323, 'european': 678, 'footprint': 769, 'economics': 598, 'entries': 656, 'reputed': 1563, 'social': 1700, 'held': 861, 'controlling': 429, 'country': 452, 'freshers': 787, 'dealer': 488, 'entire': 654, 'convert': 433, '21': 33, 'jw': 1010, 'delhi': 501, 'private': 1429, 'form': 776, 'pan': 1320, 'ba': 210, 'graduation': 833, 'concept': 396, 'capable': 287, 'launch': 1033, 'taxation': 1807, 'pg': 1359, 'covers': 457, 'enthusiastic': 653, 'rule': 1607, 'coding': 353, 'qualitative': 1503, 'qualification': 1500, 'sure': 1790, 'versed': 1934, 'environmental': 659, 'fact': 726, 'know': 1017, 'college': 365, 'focuses': 765, 'search': 1637, 'video': 1940, 'days': 485, 'stream': 1755, 'automotive': 202, 'virtual': 1943, 'rate': 1514, 'roi': 1600, 'actual': 89, 'additional': 95, 'please': 1380, 'loans': 1074, 'kind': 1016, 'developments': 544, 'departments': 516, 'oil': 1257, 'findings': 751, 'modeling': 1181, 'sell': 1654, 'side': 1682, 'indian': 923, 'collection': 363, 'pharmacy': 1362, 'thousands': 1834, 'higher': 867, 'respect': 1577, 'branch': 254, 'ceo': 310, 'deputy': 520, 'rules': 1608, 'usage': 1907, 'counsel': 449, 'final': 746, 'bold': 248, 'payables': 1339, 'family': 731, 'send': 1657, 'reach': 1518, 'course': 454, 'ledger': 1047, 'picture': 1366, 'kolkata': 1020, 'interview': 978, 'face': 720, 'summarizing': 1777, 'generating': 811, 'study': 1764, 'offered': 1247, 'secretary': 1639, 'noida': 1229, 'multinational': 1203, 'personal': 1354, 'mail': 1091, 'bs': 265, '01': 2, 'ground': 836, 'datasets': 482, 'acquire': 75, 'female': 741, 'claims': 337, 'responses': 1579, 'phone': 1364, 'chat': 326, 'issue': 995, 'ecommerce': 596, 'today': 1844, 'employs': 626, 'families': 730, 'heads': 856, 'min': 1168, 'bpo': 253, 'street': 1757, 'selected': 1650, 'whether': 1968, 'expenses': 706, 'award': 206, 'measures': 1138, 'budgets': 269, 'rely': 1556, 'span': 1716, 'industrial': 928, 'volume': 1950, 'computing': 395, 'boston': 252, 'extension': 716, 'pwc': 1495, 'billion': 237, '70': 47, 'put': 1493, 'see': 1645, 'segment': 1648, 'phase': 1363, 'cutting': 475, 'edge': 600, 'odoo': 1244, 'representative': 1561, 'communications': 377, 'www': 1993, 'raw': 1516, 'verification': 1932, 'page': 1314, 'graduates': 832, 'channels': 322, 'urgently': 1905, 'format': 777, 'briefs': 261, 'structures': 1760, 'notice': 1234, 'emeia': 621, 'effort': 610, 'decide': 491, 'pm': 1383, 'times': 1841, 'promotion': 1468, 'upon': 1902, 'conferences': 402, 'initial': 935, 'smoothly': 1699, 'result': 1583, 'giving': 817, 'programmes': 1458, 'considerations': 407, 'varied': 1924, 'completing': 386, 'law': 1034, 'voice': 1949, 'connecting': 406, 'start': 1736, 'campaigns': 281, 'qc': 1498, 'html': 881, 'networking': 1222, 'particularly': 1328, 'traffic': 1856, 'salary': 1614, 'lac': 1025, 'ri': 1592, 'incentive': 909, 'water': 1956, 'initiate': 936, 'schedules': 1625, 'channel': 321, 'seo': 1659, 'eam': 594, 'liaising': 1055, 'visits': 1946, 'electrical': 614, 'yr': 1998, 'walk': 1952, 'regulations': 1544, 'ax': 208, 'degrees': 500, 'share': 1673, 'ites': 997, 'road': 1597, 'coordinators': 438, 'paints': 1319, 'gst': 842, 'offerings': 1249, 'force': 771, 'prospects': 1479, 'ctc': 466, '00': 0, '14th': 16, 'cum': 468, 'complies': 391, 'healthcare': 858, 'equipment': 662, 'incharge': 910, 'php': 1365, 'qualified': 1502, 'drawing': 584, 'fresher': 786, 'disclosed': 562, 'recruiter': 1535, 'electronics': 616, 'mechanical': 1139, 'linkedin': 1064, 'twitter': 1878, 'pa': 1308, 'literature': 1069, 'attendance': 194, 'functioning': 796, 'b2b': 209, 'trainee': 1858, 'pharma': 1360, 'biotech': 241, 'chemistry': 331, 'west': 1967, 'thought': 1831, 'cement': 306, 'socialize': 1701, 'purposes': 1492, 'videos': 1941, 'promotions': 1470, 'landscape': 1027, 'recruit': 1534, 'agency': 114, 'outbound': 1292, 'city': 335, 'websites': 1962, 'pages': 1315, 'voc': 1948, 'blog': 242, 'js': 1008, 'universities': 1894, 'pr': 1401, 'offline': 1255, 'packages': 1312, 'ppc': 1400, 'profit': 1454, '35': 41, 'keyword': 1014, 'sc': 1621, 'promotional': 1469, 'amazing': 132, 'student': 1761, 'facebook': 721, 'inside': 946, 'distributor': 568, 'hospitals': 875, 'art': 170, 'captures': 291, 'guests': 844, 'organize': 1286, 'note': 1233, 'enough': 647, 'believes': 228, 'nimbus': 1227, 'hosting': 876, 'jobs': 1001, 'distributors': 569, 'students': 1762, 'metals': 1155, 'uniquely': 1890, 'backend': 214, 'civil': 336, 'educational': 602, 'thousand': 1833, 'territory': 1821, 'draw': 583, 'allocation': 127, 'directors': 560, 'rolling': 1603, 'promotes': 1466, '2018': 30, 'norms': 1231, 'periodically': 1351, 'academically': 56, 'prospective': 1478, 'motivating': 1197, 'exhibitions': 697, 'smart': 1696, 'returns': 1587, 'rs': 1606, 'remote': 1557, 'highest': 868, 'blogs': 243, '10am': 11, '7pm': 48, 'undertake': 1887, 'floor': 760, 'sweden': 1792, 'interpersonal': 975, '45': 43, 'exceptionally': 689, 'money': 1188, 'sells': 1656, '2015': 29, 'patients': 1335, 'milestones': 1165, 'march': 1119, 'branches': 255, 'freedom': 785, 'plm': 1381, 'node': 1228, 'layout': 1036, 'inquiry': 945, 'governing': 829, 'utilities': 1914, 'laws': 1035, 'ahmedabad': 119, 'invited': 985, 'last': 1031, 'professionally': 1447, 'manpower': 1113, 'undertaking': 1888, 'oem': 1245, 'nearly': 1214, '9001': 51, 'digit': 552, 'sarkari': 1619, 'naukri': 1212, 'vacancies': 1916, 'night': 1226, 'discrimination': 564, 'privately': 1430, 'backed': 213, 'placement': 1370, 'convenience': 431, 'stores': 1749, 'load': 1072, 'facility': 724, 'demands': 510, 'starts': 1738, 'export': 714, 'nursing': 1238, 'affairs': 111, 'trades': 1854, '2coms': 39, 'pf': 1358, 'planned': 1372, 'fashion': 733, 'visit': 1945, 'assistants': 186, 'domestic': 579, 'male': 1101, 'intervention': 977, 'mega': 1147, 'district': 570, 'vice': 1939, 'greeting': 835, 'consumables': 416, 'equipments': 663, 'tally': 1801, 'accommodation': 60, 'clerical': 340, 'introduction': 979, 'round': 1604, '15k': 20, '91': 52, 'teaching': 1809, 'helpdesk': 863, 'counselling': 450, 'compliances': 390, 'marks': 1123, 'filing': 745, 'membership': 1150, 'dept': 518, 'producers': 1441, 'flag': 758, 'vacancy': 1917, 'professor': 1449, '15000': 19, 'bills': 238, 'packing': 1313, 'body': 247, 'venue': 1930, 'inventories': 980, 'shirts': 1680, 'costumes': 448, 'props': 1476, 'veterinary': 1936, 'buildings': 272, 'qualfication': 1499, 'dialysis': 548, 'embassy': 620, 'doctors': 573, 'reaching': 1519, 'alternate': 131, 'bookkeeping': 250, '20000': 27, 'dealers': 489, 'deviations': 546, 'scriptwriters': 1635, 'activations': 82, 'ra': 1510, 'finished': 752, 'man': 1102, 'esic': 668, 'telesales': 1818, 'literacy': 1068, 'double': 581, 'universally': 1893, 'biological': 240, 'humans': 884, 'nri': 1235, 'mvc': 1208, 'winforms': 1975, 'chains': 314, 'observe': 1242, 'ratna': 1515, 'bharat': 232, 'painting': 1318, 'treating': 1871, 'electric': 613, 'categorizing': 303, 'outfit': 1294, 'ramco': 1511, 'singing': 1685, 'lowest': 1085, 'ipm': 992, 'blujay': 244, 'thoughtspot': 1832, 'ecore': 599, 'activist': 85, 'iron': 993, 'honorable': 874, 'minister': 1174, 'adherent': 99, 'height': 860, '182': 24, 'metres': 1159, 'unpaid': 1897, 'paint': 1317, 'ventured': 1929, 'oscar': 1290, 'auxiliary': 203, 'describes': 522, '11th': 13, 'websphere': 1963, 'amplexor': 137, 'garnished': 804, 'washroom': 1955, 'rc': 1517, 'msag': 1201, 'demandware': 511, 'budge': 266, 'difficulties': 551, 'cloudmoyo': 348, 'xecom': 1994, 'vetted': 1937, 'dhaka': 547, 'mea': 1136, 'suit': 1774, 'cataloguing': 302, 'faxes': 735, 'binder': 239, 'massmail': 1124, 'openair': 1263}\n"
     ]
    }
   ],
   "source": [
    "print(v.vocabulary_)"
   ]
  },
  {
   "cell_type": "code",
   "execution_count": 13,
   "metadata": {
    "ExecuteTime": {
     "end_time": "2020-03-09T17:09:42.164068Z",
     "start_time": "2020-03-09T17:09:42.085689Z"
    }
   },
   "outputs": [
    {
     "name": "stdout",
     "output_type": "stream",
     "text": [
      "  (0, 1753)\t0.2964476560231797\n",
      "  (0, 1439)\t0.2894245247896236\n",
      "  (0, 1373)\t0.2529282340235704\n",
      "  (0, 1269)\t0.28571891952432693\n",
      "  (0, 1110)\t0.2911571178021908\n",
      "  (0, 1018)\t0.24094261460729166\n",
      "  (0, 899)\t0.2409063470582925\n",
      "  (0, 686)\t0.3812816901068593\n",
      "  (0, 605)\t0.3646642902253135\n",
      "  (0, 156)\t0.4511394335882317\n",
      "  (1, 1906)\t0.2716149650558049\n",
      "  (1, 1788)\t0.29225948208697955\n",
      "  (1, 1601)\t0.20237158587470916\n",
      "  (1, 1443)\t0.2944620753253288\n",
      "  (1, 1425)\t0.32892542111735\n",
      "  (1, 1378)\t0.36580705687639353\n",
      "  (1, 1269)\t0.25214375830924957\n",
      "  (1, 1105)\t0.179364316207933\n",
      "  (1, 1081)\t0.3532932717164621\n",
      "  (1, 1018)\t0.21262916885266675\n",
      "  (1, 1013)\t0.24546430521627502\n",
      "  (1, 1003)\t0.29349635996728346\n",
      "  (1, 707)\t0.15993027605576524\n",
      "  (1, 142)\t0.18274280855088995\n",
      "  (2, 1866)\t0.440477969871894\n",
      "  :\t:\n",
      "  (67286, 171)\t0.22370502025527117\n",
      "  (67286, 145)\t0.19705049597828983\n",
      "  (67286, 80)\t0.2907063107209026\n",
      "  (67286, 57)\t0.5218737005552725\n",
      "  (67287, 1743)\t0.36936732383862864\n",
      "  (67287, 1692)\t0.20407582577198136\n",
      "  (67287, 1628)\t0.2963132148862113\n",
      "  (67287, 1088)\t0.311125786993014\n",
      "  (67287, 1044)\t0.29222622237901164\n",
      "  (67287, 960)\t0.2717513160733844\n",
      "  (67287, 942)\t0.2930005275841764\n",
      "  (67287, 930)\t0.22830877436493563\n",
      "  (67287, 711)\t0.263384507665142\n",
      "  (67287, 495)\t0.30618062053564227\n",
      "  (67287, 394)\t0.30376960772992667\n",
      "  (67287, 171)\t0.29104461250366176\n",
      "  (67288, 1865)\t0.3915135135887992\n",
      "  (67288, 1831)\t0.43022589019041846\n",
      "  (67288, 1162)\t0.4011635789378953\n",
      "  (67288, 1148)\t0.34290377698081204\n",
      "  (67288, 1041)\t0.23509666078383562\n",
      "  (67288, 1013)\t0.26454429100208116\n",
      "  (67288, 930)\t0.2554102532347067\n",
      "  (67288, 553)\t0.2769947943229769\n",
      "  (67288, 347)\t0.3404306087887791\n"
     ]
    }
   ],
   "source": [
    "print(x_tfidf)"
   ]
  },
  {
   "cell_type": "markdown",
   "metadata": {},
   "source": [
    "### Baseline "
   ]
  },
  {
   "cell_type": "code",
   "execution_count": 18,
   "metadata": {
    "ExecuteTime": {
     "end_time": "2020-03-10T12:19:04.903014Z",
     "start_time": "2020-03-10T12:19:04.885362Z"
    }
   },
   "outputs": [],
   "source": [
    "from sklearn.model_selection import train_test_split\n",
    "X_train, X_test, y_train, y_test = train_test_split(x_tfidf, y, test_size=0.33, random_state=42)"
   ]
  },
  {
   "cell_type": "markdown",
   "metadata": {},
   "source": [
    "### In-sample Accuracy"
   ]
  },
  {
   "cell_type": "code",
   "execution_count": 26,
   "metadata": {
    "ExecuteTime": {
     "end_time": "2020-03-12T03:28:49.910490Z",
     "start_time": "2020-03-12T03:28:42.860186Z"
    }
   },
   "outputs": [
    {
     "name": "stdout",
     "output_type": "stream",
     "text": [
      "SVM Accuracy Score ->  72.12025739719716\n"
     ]
    }
   ],
   "source": [
    "from sklearn import linear_model, naive_bayes, svm\n",
    "# Classifier - Algorithm - SVM\n",
    "s = svm.LinearSVC(C=1.0)\n",
    "# fit the training dataset on the classifier\n",
    "s.fit(x_tfidf, y)# predict the labels on validation dataset\n",
    "# make predictions using the trained model\n",
    "s_pred = s.predict(x_tfidf)\n",
    "\n",
    "from sklearn.metrics import accuracy_score\n",
    "# Use accuracy_score function to get the accuracy\n",
    "print(\"SVM Accuracy Score -> \",accuracy_score(s_pred, y)*100)"
   ]
  },
  {
   "cell_type": "code",
   "execution_count": 19,
   "metadata": {
    "ExecuteTime": {
     "end_time": "2020-03-10T12:19:16.104388Z",
     "start_time": "2020-03-10T12:19:06.224857Z"
    }
   },
   "outputs": [
    {
     "name": "stdout",
     "output_type": "stream",
     "text": [
      "SVM Accuracy Score ->  76.45010314309162\n"
     ]
    }
   ],
   "source": [
    "from sklearn import linear_model, naive_bayes, svm\n",
    "# Classifier - Algorithm - SVM\n",
    "s = svm.LinearSVC(C=1.0)\n",
    "# fit the training dataset on the classifier\n",
    "s.fit(X_train, y_train)# predict the labels on validation dataset\n",
    "# make predictions using the trained model\n",
    "s_pred = s.predict(X_train)\n",
    "\n",
    "from sklearn.metrics import accuracy_score\n",
    "# Use accuracy_score function to get the accuracy\n",
    "print(\"SVM Accuracy Score -> \",accuracy_score(s_pred, y_train)*100)"
   ]
  },
  {
   "cell_type": "markdown",
   "metadata": {},
   "source": [
    "### Out-Sample Accuracy"
   ]
  },
  {
   "cell_type": "code",
   "execution_count": 20,
   "metadata": {
    "ExecuteTime": {
     "end_time": "2020-03-10T12:19:26.191027Z",
     "start_time": "2020-03-10T12:19:16.107472Z"
    }
   },
   "outputs": [
    {
     "name": "stdout",
     "output_type": "stream",
     "text": [
      "SVM Accuracy Score ->  54.3816986400072\n"
     ]
    }
   ],
   "source": [
    "from sklearn import linear_model, naive_bayes, svm\n",
    "# Classifier - Algorithm - SVM\n",
    "s = svm.LinearSVC(C=1.0)\n",
    "# fit the training dataset on the classifier\n",
    "s.fit(X_train, y_train)# predict the labels on validation dataset\n",
    "# make predictions using the trained model\n",
    "s_pred = s.predict(X_test)\n",
    "\n",
    "from sklearn.metrics import accuracy_score\n",
    "# Use accuracy_score function to get the accuracy\n",
    "print(\"SVM Accuracy Score -> \",accuracy_score(s_pred, y_test)*100)"
   ]
  },
  {
   "cell_type": "markdown",
   "metadata": {},
   "source": [
    "### n-gram comparison "
   ]
  },
  {
   "cell_type": "code",
   "execution_count": 16,
   "metadata": {
    "ExecuteTime": {
     "end_time": "2020-03-09T17:10:42.345675Z",
     "start_time": "2020-03-09T17:10:26.198481Z"
    }
   },
   "outputs": [
    {
     "name": "stdout",
     "output_type": "stream",
     "text": [
      "SVM Accuracy Score ->  68.79727741532791\n"
     ]
    }
   ],
   "source": [
    "from sklearn import linear_model, naive_bayes, svm\n",
    "# Classifier - Algorithm - SVM\n",
    "s = svm.LinearSVC(C=1.0)\n",
    "# fit the training dataset on the classifier\n",
    "s.fit(x_tfidf, y)# predict the labels on validation dataset\n",
    "# make predictions using the trained model\n",
    "s_pred = s.predict(x_tfidf)\n",
    "\n",
    "from sklearn.metrics import accuracy_score\n",
    "# Use accuracy_score function to get the accuracy\n",
    "print(\"SVM Accuracy Score -> \",accuracy_score(s_pred, y)*100)"
   ]
  },
  {
   "cell_type": "markdown",
   "metadata": {},
   "source": [
    "### no max features comparison "
   ]
  },
  {
   "cell_type": "code",
   "execution_count": 18,
   "metadata": {
    "ExecuteTime": {
     "end_time": "2020-03-09T17:11:15.316212Z",
     "start_time": "2020-03-09T17:10:57.701476Z"
    }
   },
   "outputs": [
    {
     "name": "stdout",
     "output_type": "stream",
     "text": [
      "SVM Accuracy Score ->  82.40722852174946\n"
     ]
    }
   ],
   "source": [
    "from sklearn import linear_model, naive_bayes, svm\n",
    "# Classifier - Algorithm - SVM\n",
    "s = svm.LinearSVC(C=1.0)\n",
    "# fit the training dataset on the classifier\n",
    "s.fit(x_tfidf, y)# predict the labels on validation dataset\n",
    "# make predictions using the trained model\n",
    "s_pred = s.predict(x_tfidf)\n",
    "\n",
    "from sklearn.metrics import accuracy_score\n",
    "# Use accuracy_score function to get the accuracy\n",
    "print(\"SVM Accuracy Score -> \",accuracy_score(s_pred, y)*100)"
   ]
  },
  {
   "cell_type": "code",
   "execution_count": 149,
   "metadata": {
    "ExecuteTime": {
     "end_time": "2020-03-09T15:24:45.611502Z",
     "start_time": "2020-03-09T15:24:45.582186Z"
    }
   },
   "outputs": [
    {
     "data": {
      "text/plain": [
       "{'operational analyst': 37,\n",
       " 'procurement analyst': 41,\n",
       " 'finance analyst': 19,\n",
       " 'implementation analyst': 25,\n",
       " 'marketing analyst': 33,\n",
       " 'sales analyst': 52,\n",
       " 'business analyst': 13,\n",
       " 'data analyst': 16,\n",
       " 'research analyst': 46,\n",
       " 'investment analyst': 30,\n",
       " 'operations Assistant': 38,\n",
       " 'procurement assistant': 42,\n",
       " 'finance assistant': 20,\n",
       " 'implementation assistant': 26,\n",
       " 'marketing assistant': 34,\n",
       " 'sales assistant': 53,\n",
       " 'business assistant': 14,\n",
       " 'research assistant': 47,\n",
       " 'investment assistant': 31,\n",
       " 'site analyst': 54,\n",
       " 'marketing officer': 35,\n",
       " 'implementation officer': 27,\n",
       " 'research associate': 48,\n",
       " 'business associate': 15,\n",
       " 'investment associate': 32,\n",
       " 'supply chain analyst': 56,\n",
       " 'supply chain officer': 58,\n",
       " 'supply chain associate': 57,\n",
       " 'human resource analyst': 22,\n",
       " 'human resource associate': 23,\n",
       " 'human resource officer': 24,\n",
       " 'training associate': 59,\n",
       " 'training officer': 60,\n",
       " 'administrative analyst': 8,\n",
       " 'administrative officer': 10,\n",
       " 'administrative associate': 9,\n",
       " 'website analyst': 63,\n",
       " 'accounting analyst': 4,\n",
       " 'accounting associate': 5,\n",
       " 'accounting officer': 6,\n",
       " 'quality assurance analyst': 43,\n",
       " 'facilities analyst': 18,\n",
       " 'quality assurance associate': 44,\n",
       " 'quality assurance officer': 45,\n",
       " 'risk analyst': 49,\n",
       " 'risk associate': 50,\n",
       " 'planning analyst': 39,\n",
       " 'budget analyst': 11,\n",
       " 'planning officer': 40,\n",
       " 'budget officer': 12,\n",
       " 'social media analyst': 55,\n",
       " 'insurance analyst': 28,\n",
       " 'insurance officer': 29,\n",
       " 'accounts payable analyst': 7,\n",
       " 'travel analyst': 61,\n",
       " 'travel associate': 62,\n",
       " 'expense analyst': 17,\n",
       " 'general accounting analyst': 21,\n",
       " 'Analyst': 0,\n",
       " 'Engineer': 2,\n",
       " 'operation': 36,\n",
       " 'Product Manager': 3,\n",
       " 'sales': 51,\n",
       " 'Artificial Intelligence': 1}"
      ]
     },
     "execution_count": 149,
     "metadata": {},
     "output_type": "execute_result"
    }
   ],
   "source": [
    "pd.Series(net_data['search key class'].values,index=net_data['Search Key']).to_dict()"
   ]
  },
  {
   "cell_type": "code",
   "execution_count": 27,
   "metadata": {
    "ExecuteTime": {
     "end_time": "2020-03-12T03:29:04.480942Z",
     "start_time": "2020-03-12T03:29:04.476923Z"
    }
   },
   "outputs": [],
   "source": [
    "net_data[\"SVM_Prediction\"] = s_pred"
   ]
  },
  {
   "cell_type": "code",
   "execution_count": 28,
   "metadata": {
    "ExecuteTime": {
     "end_time": "2020-03-12T03:29:05.706084Z",
     "start_time": "2020-03-12T03:29:05.654223Z"
    }
   },
   "outputs": [
    {
     "data": {
      "text/html": [
       "<div>\n",
       "<style scoped>\n",
       "    .dataframe tbody tr th:only-of-type {\n",
       "        vertical-align: middle;\n",
       "    }\n",
       "\n",
       "    .dataframe tbody tr th {\n",
       "        vertical-align: top;\n",
       "    }\n",
       "\n",
       "    .dataframe thead th {\n",
       "        text-align: right;\n",
       "    }\n",
       "</style>\n",
       "<table border=\"1\" class=\"dataframe\">\n",
       "  <thead>\n",
       "    <tr style=\"text-align: right;\">\n",
       "      <th></th>\n",
       "      <th>Company</th>\n",
       "      <th>Days Posted</th>\n",
       "      <th>Description</th>\n",
       "      <th>Experience Level</th>\n",
       "      <th>Job Type</th>\n",
       "      <th>Location</th>\n",
       "      <th>Rating</th>\n",
       "      <th>Salary</th>\n",
       "      <th>Search Key</th>\n",
       "      <th>Skills</th>\n",
       "      <th>Sponsored</th>\n",
       "      <th>Title</th>\n",
       "      <th>Job Description Lowered</th>\n",
       "      <th>Tokens</th>\n",
       "      <th>Tokens_1</th>\n",
       "      <th>Job Description Tokened</th>\n",
       "      <th>Tokens_2</th>\n",
       "      <th>search key class</th>\n",
       "      <th>SVM_Prediction</th>\n",
       "    </tr>\n",
       "  </thead>\n",
       "  <tbody>\n",
       "    <tr>\n",
       "      <td>0</td>\n",
       "      <td>Barclays</td>\n",
       "      <td>3 days ago</td>\n",
       "      <td>\\n\\nAchieves operational excellence by effecti...</td>\n",
       "      <td>NaN</td>\n",
       "      <td>NaN</td>\n",
       "      <td>Delhi, Delhi</td>\n",
       "      <td>4.0</td>\n",
       "      <td>NaN</td>\n",
       "      <td>operational analyst</td>\n",
       "      <td>NaN</td>\n",
       "      <td>Organic</td>\n",
       "      <td>Governance Analyst</td>\n",
       "      <td>achieves operational excellence by effectivel...</td>\n",
       "      <td>[achieves, operational, excellence, by, effect...</td>\n",
       "      <td>[achieves, operational, excellence, effectivel...</td>\n",
       "      <td>achieves operational excellence effectively ap...</td>\n",
       "      <td>[(achieves, operational), (operational, excell...</td>\n",
       "      <td>37</td>\n",
       "      <td>37</td>\n",
       "    </tr>\n",
       "    <tr>\n",
       "      <td>1</td>\n",
       "      <td>RBS</td>\n",
       "      <td>Just posted</td>\n",
       "      <td>\\n\\nKnowledge and experience of operational pr...</td>\n",
       "      <td>NaN</td>\n",
       "      <td>NaN</td>\n",
       "      <td>Gurgaon, Haryana</td>\n",
       "      <td>3.9</td>\n",
       "      <td>NaN</td>\n",
       "      <td>operational analyst</td>\n",
       "      <td>NaN</td>\n",
       "      <td>Organic</td>\n",
       "      <td>Production Management Analyst</td>\n",
       "      <td>knowledge and experience of operational princ...</td>\n",
       "      <td>[knowledge, and, experience, of, operational, ...</td>\n",
       "      <td>[knowledge, experience, operational, principle...</td>\n",
       "      <td>knowledge experience operational principles jo...</td>\n",
       "      <td>[(knowledge, experience), (experience, operati...</td>\n",
       "      <td>37</td>\n",
       "      <td>37</td>\n",
       "    </tr>\n",
       "    <tr>\n",
       "      <td>2</td>\n",
       "      <td>Genworth</td>\n",
       "      <td>2 days ago</td>\n",
       "      <td>\\n\\nAs a QA/Testing Analyst on the LTC Custome...</td>\n",
       "      <td>NaN</td>\n",
       "      <td>NaN</td>\n",
       "      <td>Mumbai, Maharashtra</td>\n",
       "      <td>3.7</td>\n",
       "      <td>NaN</td>\n",
       "      <td>operational analyst</td>\n",
       "      <td>Analysis Skills, Test Automation</td>\n",
       "      <td>Organic</td>\n",
       "      <td>QA Testing Analyst</td>\n",
       "      <td>as a qa/testing analyst on the ltc customer s...</td>\n",
       "      <td>[as, a, qa, testing, analyst, on, the, ltc, cu...</td>\n",
       "      <td>[qa, testing, analyst, ltc, customer, solution...</td>\n",
       "      <td>qa testing analyst ltc customer solutions team...</td>\n",
       "      <td>[(qa, testing), (testing, analyst), (analyst, ...</td>\n",
       "      <td>37</td>\n",
       "      <td>16</td>\n",
       "    </tr>\n",
       "    <tr>\n",
       "      <td>3</td>\n",
       "      <td>Novo Nordisk</td>\n",
       "      <td>1 day ago</td>\n",
       "      <td>\\n\\nYou will be providing support and drive th...</td>\n",
       "      <td>NaN</td>\n",
       "      <td>NaN</td>\n",
       "      <td>Bengaluru, Karnataka</td>\n",
       "      <td>4.1</td>\n",
       "      <td>NaN</td>\n",
       "      <td>operational analyst</td>\n",
       "      <td>NaN</td>\n",
       "      <td>Organic</td>\n",
       "      <td>Analyst</td>\n",
       "      <td>you will be providing support and drive the p...</td>\n",
       "      <td>[you, will, be, providing, support, and, drive...</td>\n",
       "      <td>[providing, support, drive, preparation, high,...</td>\n",
       "      <td>providing support drive preparation high quali...</td>\n",
       "      <td>[(providing, support), (support, drive), (driv...</td>\n",
       "      <td>37</td>\n",
       "      <td>37</td>\n",
       "    </tr>\n",
       "    <tr>\n",
       "      <td>4</td>\n",
       "      <td>Barclays</td>\n",
       "      <td>3 days ago</td>\n",
       "      <td>\\n\\nThe range of models encompasses the majori...</td>\n",
       "      <td>NaN</td>\n",
       "      <td>NaN</td>\n",
       "      <td>Delhi, Delhi</td>\n",
       "      <td>4.0</td>\n",
       "      <td>NaN</td>\n",
       "      <td>operational analyst</td>\n",
       "      <td>NaN</td>\n",
       "      <td>Organic</td>\n",
       "      <td>Modelling Analyst</td>\n",
       "      <td>the range of models encompasses the majority ...</td>\n",
       "      <td>[the, range, of, models, encompasses, the, maj...</td>\n",
       "      <td>[range, models, encompasses, majority, empiric...</td>\n",
       "      <td>range models encompasses majority empirical mo...</td>\n",
       "      <td>[(range, models), (models, encompasses), (enco...</td>\n",
       "      <td>37</td>\n",
       "      <td>37</td>\n",
       "    </tr>\n",
       "    <tr>\n",
       "      <td>...</td>\n",
       "      <td>...</td>\n",
       "      <td>...</td>\n",
       "      <td>...</td>\n",
       "      <td>...</td>\n",
       "      <td>...</td>\n",
       "      <td>...</td>\n",
       "      <td>...</td>\n",
       "      <td>...</td>\n",
       "      <td>...</td>\n",
       "      <td>...</td>\n",
       "      <td>...</td>\n",
       "      <td>...</td>\n",
       "      <td>...</td>\n",
       "      <td>...</td>\n",
       "      <td>...</td>\n",
       "      <td>...</td>\n",
       "      <td>...</td>\n",
       "      <td>...</td>\n",
       "      <td>...</td>\n",
       "    </tr>\n",
       "    <tr>\n",
       "      <td>67284</td>\n",
       "      <td>Capgemini</td>\n",
       "      <td>19 days ago</td>\n",
       "      <td>\\n\\nPython developer-4to6years-Mumbai location...</td>\n",
       "      <td>NaN</td>\n",
       "      <td>NaN</td>\n",
       "      <td>Mumbai, Maharashtra</td>\n",
       "      <td>3.8</td>\n",
       "      <td>NaN</td>\n",
       "      <td>Artificial Intelligence</td>\n",
       "      <td>NaN</td>\n",
       "      <td>Organic</td>\n",
       "      <td>Python developer--4to6years--Mumbai location</td>\n",
       "      <td>python developer-4to6years-mumbai location.\\n...</td>\n",
       "      <td>[python, developer, 4to6years, mumbai, locatio...</td>\n",
       "      <td>[python, developer, 4to6years, mumbai, locatio...</td>\n",
       "      <td>python developer 4to6years mumbai location hir...</td>\n",
       "      <td>[(python, developer), (developer, 4to6years), ...</td>\n",
       "      <td>1</td>\n",
       "      <td>1</td>\n",
       "    </tr>\n",
       "    <tr>\n",
       "      <td>67285</td>\n",
       "      <td>Société Générale</td>\n",
       "      <td>25 days ago</td>\n",
       "      <td>\\n\\nBachelor's degree in IT/IS or related fiel...</td>\n",
       "      <td>NaN</td>\n",
       "      <td>NaN</td>\n",
       "      <td>Bengaluru, Karnataka</td>\n",
       "      <td>3.9</td>\n",
       "      <td>NaN</td>\n",
       "      <td>Artificial Intelligence</td>\n",
       "      <td>NaN</td>\n",
       "      <td>Organic</td>\n",
       "      <td>Sr. Support Engineer</td>\n",
       "      <td>bachelor's degree in it/is or related field, ...</td>\n",
       "      <td>[bachelor, s, degree, in, it, is, or, related,...</td>\n",
       "      <td>[bachelor, degree, related, field, equivalent,...</td>\n",
       "      <td>bachelor degree related field equivalent exper...</td>\n",
       "      <td>[(bachelor, degree), (degree, related), (relat...</td>\n",
       "      <td>1</td>\n",
       "      <td>1</td>\n",
       "    </tr>\n",
       "    <tr>\n",
       "      <td>67286</td>\n",
       "      <td>Accenture</td>\n",
       "      <td>30+ days ago</td>\n",
       "      <td>\\n\\nAccenture Applied Intelligence, part of Ac...</td>\n",
       "      <td>NaN</td>\n",
       "      <td>NaN</td>\n",
       "      <td>Bengaluru, Karnataka</td>\n",
       "      <td>4.0</td>\n",
       "      <td>NaN</td>\n",
       "      <td>Artificial Intelligence</td>\n",
       "      <td>NaN</td>\n",
       "      <td>Organic</td>\n",
       "      <td>ACN - Digital - Analytics - CDM - 10</td>\n",
       "      <td>accenture applied intelligence, part of accen...</td>\n",
       "      <td>[accenture, applied, intelligence, part, of, a...</td>\n",
       "      <td>[accenture, applied, intelligence, part, accen...</td>\n",
       "      <td>accenture applied intelligence part accenture ...</td>\n",
       "      <td>[(accenture, applied), (applied, intelligence)...</td>\n",
       "      <td>1</td>\n",
       "      <td>1</td>\n",
       "    </tr>\n",
       "    <tr>\n",
       "      <td>67287</td>\n",
       "      <td>The Boston Consulting Group</td>\n",
       "      <td>30+ days ago</td>\n",
       "      <td>\\n\\nBCG GAMMA combines innovative skills in co...</td>\n",
       "      <td>NaN</td>\n",
       "      <td>NaN</td>\n",
       "      <td>Bengaluru, Karnataka</td>\n",
       "      <td>4.2</td>\n",
       "      <td>NaN</td>\n",
       "      <td>Artificial Intelligence</td>\n",
       "      <td>NaN</td>\n",
       "      <td>Organic</td>\n",
       "      <td>Senior Analyst - GAMMA</td>\n",
       "      <td>bcg gamma combines innovative skills in compu...</td>\n",
       "      <td>[bcg, gamma, combines, innovative, skills, in,...</td>\n",
       "      <td>[bcg, gamma, combines, innovative, skills, com...</td>\n",
       "      <td>bcg gamma combines innovative skills computer ...</td>\n",
       "      <td>[(bcg, gamma), (gamma, combines), (combines, i...</td>\n",
       "      <td>1</td>\n",
       "      <td>1</td>\n",
       "    </tr>\n",
       "    <tr>\n",
       "      <td>67288</td>\n",
       "      <td>Microsoft</td>\n",
       "      <td>30+ days ago</td>\n",
       "      <td>\\n\\nWhile you’ve heard about Microsoft’s Digit...</td>\n",
       "      <td>NaN</td>\n",
       "      <td>NaN</td>\n",
       "      <td>Hyderabad, Telangana</td>\n",
       "      <td>4.2</td>\n",
       "      <td>NaN</td>\n",
       "      <td>Artificial Intelligence</td>\n",
       "      <td>NaN</td>\n",
       "      <td>Organic</td>\n",
       "      <td>Sr Software Engineer</td>\n",
       "      <td>while you’ve heard about microsoft’s digital ...</td>\n",
       "      <td>[while, you, ve, heard, about, microsoft, s, d...</td>\n",
       "      <td>[heard, microsoft, digital, transformation, le...</td>\n",
       "      <td>heard microsoft digital transformation leading...</td>\n",
       "      <td>[(heard, microsoft), (microsoft, digital), (di...</td>\n",
       "      <td>1</td>\n",
       "      <td>1</td>\n",
       "    </tr>\n",
       "  </tbody>\n",
       "</table>\n",
       "<p>67289 rows × 19 columns</p>\n",
       "</div>"
      ],
      "text/plain": [
       "                           Company   Days Posted  \\\n",
       "0                         Barclays    3 days ago   \n",
       "1                              RBS   Just posted   \n",
       "2                         Genworth    2 days ago   \n",
       "3                     Novo Nordisk     1 day ago   \n",
       "4                         Barclays    3 days ago   \n",
       "...                            ...           ...   \n",
       "67284                    Capgemini   19 days ago   \n",
       "67285             Société Générale   25 days ago   \n",
       "67286                    Accenture  30+ days ago   \n",
       "67287  The Boston Consulting Group  30+ days ago   \n",
       "67288                    Microsoft  30+ days ago   \n",
       "\n",
       "                                             Description  Experience Level  \\\n",
       "0      \\n\\nAchieves operational excellence by effecti...               NaN   \n",
       "1      \\n\\nKnowledge and experience of operational pr...               NaN   \n",
       "2      \\n\\nAs a QA/Testing Analyst on the LTC Custome...               NaN   \n",
       "3      \\n\\nYou will be providing support and drive th...               NaN   \n",
       "4      \\n\\nThe range of models encompasses the majori...               NaN   \n",
       "...                                                  ...               ...   \n",
       "67284  \\n\\nPython developer-4to6years-Mumbai location...               NaN   \n",
       "67285  \\n\\nBachelor's degree in IT/IS or related fiel...               NaN   \n",
       "67286  \\n\\nAccenture Applied Intelligence, part of Ac...               NaN   \n",
       "67287  \\n\\nBCG GAMMA combines innovative skills in co...               NaN   \n",
       "67288  \\n\\nWhile you’ve heard about Microsoft’s Digit...               NaN   \n",
       "\n",
       "       Job Type              Location  Rating Salary               Search Key  \\\n",
       "0           NaN          Delhi, Delhi     4.0    NaN      operational analyst   \n",
       "1           NaN      Gurgaon, Haryana     3.9    NaN      operational analyst   \n",
       "2           NaN   Mumbai, Maharashtra     3.7    NaN      operational analyst   \n",
       "3           NaN  Bengaluru, Karnataka     4.1    NaN      operational analyst   \n",
       "4           NaN          Delhi, Delhi     4.0    NaN      operational analyst   \n",
       "...         ...                   ...     ...    ...                      ...   \n",
       "67284       NaN   Mumbai, Maharashtra     3.8    NaN  Artificial Intelligence   \n",
       "67285       NaN  Bengaluru, Karnataka     3.9    NaN  Artificial Intelligence   \n",
       "67286       NaN  Bengaluru, Karnataka     4.0    NaN  Artificial Intelligence   \n",
       "67287       NaN  Bengaluru, Karnataka     4.2    NaN  Artificial Intelligence   \n",
       "67288       NaN  Hyderabad, Telangana     4.2    NaN  Artificial Intelligence   \n",
       "\n",
       "                                 Skills Sponsored  \\\n",
       "0                                   NaN   Organic   \n",
       "1                                   NaN   Organic   \n",
       "2      Analysis Skills, Test Automation   Organic   \n",
       "3                                   NaN   Organic   \n",
       "4                                   NaN   Organic   \n",
       "...                                 ...       ...   \n",
       "67284                               NaN   Organic   \n",
       "67285                               NaN   Organic   \n",
       "67286                               NaN   Organic   \n",
       "67287                               NaN   Organic   \n",
       "67288                               NaN   Organic   \n",
       "\n",
       "                                              Title  \\\n",
       "0                                Governance Analyst   \n",
       "1                     Production Management Analyst   \n",
       "2                                QA Testing Analyst   \n",
       "3                                           Analyst   \n",
       "4                                 Modelling Analyst   \n",
       "...                                             ...   \n",
       "67284  Python developer--4to6years--Mumbai location   \n",
       "67285                          Sr. Support Engineer   \n",
       "67286          ACN - Digital - Analytics - CDM - 10   \n",
       "67287                        Senior Analyst - GAMMA   \n",
       "67288                          Sr Software Engineer   \n",
       "\n",
       "                                 Job Description Lowered  \\\n",
       "0       achieves operational excellence by effectivel...   \n",
       "1       knowledge and experience of operational princ...   \n",
       "2       as a qa/testing analyst on the ltc customer s...   \n",
       "3       you will be providing support and drive the p...   \n",
       "4       the range of models encompasses the majority ...   \n",
       "...                                                  ...   \n",
       "67284   python developer-4to6years-mumbai location.\\n...   \n",
       "67285   bachelor's degree in it/is or related field, ...   \n",
       "67286   accenture applied intelligence, part of accen...   \n",
       "67287   bcg gamma combines innovative skills in compu...   \n",
       "67288   while you’ve heard about microsoft’s digital ...   \n",
       "\n",
       "                                                  Tokens  \\\n",
       "0      [achieves, operational, excellence, by, effect...   \n",
       "1      [knowledge, and, experience, of, operational, ...   \n",
       "2      [as, a, qa, testing, analyst, on, the, ltc, cu...   \n",
       "3      [you, will, be, providing, support, and, drive...   \n",
       "4      [the, range, of, models, encompasses, the, maj...   \n",
       "...                                                  ...   \n",
       "67284  [python, developer, 4to6years, mumbai, locatio...   \n",
       "67285  [bachelor, s, degree, in, it, is, or, related,...   \n",
       "67286  [accenture, applied, intelligence, part, of, a...   \n",
       "67287  [bcg, gamma, combines, innovative, skills, in,...   \n",
       "67288  [while, you, ve, heard, about, microsoft, s, d...   \n",
       "\n",
       "                                                Tokens_1  \\\n",
       "0      [achieves, operational, excellence, effectivel...   \n",
       "1      [knowledge, experience, operational, principle...   \n",
       "2      [qa, testing, analyst, ltc, customer, solution...   \n",
       "3      [providing, support, drive, preparation, high,...   \n",
       "4      [range, models, encompasses, majority, empiric...   \n",
       "...                                                  ...   \n",
       "67284  [python, developer, 4to6years, mumbai, locatio...   \n",
       "67285  [bachelor, degree, related, field, equivalent,...   \n",
       "67286  [accenture, applied, intelligence, part, accen...   \n",
       "67287  [bcg, gamma, combines, innovative, skills, com...   \n",
       "67288  [heard, microsoft, digital, transformation, le...   \n",
       "\n",
       "                                 Job Description Tokened  \\\n",
       "0      achieves operational excellence effectively ap...   \n",
       "1      knowledge experience operational principles jo...   \n",
       "2      qa testing analyst ltc customer solutions team...   \n",
       "3      providing support drive preparation high quali...   \n",
       "4      range models encompasses majority empirical mo...   \n",
       "...                                                  ...   \n",
       "67284  python developer 4to6years mumbai location hir...   \n",
       "67285  bachelor degree related field equivalent exper...   \n",
       "67286  accenture applied intelligence part accenture ...   \n",
       "67287  bcg gamma combines innovative skills computer ...   \n",
       "67288  heard microsoft digital transformation leading...   \n",
       "\n",
       "                                                Tokens_2  search key class  \\\n",
       "0      [(achieves, operational), (operational, excell...                37   \n",
       "1      [(knowledge, experience), (experience, operati...                37   \n",
       "2      [(qa, testing), (testing, analyst), (analyst, ...                37   \n",
       "3      [(providing, support), (support, drive), (driv...                37   \n",
       "4      [(range, models), (models, encompasses), (enco...                37   \n",
       "...                                                  ...               ...   \n",
       "67284  [(python, developer), (developer, 4to6years), ...                 1   \n",
       "67285  [(bachelor, degree), (degree, related), (relat...                 1   \n",
       "67286  [(accenture, applied), (applied, intelligence)...                 1   \n",
       "67287  [(bcg, gamma), (gamma, combines), (combines, i...                 1   \n",
       "67288  [(heard, microsoft), (microsoft, digital), (di...                 1   \n",
       "\n",
       "       SVM_Prediction  \n",
       "0                  37  \n",
       "1                  37  \n",
       "2                  16  \n",
       "3                  37  \n",
       "4                  37  \n",
       "...               ...  \n",
       "67284               1  \n",
       "67285               1  \n",
       "67286               1  \n",
       "67287               1  \n",
       "67288               1  \n",
       "\n",
       "[67289 rows x 19 columns]"
      ]
     },
     "execution_count": 28,
     "metadata": {},
     "output_type": "execute_result"
    }
   ],
   "source": [
    "net_data"
   ]
  },
  {
   "cell_type": "markdown",
   "metadata": {},
   "source": [
    "## Using Naive Bayes instead of SVM "
   ]
  },
  {
   "cell_type": "code",
   "execution_count": 124,
   "metadata": {
    "ExecuteTime": {
     "end_time": "2020-03-09T15:15:23.966100Z",
     "start_time": "2020-03-09T15:15:23.687084Z"
    }
   },
   "outputs": [
    {
     "name": "stdout",
     "output_type": "stream",
     "text": [
      "Naive Bayes Accuracy Score ->  55.74611006256595\n"
     ]
    }
   ],
   "source": [
    "#fit the training dataset on the NB classifier\n",
    "n = naive_bayes.MultinomialNB()\n",
    "n.fit(x_tfidf, y)# predict the labels on validation dataset\n",
    "n_pred = n.predict(x_tfidf)# Use accuracy_score function to get the accuracy\n",
    "print(\"Naive Bayes Accuracy Score -> \",accuracy_score(n_pred, y)*100)"
   ]
  },
  {
   "cell_type": "markdown",
   "metadata": {},
   "source": [
    "## On Job Title instead of Job Search Key "
   ]
  },
  {
   "cell_type": "code",
   "execution_count": 152,
   "metadata": {
    "ExecuteTime": {
     "end_time": "2020-03-09T15:24:45.738377Z",
     "start_time": "2020-03-09T15:24:45.700107Z"
    }
   },
   "outputs": [
    {
     "name": "stdout",
     "output_type": "stream",
     "text": [
      "[ 8472 12865 13328 ...   114 15292 17133]\n"
     ]
    }
   ],
   "source": [
    "from sklearn.preprocessing import LabelEncoder\n",
    "encoder = LabelEncoder()\n",
    "y = encoder.fit_transform(net_data['Title'])\n",
    "print(y)"
   ]
  },
  {
   "cell_type": "code",
   "execution_count": 153,
   "metadata": {
    "ExecuteTime": {
     "end_time": "2020-03-09T15:24:45.754583Z",
     "start_time": "2020-03-09T15:24:45.739734Z"
    }
   },
   "outputs": [
    {
     "data": {
      "text/plain": [
       "19438"
      ]
     },
     "execution_count": 153,
     "metadata": {},
     "output_type": "execute_result"
    }
   ],
   "source": [
    "len(set(y))"
   ]
  },
  {
   "cell_type": "code",
   "execution_count": 154,
   "metadata": {
    "ExecuteTime": {
     "end_time": "2020-03-09T15:24:45.762037Z",
     "start_time": "2020-03-09T15:24:45.756943Z"
    }
   },
   "outputs": [],
   "source": [
    "net_data['job class'] = y"
   ]
  },
  {
   "cell_type": "code",
   "execution_count": 155,
   "metadata": {
    "ExecuteTime": {
     "end_time": "2020-03-09T15:24:45.834868Z",
     "start_time": "2020-03-09T15:24:45.763321Z"
    }
   },
   "outputs": [
    {
     "data": {
      "text/html": [
       "<div>\n",
       "<style scoped>\n",
       "    .dataframe tbody tr th:only-of-type {\n",
       "        vertical-align: middle;\n",
       "    }\n",
       "\n",
       "    .dataframe tbody tr th {\n",
       "        vertical-align: top;\n",
       "    }\n",
       "\n",
       "    .dataframe thead th {\n",
       "        text-align: right;\n",
       "    }\n",
       "</style>\n",
       "<table border=\"1\" class=\"dataframe\">\n",
       "  <thead>\n",
       "    <tr style=\"text-align: right;\">\n",
       "      <th></th>\n",
       "      <th>Company</th>\n",
       "      <th>Days Posted</th>\n",
       "      <th>Description</th>\n",
       "      <th>Experience Level</th>\n",
       "      <th>Job Type</th>\n",
       "      <th>Location</th>\n",
       "      <th>Rating</th>\n",
       "      <th>Salary</th>\n",
       "      <th>Search Key</th>\n",
       "      <th>Skills</th>\n",
       "      <th>Sponsored</th>\n",
       "      <th>Title</th>\n",
       "      <th>Job Description Lowered</th>\n",
       "      <th>Tokens</th>\n",
       "      <th>Tokens_1</th>\n",
       "      <th>Job Description Tokened</th>\n",
       "      <th>Tokens_2</th>\n",
       "      <th>search key class</th>\n",
       "      <th>SVM_Prediction</th>\n",
       "      <th>job class</th>\n",
       "    </tr>\n",
       "  </thead>\n",
       "  <tbody>\n",
       "    <tr>\n",
       "      <td>0</td>\n",
       "      <td>Barclays</td>\n",
       "      <td>3 days ago</td>\n",
       "      <td>\\n\\nAchieves operational excellence by effecti...</td>\n",
       "      <td>NaN</td>\n",
       "      <td>NaN</td>\n",
       "      <td>Delhi, Delhi</td>\n",
       "      <td>4.0</td>\n",
       "      <td>NaN</td>\n",
       "      <td>operational analyst</td>\n",
       "      <td>NaN</td>\n",
       "      <td>Organic</td>\n",
       "      <td>Governance Analyst</td>\n",
       "      <td>achieves operational excellence by effectivel...</td>\n",
       "      <td>[achieves, operational, excellence, by, effect...</td>\n",
       "      <td>[achieves, operational, excellence, effectivel...</td>\n",
       "      <td>achieves operational excellence effectively ap...</td>\n",
       "      <td>[(achieves, operational), (operational, excell...</td>\n",
       "      <td>37</td>\n",
       "      <td>37</td>\n",
       "      <td>8472</td>\n",
       "    </tr>\n",
       "    <tr>\n",
       "      <td>1</td>\n",
       "      <td>RBS</td>\n",
       "      <td>Just posted</td>\n",
       "      <td>\\n\\nKnowledge and experience of operational pr...</td>\n",
       "      <td>NaN</td>\n",
       "      <td>NaN</td>\n",
       "      <td>Gurgaon, Haryana</td>\n",
       "      <td>3.9</td>\n",
       "      <td>NaN</td>\n",
       "      <td>operational analyst</td>\n",
       "      <td>NaN</td>\n",
       "      <td>Organic</td>\n",
       "      <td>Production Management Analyst</td>\n",
       "      <td>knowledge and experience of operational princ...</td>\n",
       "      <td>[knowledge, and, experience, of, operational, ...</td>\n",
       "      <td>[knowledge, experience, operational, principle...</td>\n",
       "      <td>knowledge experience operational principles jo...</td>\n",
       "      <td>[(knowledge, experience), (experience, operati...</td>\n",
       "      <td>37</td>\n",
       "      <td>37</td>\n",
       "      <td>12865</td>\n",
       "    </tr>\n",
       "    <tr>\n",
       "      <td>2</td>\n",
       "      <td>Genworth</td>\n",
       "      <td>2 days ago</td>\n",
       "      <td>\\n\\nAs a QA/Testing Analyst on the LTC Custome...</td>\n",
       "      <td>NaN</td>\n",
       "      <td>NaN</td>\n",
       "      <td>Mumbai, Maharashtra</td>\n",
       "      <td>3.7</td>\n",
       "      <td>NaN</td>\n",
       "      <td>operational analyst</td>\n",
       "      <td>Analysis Skills, Test Automation</td>\n",
       "      <td>Organic</td>\n",
       "      <td>QA Testing Analyst</td>\n",
       "      <td>as a qa/testing analyst on the ltc customer s...</td>\n",
       "      <td>[as, a, qa, testing, analyst, on, the, ltc, cu...</td>\n",
       "      <td>[qa, testing, analyst, ltc, customer, solution...</td>\n",
       "      <td>qa testing analyst ltc customer solutions team...</td>\n",
       "      <td>[(qa, testing), (testing, analyst), (analyst, ...</td>\n",
       "      <td>37</td>\n",
       "      <td>16</td>\n",
       "      <td>13328</td>\n",
       "    </tr>\n",
       "    <tr>\n",
       "      <td>3</td>\n",
       "      <td>Novo Nordisk</td>\n",
       "      <td>1 day ago</td>\n",
       "      <td>\\n\\nYou will be providing support and drive th...</td>\n",
       "      <td>NaN</td>\n",
       "      <td>NaN</td>\n",
       "      <td>Bengaluru, Karnataka</td>\n",
       "      <td>4.1</td>\n",
       "      <td>NaN</td>\n",
       "      <td>operational analyst</td>\n",
       "      <td>NaN</td>\n",
       "      <td>Organic</td>\n",
       "      <td>Analyst</td>\n",
       "      <td>you will be providing support and drive the p...</td>\n",
       "      <td>[you, will, be, providing, support, and, drive...</td>\n",
       "      <td>[providing, support, drive, preparation, high,...</td>\n",
       "      <td>providing support drive preparation high quali...</td>\n",
       "      <td>[(providing, support), (support, drive), (driv...</td>\n",
       "      <td>37</td>\n",
       "      <td>37</td>\n",
       "      <td>806</td>\n",
       "    </tr>\n",
       "    <tr>\n",
       "      <td>4</td>\n",
       "      <td>Barclays</td>\n",
       "      <td>3 days ago</td>\n",
       "      <td>\\n\\nThe range of models encompasses the majori...</td>\n",
       "      <td>NaN</td>\n",
       "      <td>NaN</td>\n",
       "      <td>Delhi, Delhi</td>\n",
       "      <td>4.0</td>\n",
       "      <td>NaN</td>\n",
       "      <td>operational analyst</td>\n",
       "      <td>NaN</td>\n",
       "      <td>Organic</td>\n",
       "      <td>Modelling Analyst</td>\n",
       "      <td>the range of models encompasses the majority ...</td>\n",
       "      <td>[the, range, of, models, encompasses, the, maj...</td>\n",
       "      <td>[range, models, encompasses, majority, empiric...</td>\n",
       "      <td>range models encompasses majority empirical mo...</td>\n",
       "      <td>[(range, models), (models, encompasses), (enco...</td>\n",
       "      <td>37</td>\n",
       "      <td>37</td>\n",
       "      <td>11367</td>\n",
       "    </tr>\n",
       "    <tr>\n",
       "      <td>...</td>\n",
       "      <td>...</td>\n",
       "      <td>...</td>\n",
       "      <td>...</td>\n",
       "      <td>...</td>\n",
       "      <td>...</td>\n",
       "      <td>...</td>\n",
       "      <td>...</td>\n",
       "      <td>...</td>\n",
       "      <td>...</td>\n",
       "      <td>...</td>\n",
       "      <td>...</td>\n",
       "      <td>...</td>\n",
       "      <td>...</td>\n",
       "      <td>...</td>\n",
       "      <td>...</td>\n",
       "      <td>...</td>\n",
       "      <td>...</td>\n",
       "      <td>...</td>\n",
       "      <td>...</td>\n",
       "      <td>...</td>\n",
       "    </tr>\n",
       "    <tr>\n",
       "      <td>67284</td>\n",
       "      <td>Capgemini</td>\n",
       "      <td>19 days ago</td>\n",
       "      <td>\\n\\nPython developer-4to6years-Mumbai location...</td>\n",
       "      <td>NaN</td>\n",
       "      <td>NaN</td>\n",
       "      <td>Mumbai, Maharashtra</td>\n",
       "      <td>3.8</td>\n",
       "      <td>NaN</td>\n",
       "      <td>Artificial Intelligence</td>\n",
       "      <td>NaN</td>\n",
       "      <td>Organic</td>\n",
       "      <td>Python developer--4to6years--Mumbai location</td>\n",
       "      <td>python developer-4to6years-mumbai location.\\n...</td>\n",
       "      <td>[python, developer, 4to6years, mumbai, locatio...</td>\n",
       "      <td>[python, developer, 4to6years, mumbai, locatio...</td>\n",
       "      <td>python developer 4to6years mumbai location hir...</td>\n",
       "      <td>[(python, developer), (developer, 4to6years), ...</td>\n",
       "      <td>1</td>\n",
       "      <td>1</td>\n",
       "      <td>13261</td>\n",
       "    </tr>\n",
       "    <tr>\n",
       "      <td>67285</td>\n",
       "      <td>Société Générale</td>\n",
       "      <td>25 days ago</td>\n",
       "      <td>\\n\\nBachelor's degree in IT/IS or related fiel...</td>\n",
       "      <td>NaN</td>\n",
       "      <td>NaN</td>\n",
       "      <td>Bengaluru, Karnataka</td>\n",
       "      <td>3.9</td>\n",
       "      <td>NaN</td>\n",
       "      <td>Artificial Intelligence</td>\n",
       "      <td>NaN</td>\n",
       "      <td>Organic</td>\n",
       "      <td>Sr. Support Engineer</td>\n",
       "      <td>bachelor's degree in it/is or related field, ...</td>\n",
       "      <td>[bachelor, s, degree, in, it, is, or, related,...</td>\n",
       "      <td>[bachelor, degree, related, field, equivalent,...</td>\n",
       "      <td>bachelor degree related field equivalent exper...</td>\n",
       "      <td>[(bachelor, degree), (degree, related), (relat...</td>\n",
       "      <td>1</td>\n",
       "      <td>1</td>\n",
       "      <td>17478</td>\n",
       "    </tr>\n",
       "    <tr>\n",
       "      <td>67286</td>\n",
       "      <td>Accenture</td>\n",
       "      <td>30+ days ago</td>\n",
       "      <td>\\n\\nAccenture Applied Intelligence, part of Ac...</td>\n",
       "      <td>NaN</td>\n",
       "      <td>NaN</td>\n",
       "      <td>Bengaluru, Karnataka</td>\n",
       "      <td>4.0</td>\n",
       "      <td>NaN</td>\n",
       "      <td>Artificial Intelligence</td>\n",
       "      <td>NaN</td>\n",
       "      <td>Organic</td>\n",
       "      <td>ACN - Digital - Analytics - CDM - 10</td>\n",
       "      <td>accenture applied intelligence, part of accen...</td>\n",
       "      <td>[accenture, applied, intelligence, part, of, a...</td>\n",
       "      <td>[accenture, applied, intelligence, part, accen...</td>\n",
       "      <td>accenture applied intelligence part accenture ...</td>\n",
       "      <td>[(accenture, applied), (applied, intelligence)...</td>\n",
       "      <td>1</td>\n",
       "      <td>1</td>\n",
       "      <td>114</td>\n",
       "    </tr>\n",
       "    <tr>\n",
       "      <td>67287</td>\n",
       "      <td>The Boston Consulting Group</td>\n",
       "      <td>30+ days ago</td>\n",
       "      <td>\\n\\nBCG GAMMA combines innovative skills in co...</td>\n",
       "      <td>NaN</td>\n",
       "      <td>NaN</td>\n",
       "      <td>Bengaluru, Karnataka</td>\n",
       "      <td>4.2</td>\n",
       "      <td>NaN</td>\n",
       "      <td>Artificial Intelligence</td>\n",
       "      <td>NaN</td>\n",
       "      <td>Organic</td>\n",
       "      <td>Senior Analyst - GAMMA</td>\n",
       "      <td>bcg gamma combines innovative skills in compu...</td>\n",
       "      <td>[bcg, gamma, combines, innovative, skills, in,...</td>\n",
       "      <td>[bcg, gamma, combines, innovative, skills, com...</td>\n",
       "      <td>bcg gamma combines innovative skills computer ...</td>\n",
       "      <td>[(bcg, gamma), (gamma, combines), (combines, i...</td>\n",
       "      <td>1</td>\n",
       "      <td>1</td>\n",
       "      <td>15292</td>\n",
       "    </tr>\n",
       "    <tr>\n",
       "      <td>67288</td>\n",
       "      <td>Microsoft</td>\n",
       "      <td>30+ days ago</td>\n",
       "      <td>\\n\\nWhile you’ve heard about Microsoft’s Digit...</td>\n",
       "      <td>NaN</td>\n",
       "      <td>NaN</td>\n",
       "      <td>Hyderabad, Telangana</td>\n",
       "      <td>4.2</td>\n",
       "      <td>NaN</td>\n",
       "      <td>Artificial Intelligence</td>\n",
       "      <td>NaN</td>\n",
       "      <td>Organic</td>\n",
       "      <td>Sr Software Engineer</td>\n",
       "      <td>while you’ve heard about microsoft’s digital ...</td>\n",
       "      <td>[while, you, ve, heard, about, microsoft, s, d...</td>\n",
       "      <td>[heard, microsoft, digital, transformation, le...</td>\n",
       "      <td>heard microsoft digital transformation leading...</td>\n",
       "      <td>[(heard, microsoft), (microsoft, digital), (di...</td>\n",
       "      <td>1</td>\n",
       "      <td>1</td>\n",
       "      <td>17133</td>\n",
       "    </tr>\n",
       "  </tbody>\n",
       "</table>\n",
       "<p>67289 rows × 20 columns</p>\n",
       "</div>"
      ],
      "text/plain": [
       "                           Company   Days Posted  \\\n",
       "0                         Barclays    3 days ago   \n",
       "1                              RBS   Just posted   \n",
       "2                         Genworth    2 days ago   \n",
       "3                     Novo Nordisk     1 day ago   \n",
       "4                         Barclays    3 days ago   \n",
       "...                            ...           ...   \n",
       "67284                    Capgemini   19 days ago   \n",
       "67285             Société Générale   25 days ago   \n",
       "67286                    Accenture  30+ days ago   \n",
       "67287  The Boston Consulting Group  30+ days ago   \n",
       "67288                    Microsoft  30+ days ago   \n",
       "\n",
       "                                             Description  Experience Level  \\\n",
       "0      \\n\\nAchieves operational excellence by effecti...               NaN   \n",
       "1      \\n\\nKnowledge and experience of operational pr...               NaN   \n",
       "2      \\n\\nAs a QA/Testing Analyst on the LTC Custome...               NaN   \n",
       "3      \\n\\nYou will be providing support and drive th...               NaN   \n",
       "4      \\n\\nThe range of models encompasses the majori...               NaN   \n",
       "...                                                  ...               ...   \n",
       "67284  \\n\\nPython developer-4to6years-Mumbai location...               NaN   \n",
       "67285  \\n\\nBachelor's degree in IT/IS or related fiel...               NaN   \n",
       "67286  \\n\\nAccenture Applied Intelligence, part of Ac...               NaN   \n",
       "67287  \\n\\nBCG GAMMA combines innovative skills in co...               NaN   \n",
       "67288  \\n\\nWhile you’ve heard about Microsoft’s Digit...               NaN   \n",
       "\n",
       "       Job Type              Location  Rating Salary               Search Key  \\\n",
       "0           NaN          Delhi, Delhi     4.0    NaN      operational analyst   \n",
       "1           NaN      Gurgaon, Haryana     3.9    NaN      operational analyst   \n",
       "2           NaN   Mumbai, Maharashtra     3.7    NaN      operational analyst   \n",
       "3           NaN  Bengaluru, Karnataka     4.1    NaN      operational analyst   \n",
       "4           NaN          Delhi, Delhi     4.0    NaN      operational analyst   \n",
       "...         ...                   ...     ...    ...                      ...   \n",
       "67284       NaN   Mumbai, Maharashtra     3.8    NaN  Artificial Intelligence   \n",
       "67285       NaN  Bengaluru, Karnataka     3.9    NaN  Artificial Intelligence   \n",
       "67286       NaN  Bengaluru, Karnataka     4.0    NaN  Artificial Intelligence   \n",
       "67287       NaN  Bengaluru, Karnataka     4.2    NaN  Artificial Intelligence   \n",
       "67288       NaN  Hyderabad, Telangana     4.2    NaN  Artificial Intelligence   \n",
       "\n",
       "                                 Skills Sponsored  \\\n",
       "0                                   NaN   Organic   \n",
       "1                                   NaN   Organic   \n",
       "2      Analysis Skills, Test Automation   Organic   \n",
       "3                                   NaN   Organic   \n",
       "4                                   NaN   Organic   \n",
       "...                                 ...       ...   \n",
       "67284                               NaN   Organic   \n",
       "67285                               NaN   Organic   \n",
       "67286                               NaN   Organic   \n",
       "67287                               NaN   Organic   \n",
       "67288                               NaN   Organic   \n",
       "\n",
       "                                              Title  \\\n",
       "0                                Governance Analyst   \n",
       "1                     Production Management Analyst   \n",
       "2                                QA Testing Analyst   \n",
       "3                                           Analyst   \n",
       "4                                 Modelling Analyst   \n",
       "...                                             ...   \n",
       "67284  Python developer--4to6years--Mumbai location   \n",
       "67285                          Sr. Support Engineer   \n",
       "67286          ACN - Digital - Analytics - CDM - 10   \n",
       "67287                        Senior Analyst - GAMMA   \n",
       "67288                          Sr Software Engineer   \n",
       "\n",
       "                                 Job Description Lowered  \\\n",
       "0       achieves operational excellence by effectivel...   \n",
       "1       knowledge and experience of operational princ...   \n",
       "2       as a qa/testing analyst on the ltc customer s...   \n",
       "3       you will be providing support and drive the p...   \n",
       "4       the range of models encompasses the majority ...   \n",
       "...                                                  ...   \n",
       "67284   python developer-4to6years-mumbai location.\\n...   \n",
       "67285   bachelor's degree in it/is or related field, ...   \n",
       "67286   accenture applied intelligence, part of accen...   \n",
       "67287   bcg gamma combines innovative skills in compu...   \n",
       "67288   while you’ve heard about microsoft’s digital ...   \n",
       "\n",
       "                                                  Tokens  \\\n",
       "0      [achieves, operational, excellence, by, effect...   \n",
       "1      [knowledge, and, experience, of, operational, ...   \n",
       "2      [as, a, qa, testing, analyst, on, the, ltc, cu...   \n",
       "3      [you, will, be, providing, support, and, drive...   \n",
       "4      [the, range, of, models, encompasses, the, maj...   \n",
       "...                                                  ...   \n",
       "67284  [python, developer, 4to6years, mumbai, locatio...   \n",
       "67285  [bachelor, s, degree, in, it, is, or, related,...   \n",
       "67286  [accenture, applied, intelligence, part, of, a...   \n",
       "67287  [bcg, gamma, combines, innovative, skills, in,...   \n",
       "67288  [while, you, ve, heard, about, microsoft, s, d...   \n",
       "\n",
       "                                                Tokens_1  \\\n",
       "0      [achieves, operational, excellence, effectivel...   \n",
       "1      [knowledge, experience, operational, principle...   \n",
       "2      [qa, testing, analyst, ltc, customer, solution...   \n",
       "3      [providing, support, drive, preparation, high,...   \n",
       "4      [range, models, encompasses, majority, empiric...   \n",
       "...                                                  ...   \n",
       "67284  [python, developer, 4to6years, mumbai, locatio...   \n",
       "67285  [bachelor, degree, related, field, equivalent,...   \n",
       "67286  [accenture, applied, intelligence, part, accen...   \n",
       "67287  [bcg, gamma, combines, innovative, skills, com...   \n",
       "67288  [heard, microsoft, digital, transformation, le...   \n",
       "\n",
       "                                 Job Description Tokened  \\\n",
       "0      achieves operational excellence effectively ap...   \n",
       "1      knowledge experience operational principles jo...   \n",
       "2      qa testing analyst ltc customer solutions team...   \n",
       "3      providing support drive preparation high quali...   \n",
       "4      range models encompasses majority empirical mo...   \n",
       "...                                                  ...   \n",
       "67284  python developer 4to6years mumbai location hir...   \n",
       "67285  bachelor degree related field equivalent exper...   \n",
       "67286  accenture applied intelligence part accenture ...   \n",
       "67287  bcg gamma combines innovative skills computer ...   \n",
       "67288  heard microsoft digital transformation leading...   \n",
       "\n",
       "                                                Tokens_2  search key class  \\\n",
       "0      [(achieves, operational), (operational, excell...                37   \n",
       "1      [(knowledge, experience), (experience, operati...                37   \n",
       "2      [(qa, testing), (testing, analyst), (analyst, ...                37   \n",
       "3      [(providing, support), (support, drive), (driv...                37   \n",
       "4      [(range, models), (models, encompasses), (enco...                37   \n",
       "...                                                  ...               ...   \n",
       "67284  [(python, developer), (developer, 4to6years), ...                 1   \n",
       "67285  [(bachelor, degree), (degree, related), (relat...                 1   \n",
       "67286  [(accenture, applied), (applied, intelligence)...                 1   \n",
       "67287  [(bcg, gamma), (gamma, combines), (combines, i...                 1   \n",
       "67288  [(heard, microsoft), (microsoft, digital), (di...                 1   \n",
       "\n",
       "       SVM_Prediction  job class  \n",
       "0                  37       8472  \n",
       "1                  37      12865  \n",
       "2                  16      13328  \n",
       "3                  37        806  \n",
       "4                  37      11367  \n",
       "...               ...        ...  \n",
       "67284               1      13261  \n",
       "67285               1      17478  \n",
       "67286               1        114  \n",
       "67287               1      15292  \n",
       "67288               1      17133  \n",
       "\n",
       "[67289 rows x 20 columns]"
      ]
     },
     "execution_count": 155,
     "metadata": {},
     "output_type": "execute_result"
    }
   ],
   "source": [
    "net_data"
   ]
  },
  {
   "cell_type": "code",
   "execution_count": null,
   "metadata": {
    "ExecuteTime": {
     "start_time": "2020-03-09T15:24:57.787Z"
    }
   },
   "outputs": [],
   "source": [
    "from sklearn import linear_model, naive_bayes, svm\n",
    "# Classifier - Algorithm - SVM\n",
    "s = svm.LinearSVC(C=1.0)\n",
    "# fit the training dataset on the classifier\n",
    "s.fit(x_tfidf, y)# predict the labels on validation dataset\n",
    "# make predictions using the trained model\n",
    "s_pred = s.predict(x_tfidf)\n",
    "\n",
    "from sklearn.metrics import accuracy_score\n",
    "# Use accuracy_score function to get the accuracy\n",
    "print(\"SVM Accuracy Score -> \",accuracy_score(s_pred, y)*100)"
   ]
  },
  {
   "cell_type": "code",
   "execution_count": null,
   "metadata": {
    "ExecuteTime": {
     "start_time": "2020-03-09T15:24:59.445Z"
    }
   },
   "outputs": [],
   "source": [
    "pd.Series(net_data['search key class'].values,index=net_data['Search Key']).to_dict()"
   ]
  },
  {
   "cell_type": "code",
   "execution_count": null,
   "metadata": {
    "ExecuteTime": {
     "start_time": "2020-03-09T15:25:13.771Z"
    }
   },
   "outputs": [],
   "source": [
    "net_data[\"SVM_Prediction_job_title\"] = s_pred"
   ]
  },
  {
   "cell_type": "code",
   "execution_count": null,
   "metadata": {
    "ExecuteTime": {
     "start_time": "2020-03-09T15:25:14.944Z"
    }
   },
   "outputs": [],
   "source": [
    "net_data"
   ]
  },
  {
   "cell_type": "markdown",
   "metadata": {},
   "source": [
    "## With n-gram"
   ]
  },
  {
   "cell_type": "code",
   "execution_count": null,
   "metadata": {
    "ExecuteTime": {
     "start_time": "2020-03-09T15:30:23.669Z"
    }
   },
   "outputs": [],
   "source": [
    "def ngram_text(article_text):\n",
    "    ngrams = {}\n",
    "    chars = 3\n",
    "    for i in range(len(article_text)-chars):\n",
    "        seq = article_text[i:i+chars]\n",
    "        print(seq)\n",
    "        if seq not in ngrams.keys():\n",
    "            ngrams[seq] = []\n",
    "        ngrams[seq].append(article_text[i+chars])\n",
    "    return ngrams"
   ]
  },
  {
   "cell_type": "code",
   "execution_count": null,
   "metadata": {},
   "outputs": [],
   "source": []
  }
 ],
 "metadata": {
  "kernelspec": {
   "display_name": "Python 3",
   "language": "python",
   "name": "python3"
  },
  "language_info": {
   "codemirror_mode": {
    "name": "ipython",
    "version": 3
   },
   "file_extension": ".py",
   "mimetype": "text/x-python",
   "name": "python",
   "nbconvert_exporter": "python",
   "pygments_lexer": "ipython3",
   "version": "3.7.4"
  },
  "toc": {
   "base_numbering": 1,
   "nav_menu": {},
   "number_sections": true,
   "sideBar": true,
   "skip_h1_title": false,
   "title_cell": "Table of Contents",
   "title_sidebar": "Contents",
   "toc_cell": false,
   "toc_position": {
    "height": "calc(100% - 180px)",
    "left": "10px",
    "top": "150px",
    "width": "307.2px"
   },
   "toc_section_display": true,
   "toc_window_display": true
  }
 },
 "nbformat": 4,
 "nbformat_minor": 2
}
