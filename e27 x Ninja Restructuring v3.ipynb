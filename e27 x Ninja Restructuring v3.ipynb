{
 "cells": [
  {
   "cell_type": "code",
   "execution_count": 59,
   "metadata": {},
   "outputs": [],
   "source": [
    "import pandas as pd\n",
    "import json\n",
    "import datetime\n",
    "import iso3166\n",
    "import ast\n",
    "import numpy as np"
   ]
  },
  {
   "cell_type": "code",
   "execution_count": 2,
   "metadata": {},
   "outputs": [
    {
     "name": "stderr",
     "output_type": "stream",
     "text": [
      "C:\\Users\\Jack\\Anaconda3\\lib\\site-packages\\IPython\\core\\interactiveshell.py:2785: DtypeWarning: Columns (16,29) have mixed types.Specify dtype option on import or set low_memory=False.\n",
      "  interactivity=interactivity, compiler=compiler, result=result)\n"
     ]
    },
    {
     "data": {
      "text/html": [
       "<div>\n",
       "<style scoped>\n",
       "    .dataframe tbody tr th:only-of-type {\n",
       "        vertical-align: middle;\n",
       "    }\n",
       "\n",
       "    .dataframe tbody tr th {\n",
       "        vertical-align: top;\n",
       "    }\n",
       "\n",
       "    .dataframe thead th {\n",
       "        text-align: right;\n",
       "    }\n",
       "</style>\n",
       "<table border=\"1\" class=\"dataframe\">\n",
       "  <thead>\n",
       "    <tr style=\"text-align: right;\">\n",
       "      <th></th>\n",
       "      <th>id_x</th>\n",
       "      <th>name_x</th>\n",
       "      <th>location_id</th>\n",
       "      <th>location_text</th>\n",
       "      <th>slug</th>\n",
       "      <th>market_x</th>\n",
       "      <th>raised_amount_x</th>\n",
       "      <th>has_been_funded</th>\n",
       "      <th>short_description</th>\n",
       "      <th>logo_thumb</th>\n",
       "      <th>...</th>\n",
       "      <th>role</th>\n",
       "      <th>headline_team_page</th>\n",
       "      <th>slug_team</th>\n",
       "      <th>logo_team</th>\n",
       "      <th>logo_thumb_team</th>\n",
       "      <th>inv_id</th>\n",
       "      <th>investor_y</th>\n",
       "      <th>Round</th>\n",
       "      <th>inv_date</th>\n",
       "      <th>Amount</th>\n",
       "    </tr>\n",
       "  </thead>\n",
       "  <tbody>\n",
       "    <tr>\n",
       "      <th>0</th>\n",
       "      <td>27547.0</td>\n",
       "      <td>Alchemy Foodtech</td>\n",
       "      <td>c400</td>\n",
       "      <td>Singapore</td>\n",
       "      <td>alchemy-foodtech</td>\n",
       "      <td>[[\"Food &amp; Beverage\"]]</td>\n",
       "      <td>0.0</td>\n",
       "      <td>4.0</td>\n",
       "      <td>Diabetes has become a national focus in Singap...</td>\n",
       "      <td>https://e27.co/img/startups/27547/logo-1505806...</td>\n",
       "      <td>...</td>\n",
       "      <td>NaN</td>\n",
       "      <td>NaN</td>\n",
       "      <td>NaN</td>\n",
       "      <td>NaN</td>\n",
       "      <td>NaN</td>\n",
       "      <td>17533.0</td>\n",
       "      <td>[{'name': 'NUS Enterprise.', 'slug': 'nus-ente...</td>\n",
       "      <td>Series A</td>\n",
       "      <td>2018-09-01</td>\n",
       "      <td>0.0</td>\n",
       "    </tr>\n",
       "    <tr>\n",
       "      <th>1</th>\n",
       "      <td>55341.0</td>\n",
       "      <td>Web Design World</td>\n",
       "      <td>c419</td>\n",
       "      <td>Thailand</td>\n",
       "      <td>web-design-world</td>\n",
       "      <td>[[\"Advertising\",\"Information &amp; Communications ...</td>\n",
       "      <td>0.0</td>\n",
       "      <td>0.0</td>\n",
       "      <td>Website Design and Development, SEO and Digita...</td>\n",
       "      <td>https://e27.co/img/startups/55341/logo_thumb.jpeg</td>\n",
       "      <td>...</td>\n",
       "      <td>NaN</td>\n",
       "      <td>NaN</td>\n",
       "      <td>NaN</td>\n",
       "      <td>NaN</td>\n",
       "      <td>NaN</td>\n",
       "      <td>NaN</td>\n",
       "      <td>NaN</td>\n",
       "      <td>NaN</td>\n",
       "      <td>NaN</td>\n",
       "      <td>NaN</td>\n",
       "    </tr>\n",
       "    <tr>\n",
       "      <th>2</th>\n",
       "      <td>646.0</td>\n",
       "      <td>The Wadhwa Group</td>\n",
       "      <td>NaN</td>\n",
       "      <td>NaN</td>\n",
       "      <td>NaN</td>\n",
       "      <td>NaN</td>\n",
       "      <td>0.0</td>\n",
       "      <td>0.0</td>\n",
       "      <td>NaN</td>\n",
       "      <td>https://e27.co/img/no_image.png?path=</td>\n",
       "      <td>...</td>\n",
       "      <td>NaN</td>\n",
       "      <td>NaN</td>\n",
       "      <td>NaN</td>\n",
       "      <td>NaN</td>\n",
       "      <td>NaN</td>\n",
       "      <td>NaN</td>\n",
       "      <td>NaN</td>\n",
       "      <td>NaN</td>\n",
       "      <td>NaN</td>\n",
       "      <td>NaN</td>\n",
       "    </tr>\n",
       "    <tr>\n",
       "      <th>3</th>\n",
       "      <td>107.0</td>\n",
       "      <td>Indianartideas</td>\n",
       "      <td>NaN</td>\n",
       "      <td>NaN</td>\n",
       "      <td>NaN</td>\n",
       "      <td>NaN</td>\n",
       "      <td>0.0</td>\n",
       "      <td>0.0</td>\n",
       "      <td>NaN</td>\n",
       "      <td>https://e27.co/img/no_image.png?path=</td>\n",
       "      <td>...</td>\n",
       "      <td>NaN</td>\n",
       "      <td>NaN</td>\n",
       "      <td>NaN</td>\n",
       "      <td>NaN</td>\n",
       "      <td>NaN</td>\n",
       "      <td>NaN</td>\n",
       "      <td>NaN</td>\n",
       "      <td>NaN</td>\n",
       "      <td>NaN</td>\n",
       "      <td>NaN</td>\n",
       "    </tr>\n",
       "    <tr>\n",
       "      <th>4</th>\n",
       "      <td>328.0</td>\n",
       "      <td>LogisticsIndonesia</td>\n",
       "      <td>NaN</td>\n",
       "      <td>NaN</td>\n",
       "      <td>NaN</td>\n",
       "      <td>NaN</td>\n",
       "      <td>0.0</td>\n",
       "      <td>0.0</td>\n",
       "      <td>NaN</td>\n",
       "      <td>https://e27.co/img/no_image.png?path=</td>\n",
       "      <td>...</td>\n",
       "      <td>NaN</td>\n",
       "      <td>NaN</td>\n",
       "      <td>NaN</td>\n",
       "      <td>NaN</td>\n",
       "      <td>NaN</td>\n",
       "      <td>NaN</td>\n",
       "      <td>NaN</td>\n",
       "      <td>NaN</td>\n",
       "      <td>NaN</td>\n",
       "      <td>NaN</td>\n",
       "    </tr>\n",
       "  </tbody>\n",
       "</table>\n",
       "<p>5 rows × 42 columns</p>\n",
       "</div>"
      ],
      "text/plain": [
       "      id_x              name_x location_id location_text              slug  \\\n",
       "0  27547.0    Alchemy Foodtech        c400     Singapore  alchemy-foodtech   \n",
       "1  55341.0    Web Design World        c419      Thailand  web-design-world   \n",
       "2    646.0    The Wadhwa Group         NaN           NaN               NaN   \n",
       "3    107.0      Indianartideas         NaN           NaN               NaN   \n",
       "4    328.0  LogisticsIndonesia         NaN           NaN               NaN   \n",
       "\n",
       "                                            market_x  raised_amount_x  \\\n",
       "0                              [[\"Food & Beverage\"]]              0.0   \n",
       "1  [[\"Advertising\",\"Information & Communications ...              0.0   \n",
       "2                                                NaN              0.0   \n",
       "3                                                NaN              0.0   \n",
       "4                                                NaN              0.0   \n",
       "\n",
       "   has_been_funded                                  short_description  \\\n",
       "0              4.0  Diabetes has become a national focus in Singap...   \n",
       "1              0.0  Website Design and Development, SEO and Digita...   \n",
       "2              0.0                                                NaN   \n",
       "3              0.0                                                NaN   \n",
       "4              0.0                                                NaN   \n",
       "\n",
       "                                          logo_thumb  ... role  \\\n",
       "0  https://e27.co/img/startups/27547/logo-1505806...  ...  NaN   \n",
       "1  https://e27.co/img/startups/55341/logo_thumb.jpeg  ...  NaN   \n",
       "2              https://e27.co/img/no_image.png?path=  ...  NaN   \n",
       "3              https://e27.co/img/no_image.png?path=  ...  NaN   \n",
       "4              https://e27.co/img/no_image.png?path=  ...  NaN   \n",
       "\n",
       "   headline_team_page  slug_team  logo_team  logo_thumb_team   inv_id  \\\n",
       "0                 NaN        NaN        NaN              NaN  17533.0   \n",
       "1                 NaN        NaN        NaN              NaN      NaN   \n",
       "2                 NaN        NaN        NaN              NaN      NaN   \n",
       "3                 NaN        NaN        NaN              NaN      NaN   \n",
       "4                 NaN        NaN        NaN              NaN      NaN   \n",
       "\n",
       "                                          investor_y     Round    inv_date  \\\n",
       "0  [{'name': 'NUS Enterprise.', 'slug': 'nus-ente...  Series A  2018-09-01   \n",
       "1                                                NaN       NaN         NaN   \n",
       "2                                                NaN       NaN         NaN   \n",
       "3                                                NaN       NaN         NaN   \n",
       "4                                                NaN       NaN         NaN   \n",
       "\n",
       "  Amount  \n",
       "0    0.0  \n",
       "1    NaN  \n",
       "2    NaN  \n",
       "3    NaN  \n",
       "4    NaN  \n",
       "\n",
       "[5 rows x 42 columns]"
      ]
     },
     "execution_count": 2,
     "metadata": {},
     "output_type": "execute_result"
    }
   ],
   "source": [
    "e27_df_original = pd.read_csv(\"[e27] DataFrameB 2020-03-19.csv\", index_col=0)\n",
    "e27_df_original.head()"
   ]
  },
  {
   "cell_type": "code",
   "execution_count": 3,
   "metadata": {},
   "outputs": [
    {
     "data": {
      "text/plain": [
       "(37106, 42)"
      ]
     },
     "execution_count": 3,
     "metadata": {},
     "output_type": "execute_result"
    }
   ],
   "source": [
    "e27_df_original.shape"
   ]
  },
  {
   "cell_type": "code",
   "execution_count": 4,
   "metadata": {},
   "outputs": [
    {
     "data": {
      "text/plain": [
       "(31731, 42)"
      ]
     },
     "execution_count": 4,
     "metadata": {},
     "output_type": "execute_result"
    }
   ],
   "source": [
    "e27_df = e27_df_original.drop_duplicates(subset=['name_x'])\n",
    "\n",
    "e27_df.shape"
   ]
  },
  {
   "cell_type": "code",
   "execution_count": 5,
   "metadata": {},
   "outputs": [],
   "source": [
    "e27_df = e27_df.dropna(subset=['name_x'])"
   ]
  },
  {
   "cell_type": "code",
   "execution_count": 6,
   "metadata": {},
   "outputs": [
    {
     "data": {
      "text/plain": [
       "(31730, 42)"
      ]
     },
     "execution_count": 6,
     "metadata": {},
     "output_type": "execute_result"
    }
   ],
   "source": [
    "e27_df.shape"
   ]
  },
  {
   "cell_type": "code",
   "execution_count": 7,
   "metadata": {},
   "outputs": [
    {
     "data": {
      "text/plain": [
       "id_x                        0\n",
       "name_x                      0\n",
       "location_id               188\n",
       "location_text             190\n",
       "slug                        6\n",
       "market_x                 8441\n",
       "raised_amount_x             0\n",
       "has_been_funded             0\n",
       "short_description        1063\n",
       "logo_thumb                  0\n",
       "website                   476\n",
       "startup_id                  7\n",
       "site_user_id_x              7\n",
       "raising_amount           2952\n",
       "fundraising              3779\n",
       "monthly_traffic         30202\n",
       "monthly_revenue         29670\n",
       "profile_completeness       87\n",
       "profile_level               7\n",
       "dateadded                   7\n",
       "lastupdate                  7\n",
       "metas_found_month       18747\n",
       "metas_found_year        18053\n",
       "metas_website             477\n",
       "metas_email              1812\n",
       "metas_linkedin          15625\n",
       "metas_twitter           16133\n",
       "metas_facebook          11612\n",
       "metas_investors         31715\n",
       "metas_raising_round     26976\n",
       "from_date_team          15258\n",
       "to_date_team            15258\n",
       "role                    28290\n",
       "headline_team_page      24586\n",
       "slug_team               15258\n",
       "logo_team               15258\n",
       "logo_thumb_team         15258\n",
       "inv_id                  27225\n",
       "investor_y              27225\n",
       "Round                   27225\n",
       "inv_date                27225\n",
       "Amount                  27225\n",
       "dtype: int64"
      ]
     },
     "execution_count": 7,
     "metadata": {},
     "output_type": "execute_result"
    }
   ],
   "source": [
    "e27_df.isnull().sum()"
   ]
  },
  {
   "cell_type": "code",
   "execution_count": 8,
   "metadata": {},
   "outputs": [
    {
     "data": {
      "text/plain": [
       "'SG'"
      ]
     },
     "execution_count": 8,
     "metadata": {},
     "output_type": "execute_result"
    }
   ],
   "source": [
    "def getCountryCode(country):\n",
    "    try:\n",
    "        code = iso3166.countries.get(country).alpha2\n",
    "    except:\n",
    "        code = None\n",
    "    return code\n",
    "\n",
    "sg = getCountryCode('Singapore')\n",
    "sg"
   ]
  },
  {
   "cell_type": "code",
   "execution_count": 9,
   "metadata": {},
   "outputs": [
    {
     "name": "stdout",
     "output_type": "stream",
     "text": [
      "https://e27.co/img/startups/27547/logo-1505806079_thumb.png\n",
      "None\n",
      "None\n",
      "None\n",
      "None\n"
     ]
    }
   ],
   "source": [
    "def getLogoURL(logo_url):\n",
    "    if logo_url[-4:] == '.png':\n",
    "        return logo_url\n",
    "    else:\n",
    "        return None\n",
    "    \n",
    "for i in e27_df[:5]['logo_thumb']:\n",
    "    print(getLogoURL(i))"
   ]
  },
  {
   "cell_type": "code",
   "execution_count": 10,
   "metadata": {},
   "outputs": [
    {
     "name": "stdout",
     "output_type": "stream",
     "text": [
      "2017-09-19\n",
      "None\n",
      "None\n",
      "None\n",
      "None\n",
      "None\n",
      "None\n",
      "None\n",
      "2017-03-13\n",
      "2020-03-18\n"
     ]
    }
   ],
   "source": [
    "def getDateAdded(date):\n",
    "    try:\n",
    "        # example: '2017-09-19 15:26:42'\n",
    "        date_stripped = datetime.datetime.strptime(date, \"%Y-%m-%d %H:%M:%S\")\n",
    "        date_formatted = date_stripped.strftime(\"%Y-%m-%d\")\n",
    "    except:\n",
    "        date_formatted = None\n",
    "    \n",
    "    return date_formatted\n",
    "\n",
    "for i in e27_df[:10]['dateadded']:\n",
    "    print(getDateAdded(i))"
   ]
  },
  {
   "cell_type": "code",
   "execution_count": 11,
   "metadata": {},
   "outputs": [
    {
     "name": "stdout",
     "output_type": "stream",
     "text": [
      "None\n",
      "None\n",
      "None\n",
      "None\n",
      "None\n",
      "None\n",
      "None\n",
      "None\n",
      "2018-02-01\n",
      "2006-01-01\n"
     ]
    }
   ],
   "source": [
    "def getFoundedDate(month, year):\n",
    "    # zfill adds zero pads to single digit numbers\n",
    "    try:\n",
    "        found_date = str(int(year)) + \"-\" + str(int(month)).zfill(2) + \"-01\"\n",
    "    except:\n",
    "        found_date = None\n",
    "    return found_date\n",
    "\n",
    "for index, row in e27_df[:10].iterrows():\n",
    "    print(getFoundedDate(row['metas_found_month'], row['metas_found_year']))"
   ]
  },
  {
   "cell_type": "code",
   "execution_count": 12,
   "metadata": {},
   "outputs": [
    {
     "data": {
      "text/plain": [
       "array(['Series A', nan, 'Seed', 'Venture Round', 'Grant', 'Series C',\n",
       "       'Series B', 'Pre-Seed', 'Acquisition', 'Angel', 'Series H',\n",
       "       'Series F', 'Debt', 'Equity Crowdfunding', 'Series D', 'Series E',\n",
       "       'Post IPO Equity', 'Series G', 'Undisclosed', 'Post IPO Debt',\n",
       "       'การเข้าซื้อกิจการ', '天使'], dtype=object)"
      ]
     },
     "execution_count": 12,
     "metadata": {},
     "output_type": "execute_result"
    }
   ],
   "source": [
    "e27_df_original['Round'].unique()"
   ]
  },
  {
   "cell_type": "code",
   "execution_count": 13,
   "metadata": {
    "scrolled": false
   },
   "outputs": [
    {
     "data": {
      "text/plain": [
       "[{'year': '2018',\n",
       "  'month': '2',\n",
       "  'amount': 0.0,\n",
       "  'currency': 'USD',\n",
       "  'round': 'ACQUISITION',\n",
       "  'investors': ['fundMyLife']}]"
      ]
     },
     "execution_count": 13,
     "metadata": {},
     "output_type": "execute_result"
    }
   ],
   "source": [
    "# structure funding round such that it fits Ninja\n",
    "def printFundingRound(funding_round):\n",
    "    fund = \"\"\n",
    "    if funding_round == 'Venture Round':\n",
    "        fund = 'VENTURE'\n",
    "    elif funding_round == 'การเข้าซื้อกิจการ':\n",
    "        fund = 'ACQUISITION'\n",
    "    elif funding_round == '天使':\n",
    "        fund = 'ANGEL'\n",
    "    else:\n",
    "        try:\n",
    "            fund = funding_round.upper()\n",
    "        except:\n",
    "            fund = funding_round\n",
    "    return fund\n",
    "\n",
    "def getInvestors(investor_df):\n",
    "    # turn the string representation of a dictionary into a real dictionary datatype\n",
    "    investor_list = []\n",
    "    investors = ast.literal_eval(investor_df)\n",
    "    try:\n",
    "        for names in investors:\n",
    "            investor_name = names['name']\n",
    "            investor_name = investor_name.split('(Investor)')[0].strip()\n",
    "            investor_list.append(investor_name)\n",
    "    except:\n",
    "        pass    \n",
    "    return list(set(investor_list))\n",
    "    \n",
    "    \n",
    "def structureFunding(original_df, company_name):\n",
    "    rounds = []\n",
    "    try:\n",
    "        sliced_df = original_df[original_df['name_x'] == company_name]\n",
    "        sliced_dropdup = sliced_df.drop_duplicates(subset=['Round'])\n",
    "        for index, row in sliced_dropdup.iterrows():\n",
    "            round_ = {}\n",
    "            try:\n",
    "                round_['year'] = row['inv_date'].split('-')[0]\n",
    "            except:\n",
    "                round_['year'] = None\n",
    "            try:\n",
    "                round_['month'] = str(int(row['inv_date'].split('-')[1]))\n",
    "            except:\n",
    "                round_['round'] = None\n",
    "            round_['amount'] = row['Amount']\n",
    "            round_['currency'] = 'USD'\n",
    "            round_['round'] = printFundingRound(row['Round'])\n",
    "            round_['investors'] = getInvestors(row['investor_y'])\n",
    "            rounds.append(round_)\n",
    "    except:\n",
    "        rounds = None\n",
    "        \n",
    "    return rounds\n",
    "\n",
    "structureFunding(e27_df_original, 'Consultwho.sg')\n",
    "\n",
    "#for i in structureFunding(e27_df_original, 'touchten')['Round']:\n",
    "#    print(printFundingRound(i))\n"
   ]
  },
  {
   "cell_type": "code",
   "execution_count": 14,
   "metadata": {},
   "outputs": [],
   "source": [
    "def getAllInvestors(list_of_funding_rounds):\n",
    "    list_of_investors = []\n",
    "    try:\n",
    "        for round_ in list_of_funding_rounds:\n",
    "            investors = round_['investors']\n",
    "            list_of_investors.extend(investors)\n",
    "    except:\n",
    "        pass\n",
    "    return list(set(list_of_investors))"
   ]
  },
  {
   "cell_type": "code",
   "execution_count": 15,
   "metadata": {
    "scrolled": false
   },
   "outputs": [
    {
     "data": {
      "text/plain": [
       "{'id': 'string',\n",
       " 'lastUpdate': '2019-09-29T12:38:18+01:00',\n",
       " 'name': 'StudyTube',\n",
       " 'tagline': 'It offers experts and training organizations an online platform where they can easily create, deploy and distribute online courses',\n",
       " 'about': 'The most complete learning experience platform for organisations.\\n         Studytube is the simplest way for organisations to find, book, manage\\n         and deliver their corporate training.',\n",
       " 'country': 'NE',\n",
       " 'founded': '2010-02-21',\n",
       " 'profileUrl': 'https://www.linkedin.com/company/studytube',\n",
       " 'domain': 'studytube.com',\n",
       " 'linkedinUrl': 'https://www.linkedin.com/company/studytube',\n",
       " 'crunchbaseUrl': 'http://www.crunchbase.com/company/studytube',\n",
       " 'logo': 'https://www.studytube.nl/hubfs/Studytube-2018/images/logo.svg',\n",
       " 'headcounts': [{'when': '2019-11-21', 'count': 'integer', 'range': '51-500'}],\n",
       " 'personsOfInterest': [{'name': 'Homam Karimi',\n",
       "   'title': 'CEO, Founder',\n",
       "   'image': 'https://s3.eu-west-2.amazonaws.com/dealroom-static/null/people-100.png',\n",
       "   'profiles': {'linkedin': 'https://www.linkedin.com/in/homam-karimi-45813915',\n",
       "    'crunchbase': '',\n",
       "    'dealroom': ''},\n",
       "   'bio': 'Homam is an entrepreneur in the field of education. He is the founder and CEO of StudyTube, the one stop solution for organizations to mange and develop the competencies of their employees, more efficiently. '}],\n",
       " 'specialities': ['education'],\n",
       " 'rounds': [{'year': 2017,\n",
       "   'month': 2,\n",
       "   'amount': 2000000,\n",
       "   'currency': 'EUR',\n",
       "   'round': 'SERIES B',\n",
       "   'investors': ['Vortex Capital Partners']}],\n",
       " 'investors': ['Vortex Capital Partners'],\n",
       " 'additionalData': 'object'}"
      ]
     },
     "execution_count": 15,
     "metadata": {},
     "output_type": "execute_result"
    }
   ],
   "source": [
    "example_json = {\n",
    "  \"id\": \"string\",\n",
    "  \"lastUpdate\": \"2019-09-29T12:38:18+01:00\",\n",
    "  \"name\": \"StudyTube\",\n",
    "  \"tagline\": \"It offers experts and training organizations an online platform where they can easily create, deploy and distribute online courses\",\n",
    "  \"about\": \"The most complete learning experience platform for organisations.\\n         Studytube is the simplest way for organisations to find, book, manage\\n         and deliver their corporate training.\",\n",
    "  \"country\": \"NE\",\n",
    "  \"founded\": \"2010-02-21\",\n",
    "  \"profileUrl\": \"https://www.linkedin.com/company/studytube\",\n",
    "  \"domain\": \"studytube.com\",\n",
    "  \"linkedinUrl\": \"https://www.linkedin.com/company/studytube\",\n",
    "  \"crunchbaseUrl\": \"http://www.crunchbase.com/company/studytube\",\n",
    "  \"logo\": \"https://www.studytube.nl/hubfs/Studytube-2018/images/logo.svg\",\n",
    "  \"headcounts\": [\n",
    "    {\n",
    "      \"when\": \"2019-11-21\",\n",
    "      \"count\": \"integer\",\n",
    "      \"range\": \"51-500\"\n",
    "    }\n",
    "  ],\n",
    "  \"personsOfInterest\": [\n",
    "    {\n",
    "      \"name\": \"Homam Karimi\",\n",
    "      \"title\": \"CEO, Founder\",\n",
    "      \"image\": \"https://s3.eu-west-2.amazonaws.com/dealroom-static/null/people-100.png\",\n",
    "      \"profiles\": {\n",
    "        \"linkedin\": \"https://www.linkedin.com/in/homam-karimi-45813915\",\n",
    "        \"crunchbase\": \"\",\n",
    "        \"dealroom\": \"\"\n",
    "      },\n",
    "      \"bio\": \"Homam is an entrepreneur in the field of education. He is the founder and CEO of StudyTube, the one stop solution for organizations to mange and develop the competencies of their employees, more efficiently. \"\n",
    "    }\n",
    "  ],\n",
    "  \"specialities\": [\n",
    "    \"education\"\n",
    "  ],\n",
    "  \"rounds\": [\n",
    "    {\n",
    "      \"year\": 2017,\n",
    "      \"month\": 2,\n",
    "      \"amount\": 2000000,\n",
    "      \"currency\": \"EUR\",\n",
    "      \"round\": \"SERIES B\",\n",
    "      \"investors\": [\n",
    "        \"Vortex Capital Partners\"\n",
    "      ]\n",
    "    }\n",
    "  ],\n",
    "  \"investors\": [\n",
    "    \"Vortex Capital Partners\"\n",
    "  ],\n",
    "  \"additionalData\": \"object\"\n",
    "}\n",
    "\n",
    "example_json"
   ]
  },
  {
   "cell_type": "code",
   "execution_count": 16,
   "metadata": {
    "scrolled": false
   },
   "outputs": [
    {
     "name": "stdout",
     "output_type": "stream",
     "text": [
      "{'id': 'string', 'lastUpdate': '2020-03-25T19:58:05+00:00', 'name': 'ELLA STUDY', 'tagline': 'An online platform connecting Vietnamese students with alumni for overseas universities placement consultations.', 'country': None, 'founded': None, 'domain': 'https://ellastudy.com/', 'linkedinUrl': nan, 'logo': 'https://e27.co/img/startups/26597/logo-1502421138_thumb.png', 'rounds': [{'year': '2017', 'month': '10', 'amount': 30000.0, 'currency': 'USD', 'round': 'SEED', 'investors': ['G&H Ventures', 'VIISA']}], 'investors': ['VIISA', 'G&H Ventures']}\n",
      "\n",
      "{'id': 'string', 'lastUpdate': '2020-03-25T19:58:05+00:00', 'name': 'MOJITOK', 'tagline': 'The startup offers third-party smart AI that helps read emotions and converts text to stickers.', 'country': None, 'founded': None, 'domain': 'http://www.mojitok.com/', 'linkedinUrl': nan, 'logo': 'https://e27.co/img/startups/26596/logo-1502420176_thumb.png', 'rounds': [{'year': '2017', 'month': '10', 'amount': 15000.0, 'currency': 'USD', 'round': 'SEED', 'investors': ['VIISA']}], 'investors': ['VIISA']}\n",
      "\n",
      "{'id': 'string', 'lastUpdate': '2020-03-25T19:58:05+00:00', 'name': 'WisePass', 'tagline': \"It's a membership that allows to get 1 free bottle daily in more than 70 venues in Ho Chi Min and Ha Noi for only 6M VND a month.\", 'country': None, 'founded': '2014-10-01', 'domain': 'http://wisepass.co/', 'linkedinUrl': 'https://www.linkedin.com/company/244944?trk=vsrp_companies_res_name&trkInfo=VSRPsearchId:3053310291473321689196,VSRPtargetId:244944,VSRPcmpt:primary', 'logo': 'https://e27.co/img/startups/21354/logo-1484793388_thumb.png', 'rounds': [{'year': '2018', 'month': '5', 'amount': 150000.0, 'currency': 'USD', 'round': 'SEED', 'investors': []}], 'investors': []}\n",
      "\n",
      "{'id': 'string', 'lastUpdate': '2020-03-25T19:58:05+00:00', 'name': 'Wefit', 'tagline': 'Much like Kfit or GuavaPass, Wefit is a monthly subscription company that gives users access to multiple gyms to enjoy the classes they want.', 'country': None, 'founded': None, 'domain': 'http://wefit.vn/', 'linkedinUrl': nan, 'logo': 'https://e27.co/img/startups/21353/logo-1484793257_thumb.png', 'rounds': [{'year': '2019', 'month': '1', 'amount': 1000000.0, 'currency': 'USD', 'round': 'SERIES A', 'investors': ['CyberAgent Ventures']}, {'year': '2017', 'month': '12', 'amount': 155000.0, 'currency': 'USD', 'round': 'SEED', 'investors': ['VIISA']}], 'investors': ['CyberAgent Ventures', 'VIISA']}\n",
      "\n",
      "{'id': 'string', 'lastUpdate': '2020-03-25T19:58:05+00:00', 'name': 'UseData  ', 'tagline': 'UseData offers a big data analytics platform for E-commerce businesses with ability to customize their processing needs.', 'country': None, 'founded': None, 'domain': 'http://usedata.vn/', 'linkedinUrl': 'https://www.linkedin.com/company/usedata', 'logo': 'https://e27.co/img/startups/7475/logo-1450335213_thumb.png', 'rounds': [{'year': '2017', 'month': '4', 'amount': 30000.0, 'currency': 'USD', 'round': 'SEED', 'investors': ['VIISA']}], 'investors': ['VIISA']}\n",
      "\n"
     ]
    }
   ],
   "source": [
    "e27_data = {}\n",
    "\n",
    "for index, row in e27_df[20:25].iterrows():\n",
    "    e27_data['id'] = 'string'\n",
    "    e27_data['lastUpdate'] = datetime.datetime.now().strftime(\"%Y-%m-%dT%H:%M:%S+00:00\")\n",
    "    e27_data['name'] = row['name_x']\n",
    "    e27_data['tagline'] = row['short_description']\n",
    "    #e27_data['about'] = row['metas_description']\n",
    "    e27_data['country'] = getCountryCode(row['location_text'])\n",
    "    e27_data['founded'] = getFoundedDate(row['metas_found_month'], row['metas_found_year'])\n",
    "    #e27_data['profileUrl'] = \n",
    "    e27_data['domain'] = row['website']\n",
    "    e27_data['linkedinUrl'] = row['metas_linkedin']\n",
    "    #e27['crunchbaseUrl'] = \n",
    "    e27_data['logo'] = getLogoURL(row['logo_thumb'])\n",
    "    #e27_data['headcounts'] =\n",
    "    #e27_data['specialities'] = \n",
    "    e27_data['rounds'] = structureFunding(e27_df_original, row['name_x'])\n",
    "    e27_data['investors'] = getAllInvestors(e27_data['rounds'])\n",
    "    print(e27_data)\n",
    "    print('')"
   ]
  },
  {
   "cell_type": "code",
   "execution_count": 17,
   "metadata": {},
   "outputs": [
    {
     "data": {
      "text/plain": [
       "{'id': 'string',\n",
       " 'lastUpdate': '2020-03-25T19:58:05+00:00',\n",
       " 'name': 'UseData  ',\n",
       " 'tagline': 'UseData offers a big data analytics platform for E-commerce businesses with ability to customize their processing needs.',\n",
       " 'country': None,\n",
       " 'founded': None,\n",
       " 'domain': 'http://usedata.vn/',\n",
       " 'linkedinUrl': 'https://www.linkedin.com/company/usedata',\n",
       " 'logo': 'https://e27.co/img/startups/7475/logo-1450335213_thumb.png',\n",
       " 'rounds': [{'year': '2017',\n",
       "   'month': '4',\n",
       "   'amount': 30000.0,\n",
       "   'currency': 'USD',\n",
       "   'round': 'SEED',\n",
       "   'investors': ['VIISA']}],\n",
       " 'investors': ['VIISA']}"
      ]
     },
     "execution_count": 17,
     "metadata": {},
     "output_type": "execute_result"
    }
   ],
   "source": [
    "e27_data"
   ]
  },
  {
   "cell_type": "code",
   "execution_count": 24,
   "metadata": {},
   "outputs": [
    {
     "name": "stdout",
     "output_type": "stream",
     "text": [
      "21609\n",
      "10121\n"
     ]
    }
   ],
   "source": [
    "import requests\n",
    "\n",
    "in_ninja = 0\n",
    "out_ninja = 0 \n",
    "\n",
    "#for name_source in data_source['Company Name']:\n",
    "#for name_source in e27_df['name_x']:    \n",
    "    #print(name_source)\n",
    "    url = 'https://i8i7s543g6.execute-api.us-west-2.amazonaws.com/production/connector/reconcile'\n",
    "    data = {\"name\": name_source, \"type\":\"COMPANY\"}\n",
    "    api_token = (\"x-api-key\" , \"v6ZBsS9BK59GlP7O7Eb3x1WHQ83spOlj4mDIk3c9\")\n",
    "    # payload = open(\"request.json\")\n",
    "    headers = {\"Content-Type\" : \"application/json\", \"Content-Type\" : \"application/x-www-form-urlencoded\", \n",
    "               \"x-api-key\" : \"v6ZBsS9BK59GlP7O7Eb3x1WHQ83spOlj4mDIk3c9\"}\n",
    "    r = requests.post(url, json = data, headers=headers)\n",
    "    #print(r.text)\n",
    "    if len(r.text)==2:\n",
    "        out_ninja += 1\n",
    "        #print(\"out_ninja\" + str(out_ninja))\n",
    "    elif len(r.text) > 2:\n",
    "        in_ninja += 1\n",
    "        #print(\"in_ninja\" + str(in_ninja))\n",
    "    else:\n",
    "        print(r.text)\n",
    "        \n",
    "print(out_ninja)\n",
    "print(in_ninja)"
   ]
  },
  {
   "cell_type": "code",
   "execution_count": 2,
   "metadata": {
    "ExecuteTime": {
     "end_time": "2020-03-27T00:32:46.908648Z",
     "start_time": "2020-03-27T00:32:45.491775Z"
    }
   },
   "outputs": [],
   "source": [
    "import pandas as pd\n",
    "main_data = pd.read_csv(r'C:\\Users\\User\\Desktop\\Fresh\\Vertex\\GlassDeed_Companies_Full_List.csv')"
   ]
  },
  {
   "cell_type": "code",
   "execution_count": 3,
   "metadata": {
    "ExecuteTime": {
     "end_time": "2020-03-27T00:32:52.847756Z",
     "start_time": "2020-03-27T00:32:52.410545Z"
    }
   },
   "outputs": [],
   "source": [
    "import requests\n",
    "\n",
    "url = 'https://i8i7s543g6.execute-api.us-west-2.amazonaws.com/production/connector/reconcile'\n",
    "api_token = (\"x-api-key\" , \"v6ZBsS9BK59GlP7O7Eb3x1WHQ83spOlj4mDIk3c9\")\n",
    "headers = {\"Content-Type\" : \"application/json\", \"Content-Type\" : \"application/x-www-form-urlencoded\", \n",
    "               \"x-api-key\" : \"v6ZBsS9BK59GlP7O7Eb3x1WHQ83spOlj4mDIk3c9\"}\n",
    "\n",
    "def confirmNinjaCompanies(company_name):\n",
    "    isPresent = []\n",
    "    data = {\"name\": company_name, \"type\":\"COMPANY\"}\n",
    "    r = requests.post(url, json = data, headers=headers)\n",
    "    if len(r.text)==2:\n",
    "        isPresent.append(0)\n",
    "    elif len(r.text) > 2:\n",
    "        isPresent.append(1)\n",
    "    else:\n",
    "        isPresent.append(None)\n",
    "    temp_df = pd.DataFrame({\"name_x\": [company_name], \"isPresent\": isPresent})\n",
    "    return temp_df"
   ]
  },
  {
   "cell_type": "code",
   "execution_count": 4,
   "metadata": {
    "ExecuteTime": {
     "end_time": "2020-03-27T00:33:01.508101Z",
     "start_time": "2020-03-27T00:33:01.494272Z"
    }
   },
   "outputs": [
    {
     "data": {
      "text/plain": [
       "0                                           KPMG\n",
       "1                               Telekom Malaysia\n",
       "2                                        Foxconn\n",
       "3                                      foodpanda\n",
       "4                                       Flipkart\n",
       "                          ...                   \n",
       "67320    compagnie des transports strasbourgeois\n",
       "67321                    valley hope association\n",
       "67322                              auchan retail\n",
       "67323                                   prodware\n",
       "67324                             lastminute.com\n",
       "Name: Company Name, Length: 67325, dtype: object"
      ]
     },
     "execution_count": 4,
     "metadata": {},
     "output_type": "execute_result"
    }
   ],
   "source": [
    "main_data['Company Name']"
   ]
  },
  {
   "cell_type": "code",
   "execution_count": 33,
   "metadata": {},
   "outputs": [
    {
     "data": {
      "text/html": [
       "<div>\n",
       "<style scoped>\n",
       "    .dataframe tbody tr th:only-of-type {\n",
       "        vertical-align: middle;\n",
       "    }\n",
       "\n",
       "    .dataframe tbody tr th {\n",
       "        vertical-align: top;\n",
       "    }\n",
       "\n",
       "    .dataframe thead th {\n",
       "        text-align: right;\n",
       "    }\n",
       "</style>\n",
       "<table border=\"1\" class=\"dataframe\">\n",
       "  <thead>\n",
       "    <tr style=\"text-align: right;\">\n",
       "      <th></th>\n",
       "      <th>name_x</th>\n",
       "      <th>isPresent</th>\n",
       "    </tr>\n",
       "  </thead>\n",
       "  <tbody>\n",
       "    <tr>\n",
       "      <th>0</th>\n",
       "      <td>Crowde</td>\n",
       "      <td>1</td>\n",
       "    </tr>\n",
       "  </tbody>\n",
       "</table>\n",
       "</div>"
      ],
      "text/plain": [
       "   name_x  isPresent\n",
       "0  Crowde          1"
      ]
     },
     "execution_count": 33,
     "metadata": {},
     "output_type": "execute_result"
    }
   ],
   "source": [
    "confirmNinjaCompanies('Crowde')"
   ]
  },
  {
   "cell_type": "code",
   "execution_count": 5,
   "metadata": {
    "ExecuteTime": {
     "end_time": "2020-03-27T01:15:52.043151Z",
     "start_time": "2020-03-27T00:34:44.274861Z"
    }
   },
   "outputs": [
    {
     "name": "stdout",
     "output_type": "stream",
     "text": [
      "Time Taken: 2467.754298s\n"
     ]
    }
   ],
   "source": [
    "import time\n",
    "from concurrent.futures import ThreadPoolExecutor, as_completed\n",
    "\n",
    "with ThreadPoolExecutor(max_workers=10) as executor:\n",
    "    start = time.time()\n",
    "    ninja_results = []\n",
    "    futures = [executor.submit(confirmNinjaCompanies, company_name) for company_name in main_data['Company Name']]\n",
    "    for result in as_completed(futures):\n",
    "        ninja_results.append(result)\n",
    "    end = time.time()\n",
    "    print(\"Time Taken: {:.6f}s\".format(end-start))"
   ]
  },
  {
   "cell_type": "code",
   "execution_count": 6,
   "metadata": {
    "ExecuteTime": {
     "end_time": "2020-03-27T01:16:44.628618Z",
     "start_time": "2020-03-27T01:16:38.392479Z"
    }
   },
   "outputs": [
    {
     "data": {
      "text/html": [
       "<div>\n",
       "<style scoped>\n",
       "    .dataframe tbody tr th:only-of-type {\n",
       "        vertical-align: middle;\n",
       "    }\n",
       "\n",
       "    .dataframe tbody tr th {\n",
       "        vertical-align: top;\n",
       "    }\n",
       "\n",
       "    .dataframe thead th {\n",
       "        text-align: right;\n",
       "    }\n",
       "</style>\n",
       "<table border=\"1\" class=\"dataframe\">\n",
       "  <thead>\n",
       "    <tr style=\"text-align: right;\">\n",
       "      <th></th>\n",
       "      <th>name_x</th>\n",
       "      <th>isPresent</th>\n",
       "    </tr>\n",
       "  </thead>\n",
       "  <tbody>\n",
       "    <tr>\n",
       "      <th>0</th>\n",
       "      <td>Fire Moon Studios</td>\n",
       "      <td>1</td>\n",
       "    </tr>\n",
       "    <tr>\n",
       "      <th>0</th>\n",
       "      <td>Yondu</td>\n",
       "      <td>1</td>\n",
       "    </tr>\n",
       "    <tr>\n",
       "      <th>0</th>\n",
       "      <td>Testbook.com</td>\n",
       "      <td>1</td>\n",
       "    </tr>\n",
       "    <tr>\n",
       "      <th>0</th>\n",
       "      <td>Telekom Malaysia</td>\n",
       "      <td>1</td>\n",
       "    </tr>\n",
       "    <tr>\n",
       "      <th>0</th>\n",
       "      <td>MediaTek</td>\n",
       "      <td>0</td>\n",
       "    </tr>\n",
       "    <tr>\n",
       "      <th>...</th>\n",
       "      <td>...</td>\n",
       "      <td>...</td>\n",
       "    </tr>\n",
       "    <tr>\n",
       "      <th>0</th>\n",
       "      <td>omega pharma</td>\n",
       "      <td>1</td>\n",
       "    </tr>\n",
       "    <tr>\n",
       "      <th>0</th>\n",
       "      <td>valley hope association</td>\n",
       "      <td>0</td>\n",
       "    </tr>\n",
       "    <tr>\n",
       "      <th>0</th>\n",
       "      <td>auchan retail</td>\n",
       "      <td>1</td>\n",
       "    </tr>\n",
       "    <tr>\n",
       "      <th>0</th>\n",
       "      <td>lastminute.com</td>\n",
       "      <td>1</td>\n",
       "    </tr>\n",
       "    <tr>\n",
       "      <th>0</th>\n",
       "      <td>prodware</td>\n",
       "      <td>1</td>\n",
       "    </tr>\n",
       "  </tbody>\n",
       "</table>\n",
       "<p>67325 rows × 2 columns</p>\n",
       "</div>"
      ],
      "text/plain": [
       "                     name_x  isPresent\n",
       "0         Fire Moon Studios          1\n",
       "0                     Yondu          1\n",
       "0              Testbook.com          1\n",
       "0          Telekom Malaysia          1\n",
       "0                  MediaTek          0\n",
       "..                      ...        ...\n",
       "0              omega pharma          1\n",
       "0   valley hope association          0\n",
       "0             auchan retail          1\n",
       "0            lastminute.com          1\n",
       "0                  prodware          1\n",
       "\n",
       "[67325 rows x 2 columns]"
      ]
     },
     "execution_count": 6,
     "metadata": {},
     "output_type": "execute_result"
    }
   ],
   "source": [
    "list_of_ninja_results = []\n",
    "\n",
    "for i in ninja_results:\n",
    "    list_of_ninja_results.append(i.result())\n",
    "    \n",
    "combined_ninja_status = pd.concat(list_of_ninja_results)\n",
    "combined_ninja_status"
   ]
  },
  {
   "cell_type": "code",
   "execution_count": 7,
   "metadata": {
    "ExecuteTime": {
     "end_time": "2020-03-27T01:16:50.421132Z",
     "start_time": "2020-03-27T01:16:50.415104Z"
    }
   },
   "outputs": [],
   "source": [
    "combined_ninja_status = combined_ninja_status.reset_index(drop=True)"
   ]
  },
  {
   "cell_type": "code",
   "execution_count": 8,
   "metadata": {
    "ExecuteTime": {
     "end_time": "2020-03-27T01:16:52.126821Z",
     "start_time": "2020-03-27T01:16:52.117814Z"
    }
   },
   "outputs": [
    {
     "data": {
      "text/plain": [
       "0    36148\n",
       "1    31177\n",
       "Name: isPresent, dtype: int64"
      ]
     },
     "execution_count": 8,
     "metadata": {},
     "output_type": "execute_result"
    }
   ],
   "source": [
    "combined_ninja_status['isPresent'].value_counts()"
   ]
  },
  {
   "cell_type": "code",
   "execution_count": 10,
   "metadata": {
    "ExecuteTime": {
     "end_time": "2020-03-27T01:18:11.391939Z",
     "start_time": "2020-03-27T01:18:11.386951Z"
    }
   },
   "outputs": [
    {
     "data": {
      "text/plain": [
       "Index(['Unnamed: 0', 'Company Name', 'Headquarters', 'Size', 'Industry',\n",
       "       'Revenue', 'Description', 'CEO Approval', 'Company Benefits',\n",
       "       'Culture Values', 'Career Opportunities', 'Work Life Balance',\n",
       "       'Senior Management Approval', 'Rating', 'URL'],\n",
       "      dtype='object')"
      ]
     },
     "execution_count": 10,
     "metadata": {},
     "output_type": "execute_result"
    }
   ],
   "source": [
    "main_data.columns"
   ]
  },
  {
   "cell_type": "code",
   "execution_count": 30,
   "metadata": {
    "ExecuteTime": {
     "end_time": "2020-03-27T01:24:20.785780Z",
     "start_time": "2020-03-27T01:24:20.778767Z"
    }
   },
   "outputs": [],
   "source": [
    "combined_ninja_status = combined_ninja_status.rename(columns={'name_x':'Company Name', 'isPresent':'In_Ninja'})"
   ]
  },
  {
   "cell_type": "code",
   "execution_count": 31,
   "metadata": {
    "ExecuteTime": {
     "end_time": "2020-03-27T01:24:21.489297Z",
     "start_time": "2020-03-27T01:24:21.403487Z"
    }
   },
   "outputs": [
    {
     "data": {
      "text/html": [
       "<div>\n",
       "<style scoped>\n",
       "    .dataframe tbody tr th:only-of-type {\n",
       "        vertical-align: middle;\n",
       "    }\n",
       "\n",
       "    .dataframe tbody tr th {\n",
       "        vertical-align: top;\n",
       "    }\n",
       "\n",
       "    .dataframe thead th {\n",
       "        text-align: right;\n",
       "    }\n",
       "</style>\n",
       "<table border=\"1\" class=\"dataframe\">\n",
       "  <thead>\n",
       "    <tr style=\"text-align: right;\">\n",
       "      <th></th>\n",
       "      <th>Unnamed: 0</th>\n",
       "      <th>Company Name</th>\n",
       "      <th>Headquarters</th>\n",
       "      <th>Size</th>\n",
       "      <th>Industry</th>\n",
       "      <th>Revenue</th>\n",
       "      <th>Description</th>\n",
       "      <th>CEO Approval</th>\n",
       "      <th>Company Benefits</th>\n",
       "      <th>Culture Values</th>\n",
       "      <th>Career Opportunities</th>\n",
       "      <th>Work Life Balance</th>\n",
       "      <th>Senior Management Approval</th>\n",
       "      <th>Rating</th>\n",
       "      <th>URL</th>\n",
       "      <th>In_Ninja</th>\n",
       "    </tr>\n",
       "  </thead>\n",
       "  <tbody>\n",
       "    <tr>\n",
       "      <th>0</th>\n",
       "      <td>0</td>\n",
       "      <td>KPMG</td>\n",
       "      <td>KPMG France, Tour Eqho, 2 avenue Gambetta 9240...</td>\n",
       "      <td>10,000+</td>\n",
       "      <td>Consulting and Business Services</td>\n",
       "      <td>$1B to $5B (USD)</td>\n",
       "      <td>KPMG is among the world’s leading professional...</td>\n",
       "      <td>88%</td>\n",
       "      <td>3.6</td>\n",
       "      <td>3.8</td>\n",
       "      <td>3.8</td>\n",
       "      <td>3.4</td>\n",
       "      <td>3.6</td>\n",
       "      <td>4.0</td>\n",
       "      <td>NaN</td>\n",
       "      <td>1</td>\n",
       "    </tr>\n",
       "    <tr>\n",
       "      <th>1</th>\n",
       "      <td>9</td>\n",
       "      <td>Telekom Malaysia</td>\n",
       "      <td>Telekom Tower, Kuala Lumpur, Malaysia</td>\n",
       "      <td>NaN</td>\n",
       "      <td>NaN</td>\n",
       "      <td>NaN</td>\n",
       "      <td>Telekom Malaysia Berhad (MYX: 4863), DBA TM, i...</td>\n",
       "      <td>86%</td>\n",
       "      <td>3.7</td>\n",
       "      <td>4.0</td>\n",
       "      <td>3.8</td>\n",
       "      <td>4.0</td>\n",
       "      <td>3.8</td>\n",
       "      <td>4.1</td>\n",
       "      <td>NaN</td>\n",
       "      <td>1</td>\n",
       "    </tr>\n",
       "    <tr>\n",
       "      <th>2</th>\n",
       "      <td>37</td>\n",
       "      <td>Foxconn</td>\n",
       "      <td>Taipei, TW</td>\n",
       "      <td>201 to 500</td>\n",
       "      <td>Industrial Manufacturing</td>\n",
       "      <td>$1B to $5B (USD)</td>\n",
       "      <td>Hon Hai Precision Industry Co., Ltd., trading ...</td>\n",
       "      <td>84%</td>\n",
       "      <td>3.9</td>\n",
       "      <td>3.7</td>\n",
       "      <td>3.4</td>\n",
       "      <td>3.9</td>\n",
       "      <td>3.6</td>\n",
       "      <td>4.0</td>\n",
       "      <td>NaN</td>\n",
       "      <td>0</td>\n",
       "    </tr>\n",
       "    <tr>\n",
       "      <th>3</th>\n",
       "      <td>40</td>\n",
       "      <td>foodpanda</td>\n",
       "      <td>Berlin</td>\n",
       "      <td>5,001 to 10,000</td>\n",
       "      <td>Internet and Software</td>\n",
       "      <td>less than $1M (USD)</td>\n",
       "      <td>The foodpanda group is one of the world’s larg...</td>\n",
       "      <td>79%</td>\n",
       "      <td>3.5</td>\n",
       "      <td>3.6</td>\n",
       "      <td>3.2</td>\n",
       "      <td>3.7</td>\n",
       "      <td>3.3</td>\n",
       "      <td>3.8</td>\n",
       "      <td>NaN</td>\n",
       "      <td>0</td>\n",
       "    </tr>\n",
       "    <tr>\n",
       "      <th>4</th>\n",
       "      <td>44</td>\n",
       "      <td>Flipkart</td>\n",
       "      <td>Bengaluru</td>\n",
       "      <td>10,000+</td>\n",
       "      <td>Internet and Software</td>\n",
       "      <td>$5B to $10B (USD)</td>\n",
       "      <td>Flipkart is an e-commerce company founded in 2...</td>\n",
       "      <td>78%</td>\n",
       "      <td>3.7</td>\n",
       "      <td>4.0</td>\n",
       "      <td>3.6</td>\n",
       "      <td>3.9</td>\n",
       "      <td>3.7</td>\n",
       "      <td>4.1</td>\n",
       "      <td>NaN</td>\n",
       "      <td>1</td>\n",
       "    </tr>\n",
       "    <tr>\n",
       "      <th>...</th>\n",
       "      <td>...</td>\n",
       "      <td>...</td>\n",
       "      <td>...</td>\n",
       "      <td>...</td>\n",
       "      <td>...</td>\n",
       "      <td>...</td>\n",
       "      <td>...</td>\n",
       "      <td>...</td>\n",
       "      <td>...</td>\n",
       "      <td>...</td>\n",
       "      <td>...</td>\n",
       "      <td>...</td>\n",
       "      <td>...</td>\n",
       "      <td>...</td>\n",
       "      <td>...</td>\n",
       "      <td>...</td>\n",
       "    </tr>\n",
       "    <tr>\n",
       "      <th>67320</th>\n",
       "      <td>343101</td>\n",
       "      <td>compagnie des transports strasbourgeois</td>\n",
       "      <td>Strasbourg, FR</td>\n",
       "      <td>1,001 to 5,000</td>\n",
       "      <td>NaN</td>\n",
       "      <td>$25M to $100M (USD)</td>\n",
       "      <td>The Compagnie des Transports Strasbourgeois (C...</td>\n",
       "      <td>NaN</td>\n",
       "      <td>3.6</td>\n",
       "      <td>3.2</td>\n",
       "      <td>3.6</td>\n",
       "      <td>3.2</td>\n",
       "      <td>3.2</td>\n",
       "      <td>3.6</td>\n",
       "      <td>https://www.cts-strasbourg.eu/</td>\n",
       "      <td>0</td>\n",
       "    </tr>\n",
       "    <tr>\n",
       "      <th>67321</th>\n",
       "      <td>345608</td>\n",
       "      <td>valley hope association</td>\n",
       "      <td>P.O. Box 510 Norton, Kansas 67654</td>\n",
       "      <td>501 to 1,000</td>\n",
       "      <td>Health Care</td>\n",
       "      <td>NaN</td>\n",
       "      <td>Valley Hope opened its doors in 1967 in the sm...</td>\n",
       "      <td>67%</td>\n",
       "      <td>3.1</td>\n",
       "      <td>3.2</td>\n",
       "      <td>2.8</td>\n",
       "      <td>3.2</td>\n",
       "      <td>2.9</td>\n",
       "      <td>3.4</td>\n",
       "      <td>https://twitter.com/valleyhopeassoc, https://w...</td>\n",
       "      <td>0</td>\n",
       "    </tr>\n",
       "    <tr>\n",
       "      <th>67322</th>\n",
       "      <td>347630</td>\n",
       "      <td>auchan retail</td>\n",
       "      <td>200, rue de la Recherche 59491 VILLENEUVE D'ASCQ</td>\n",
       "      <td>10,000+</td>\n",
       "      <td>Retail</td>\n",
       "      <td>NaN</td>\n",
       "      <td>Auchan Retail recrute en ce moment.</td>\n",
       "      <td>50%</td>\n",
       "      <td>3.4</td>\n",
       "      <td>3.6</td>\n",
       "      <td>3.2</td>\n",
       "      <td>3.5</td>\n",
       "      <td>3.3</td>\n",
       "      <td>3.7</td>\n",
       "      <td>https://twitter.com/AuchanRecrute, https://www...</td>\n",
       "      <td>1</td>\n",
       "    </tr>\n",
       "    <tr>\n",
       "      <th>67323</th>\n",
       "      <td>353921</td>\n",
       "      <td>prodware</td>\n",
       "      <td>Paris, FR</td>\n",
       "      <td>501 to 1,000</td>\n",
       "      <td>NaN</td>\n",
       "      <td>$100M to $500M (USD)</td>\n",
       "      <td>NaN</td>\n",
       "      <td>NaN</td>\n",
       "      <td>3.3</td>\n",
       "      <td>3.5</td>\n",
       "      <td>3.2</td>\n",
       "      <td>3.4</td>\n",
       "      <td>3.3</td>\n",
       "      <td>3.4</td>\n",
       "      <td>http://www.prodware.fr/</td>\n",
       "      <td>1</td>\n",
       "    </tr>\n",
       "    <tr>\n",
       "      <th>67324</th>\n",
       "      <td>354461</td>\n",
       "      <td>lastminute.com</td>\n",
       "      <td>London, UK</td>\n",
       "      <td>NaN</td>\n",
       "      <td>NaN</td>\n",
       "      <td>NaN</td>\n",
       "      <td>lastminute.com is an online travel and leisure...</td>\n",
       "      <td>NaN</td>\n",
       "      <td>2.9</td>\n",
       "      <td>3.2</td>\n",
       "      <td>2.9</td>\n",
       "      <td>3.2</td>\n",
       "      <td>2.8</td>\n",
       "      <td>3.5</td>\n",
       "      <td>http://lastminute.com/</td>\n",
       "      <td>1</td>\n",
       "    </tr>\n",
       "  </tbody>\n",
       "</table>\n",
       "<p>67325 rows × 16 columns</p>\n",
       "</div>"
      ],
      "text/plain": [
       "       Unnamed: 0                             Company Name  \\\n",
       "0               0                                     KPMG   \n",
       "1               9                         Telekom Malaysia   \n",
       "2              37                                  Foxconn   \n",
       "3              40                                foodpanda   \n",
       "4              44                                 Flipkart   \n",
       "...           ...                                      ...   \n",
       "67320      343101  compagnie des transports strasbourgeois   \n",
       "67321      345608                  valley hope association   \n",
       "67322      347630                            auchan retail   \n",
       "67323      353921                                 prodware   \n",
       "67324      354461                           lastminute.com   \n",
       "\n",
       "                                            Headquarters             Size  \\\n",
       "0      KPMG France, Tour Eqho, 2 avenue Gambetta 9240...          10,000+   \n",
       "1                  Telekom Tower, Kuala Lumpur, Malaysia              NaN   \n",
       "2                                             Taipei, TW       201 to 500   \n",
       "3                                                 Berlin  5,001 to 10,000   \n",
       "4                                              Bengaluru          10,000+   \n",
       "...                                                  ...              ...   \n",
       "67320                                     Strasbourg, FR   1,001 to 5,000   \n",
       "67321                  P.O. Box 510 Norton, Kansas 67654     501 to 1,000   \n",
       "67322   200, rue de la Recherche 59491 VILLENEUVE D'ASCQ          10,000+   \n",
       "67323                                          Paris, FR     501 to 1,000   \n",
       "67324                                         London, UK              NaN   \n",
       "\n",
       "                               Industry               Revenue  \\\n",
       "0      Consulting and Business Services      $1B to $5B (USD)   \n",
       "1                                   NaN                   NaN   \n",
       "2              Industrial Manufacturing      $1B to $5B (USD)   \n",
       "3                 Internet and Software   less than $1M (USD)   \n",
       "4                 Internet and Software     $5B to $10B (USD)   \n",
       "...                                 ...                   ...   \n",
       "67320                               NaN   $25M to $100M (USD)   \n",
       "67321                       Health Care                   NaN   \n",
       "67322                            Retail                   NaN   \n",
       "67323                               NaN  $100M to $500M (USD)   \n",
       "67324                               NaN                   NaN   \n",
       "\n",
       "                                             Description CEO Approval  \\\n",
       "0      KPMG is among the world’s leading professional...          88%   \n",
       "1      Telekom Malaysia Berhad (MYX: 4863), DBA TM, i...          86%   \n",
       "2      Hon Hai Precision Industry Co., Ltd., trading ...          84%   \n",
       "3      The foodpanda group is one of the world’s larg...          79%   \n",
       "4      Flipkart is an e-commerce company founded in 2...          78%   \n",
       "...                                                  ...          ...   \n",
       "67320  The Compagnie des Transports Strasbourgeois (C...          NaN   \n",
       "67321  Valley Hope opened its doors in 1967 in the sm...          67%   \n",
       "67322                Auchan Retail recrute en ce moment.          50%   \n",
       "67323                                                NaN          NaN   \n",
       "67324  lastminute.com is an online travel and leisure...          NaN   \n",
       "\n",
       "      Company Benefits Culture Values Career Opportunities Work Life Balance  \\\n",
       "0                  3.6            3.8                  3.8               3.4   \n",
       "1                  3.7            4.0                  3.8               4.0   \n",
       "2                  3.9            3.7                  3.4               3.9   \n",
       "3                  3.5            3.6                  3.2               3.7   \n",
       "4                  3.7            4.0                  3.6               3.9   \n",
       "...                ...            ...                  ...               ...   \n",
       "67320              3.6            3.2                  3.6               3.2   \n",
       "67321              3.1            3.2                  2.8               3.2   \n",
       "67322              3.4            3.6                  3.2               3.5   \n",
       "67323              3.3            3.5                  3.2               3.4   \n",
       "67324              2.9            3.2                  2.9               3.2   \n",
       "\n",
       "      Senior Management Approval  Rating  \\\n",
       "0                            3.6     4.0   \n",
       "1                            3.8     4.1   \n",
       "2                            3.6     4.0   \n",
       "3                            3.3     3.8   \n",
       "4                            3.7     4.1   \n",
       "...                          ...     ...   \n",
       "67320                        3.2     3.6   \n",
       "67321                        2.9     3.4   \n",
       "67322                        3.3     3.7   \n",
       "67323                        3.3     3.4   \n",
       "67324                        2.8     3.5   \n",
       "\n",
       "                                                     URL  In_Ninja  \n",
       "0                                                    NaN         1  \n",
       "1                                                    NaN         1  \n",
       "2                                                    NaN         0  \n",
       "3                                                    NaN         0  \n",
       "4                                                    NaN         1  \n",
       "...                                                  ...       ...  \n",
       "67320                     https://www.cts-strasbourg.eu/         0  \n",
       "67321  https://twitter.com/valleyhopeassoc, https://w...         0  \n",
       "67322  https://twitter.com/AuchanRecrute, https://www...         1  \n",
       "67323                            http://www.prodware.fr/         1  \n",
       "67324                             http://lastminute.com/         1  \n",
       "\n",
       "[67325 rows x 16 columns]"
      ]
     },
     "execution_count": 31,
     "metadata": {},
     "output_type": "execute_result"
    }
   ],
   "source": [
    "df_v2 = pd.merge(main_data, combined_ninja_status, on='Company Name')\n",
    "df_v2"
   ]
  },
  {
   "cell_type": "code",
   "execution_count": 32,
   "metadata": {
    "ExecuteTime": {
     "end_time": "2020-03-27T01:24:22.698235Z",
     "start_time": "2020-03-27T01:24:22.694245Z"
    }
   },
   "outputs": [],
   "source": [
    "def check_LinkedIn(string):\n",
    "    if 'linkedin' in string:\n",
    "        return 1\n",
    "    else:\n",
    "        return 0"
   ]
  },
  {
   "cell_type": "code",
   "execution_count": 33,
   "metadata": {
    "ExecuteTime": {
     "end_time": "2020-03-27T01:24:24.130974Z",
     "start_time": "2020-03-27T01:24:24.071764Z"
    }
   },
   "outputs": [],
   "source": [
    "df_v2['LinkedIn present'] = df_v2['URL'].astype(str).str.lower().apply(check_LinkedIn)"
   ]
  },
  {
   "cell_type": "code",
   "execution_count": 35,
   "metadata": {
    "ExecuteTime": {
     "end_time": "2020-03-27T01:27:18.182956Z",
     "start_time": "2020-03-27T01:27:17.600477Z"
    }
   },
   "outputs": [],
   "source": [
    "df_v2.to_csv(r'C:\\Users\\User\\Desktop\\Fresh\\Vertex\\Ninja_check.csv')"
   ]
  },
  {
   "cell_type": "code",
   "execution_count": 60,
   "metadata": {},
   "outputs": [],
   "source": [
    "ninjaYesLinkedInYes = []\n",
    "ninjaYesLinkedInNo = []\n",
    "ninjaNoLinkedInYes = []\n",
    "ninjaNoLinkedInNo = []\n",
    "\n",
    "for index, row in e27_df_v2[:10].iterrows():\n",
    "    if row['metas_linkedin'] is not np.nan:\n",
    "        if row['isPresent'] == 1:\n",
    "            ninjaYesLinkedInYes.append(row['name_x'])\n",
    "        else:\n",
    "            ninjaNoLinkedInYes.append(row['name_x'])\n",
    "    else:\n",
    "        if row['isPresent'] == 1:\n",
    "            ninjaYesLinkedInNo.append(row['name_x'])\n",
    "        else:\n",
    "            ninjaNoLinkedInNo.append(row['name_x'])\n"
   ]
  },
  {
   "cell_type": "code",
   "execution_count": 61,
   "metadata": {},
   "outputs": [
    {
     "data": {
      "text/plain": [
       "['ewazte', 'ByteAnt']"
      ]
     },
     "execution_count": 61,
     "metadata": {},
     "output_type": "execute_result"
    }
   ],
   "source": [
    "ninjaYesLinkedInYes"
   ]
  },
  {
   "cell_type": "code",
   "execution_count": 62,
   "metadata": {},
   "outputs": [
    {
     "data": {
      "text/plain": [
       "['The Wadhwa Group', 'Indianartideas', 'EZY-Booking.com']"
      ]
     },
     "execution_count": 62,
     "metadata": {},
     "output_type": "execute_result"
    }
   ],
   "source": [
    "ninjaYesLinkedInNo"
   ]
  },
  {
   "cell_type": "code",
   "execution_count": 63,
   "metadata": {},
   "outputs": [
    {
     "data": {
      "text/plain": [
       "[]"
      ]
     },
     "execution_count": 63,
     "metadata": {},
     "output_type": "execute_result"
    }
   ],
   "source": [
    "ninjaNoLinkedInYes"
   ]
  },
  {
   "cell_type": "code",
   "execution_count": 64,
   "metadata": {},
   "outputs": [
    {
     "data": {
      "text/plain": [
       "['Alchemy Foodtech',\n",
       " 'Web Design World',\n",
       " 'LogisticsIndonesia',\n",
       " 'Ads2Publish.com',\n",
       " 'Mondano']"
      ]
     },
     "execution_count": 64,
     "metadata": {},
     "output_type": "execute_result"
    }
   ],
   "source": [
    "ninjaNoLinkedInNo"
   ]
  },
  {
   "cell_type": "code",
   "execution_count": 65,
   "metadata": {},
   "outputs": [
    {
     "data": {
      "text/plain": [
       "0                                         NaN\n",
       "1                                         NaN\n",
       "2                                         NaN\n",
       "3                                         NaN\n",
       "4                                         NaN\n",
       "5                                         NaN\n",
       "6                                         NaN\n",
       "7                                         NaN\n",
       "8    https://www.linkedin.com/company/ewazte/\n",
       "9    https://www.linkedin.com/company/byteant\n",
       "Name: metas_linkedin, dtype: object"
      ]
     },
     "execution_count": 65,
     "metadata": {},
     "output_type": "execute_result"
    }
   ],
   "source": [
    "e27_df_v2[:10]['metas_linkedin']"
   ]
  },
  {
   "cell_type": "code",
   "execution_count": 66,
   "metadata": {},
   "outputs": [
    {
     "data": {
      "text/plain": [
       "0    0\n",
       "1    0\n",
       "2    1\n",
       "3    1\n",
       "4    0\n",
       "5    0\n",
       "6    0\n",
       "7    1\n",
       "8    1\n",
       "9    1\n",
       "Name: isPresent, dtype: int64"
      ]
     },
     "execution_count": 66,
     "metadata": {},
     "output_type": "execute_result"
    }
   ],
   "source": [
    "e27_df_v2[:10]['isPresent']"
   ]
  },
  {
   "cell_type": "code",
   "execution_count": 67,
   "metadata": {},
   "outputs": [
    {
     "name": "stdout",
     "output_type": "stream",
     "text": [
      "7156\n",
      "2956\n",
      "8949\n",
      "12669\n"
     ]
    }
   ],
   "source": [
    "ninjaYesLinkedInYes = []\n",
    "ninjaYesLinkedInNo = []\n",
    "ninjaNoLinkedInYes = []\n",
    "ninjaNoLinkedInNo = []\n",
    "\n",
    "for index, row in e27_df_v2.iterrows():\n",
    "    if row['metas_linkedin'] is not np.nan:\n",
    "        if row['isPresent'] == 1:\n",
    "            ninjaYesLinkedInYes.append(row['name_x'])\n",
    "        else:\n",
    "            ninjaNoLinkedInYes.append(row['name_x'])\n",
    "    else:\n",
    "        if row['isPresent'] == 1:\n",
    "            ninjaYesLinkedInNo.append(row['name_x'])\n",
    "        else:\n",
    "            ninjaNoLinkedInNo.append(row['name_x'])\n",
    "\n",
    "print(len(ninjaYesLinkedInYes))\n",
    "print(len(ninjaYesLinkedInNo))\n",
    "print(len(ninjaNoLinkedInYes))\n",
    "print(len(ninjaNoLinkedInNo))"
   ]
  },
  {
   "cell_type": "code",
   "execution_count": null,
   "metadata": {},
   "outputs": [],
   "source": []
  }
 ],
 "metadata": {
  "kernelspec": {
   "display_name": "Python 3",
   "language": "python",
   "name": "python3"
  },
  "language_info": {
   "codemirror_mode": {
    "name": "ipython",
    "version": 3
   },
   "file_extension": ".py",
   "mimetype": "text/x-python",
   "name": "python",
   "nbconvert_exporter": "python",
   "pygments_lexer": "ipython3",
   "version": "3.7.4"
  },
  "toc": {
   "base_numbering": 1,
   "nav_menu": {},
   "number_sections": true,
   "sideBar": true,
   "skip_h1_title": false,
   "title_cell": "Table of Contents",
   "title_sidebar": "Contents",
   "toc_cell": false,
   "toc_position": {},
   "toc_section_display": true,
   "toc_window_display": true
  }
 },
 "nbformat": 4,
 "nbformat_minor": 2
}
