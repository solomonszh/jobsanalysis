{
 "cells": [
  {
   "cell_type": "code",
   "execution_count": 1,
   "metadata": {
    "ExecuteTime": {
     "end_time": "2020-03-25T04:44:42.205947Z",
     "start_time": "2020-03-25T04:44:41.254546Z"
    }
   },
   "outputs": [],
   "source": [
    "import os.path\n",
    "import glob\n",
    "import pandas as pd"
   ]
  },
  {
   "cell_type": "code",
   "execution_count": 2,
   "metadata": {
    "ExecuteTime": {
     "end_time": "2020-03-25T04:44:42.218842Z",
     "start_time": "2020-03-25T04:44:42.209940Z"
    }
   },
   "outputs": [],
   "source": [
    "main_path = r'C:\\Users\\User\\Desktop\\Fresh\\Vertex\\Misc\\Glassdoor_Collection\\\\'\n",
    "main_data_old = pd.DataFrame()\n",
    "\n",
    "main_data_2 = pd.DataFrame()"
   ]
  },
  {
   "cell_type": "code",
   "execution_count": 3,
   "metadata": {
    "ExecuteTime": {
     "end_time": "2020-03-25T04:44:43.209668Z",
     "start_time": "2020-03-25T04:44:42.795613Z"
    },
    "scrolled": true
   },
   "outputs": [
    {
     "name": "stdout",
     "output_type": "stream",
     "text": [
      "C:\\Users\\User\\Desktop\\Fresh\\Vertex\\Misc\\Glassdoor_Collection\\\\\\companies_table.csv\n",
      "(19, 5)\n",
      "0\n",
      "Index(['Unnamed: 0', 'Company Name', 'Recommend', 'Rating', 'Location'], dtype='object')\n",
      "(19, 5)\n",
      "C:\\Users\\User\\Desktop\\Fresh\\Vertex\\Misc\\Glassdoor_Collection\\\\\\companies_table_cleaned.csv\n",
      "(16071, 5)\n",
      "0\n",
      "Index(['Unnamed: 0', 'Company Name', 'Recommend', 'Rating', 'Location'], dtype='object')\n",
      "(16090, 5)\n",
      "C:\\Users\\User\\Desktop\\Fresh\\Vertex\\Misc\\Glassdoor_Collection\\\\\\companies_table_new_5.csv\n",
      "(4474, 8)\n",
      "0\n",
      "Index(['Unnamed: 0', 'Company Name', 'Recommend', 'Rating', 'Location',\n",
      "       'Time Collected', 'Data Size', 'URL'],\n",
      "      dtype='object')\n",
      "(20564, 8)\n",
      "C:\\Users\\User\\Desktop\\Fresh\\Vertex\\Misc\\Glassdoor_Collection\\\\\\companies_table_new_new.csv\n",
      "(21478, 6)\n",
      "0\n",
      "Index(['Unnamed: 0', 'Company Name', 'Recommend', 'Rating', 'Location',\n",
      "       'Time Collected'],\n",
      "      dtype='object')\n",
      "(42042, 8)\n",
      "C:\\Users\\User\\Desktop\\Fresh\\Vertex\\Misc\\Glassdoor_Collection\\\\\\companies_table_old.csv\n",
      "(1829, 7)\n",
      "0\n",
      "Index(['Unnamed: 0', 'Company Name', 'Recommend', 'Rating', 'Location',\n",
      "       'Time Collected', 'Data Size'],\n",
      "      dtype='object')\n",
      "(43871, 8)\n",
      "C:\\Users\\User\\Desktop\\Fresh\\Vertex\\Misc\\Glassdoor_Collection\\\\\\companies_table_v2.csv\n"
     ]
    },
    {
     "name": "stderr",
     "output_type": "stream",
     "text": [
      "C:\\Users\\User\\Anaconda3\\lib\\site-packages\\ipykernel_launcher.py:8: FutureWarning: Sorting because non-concatenation axis is not aligned. A future version\n",
      "of pandas will change to not sort by default.\n",
      "\n",
      "To accept the future behavior, pass 'sort=False'.\n",
      "\n",
      "To retain the current behavior and silence the warning, pass 'sort=True'.\n",
      "\n",
      "  \n"
     ]
    },
    {
     "name": "stdout",
     "output_type": "stream",
     "text": [
      "(47486, 5)\n",
      "0\n",
      "Index(['Unnamed: 0', 'Company Name', 'Recommend', 'Rating', 'Location'], dtype='object')\n",
      "(91357, 8)\n",
      "C:\\Users\\User\\Desktop\\Fresh\\Vertex\\Misc\\Glassdoor_Collection\\\\\\Glassdoor_companies_table.csv\n",
      "(11907, 5)\n",
      "490\n",
      "Index(['Unnamed: 0', 'Company Name', 'Recommend', 'Rating', 'Location'], dtype='object')\n",
      "(103264, 8)\n"
     ]
    }
   ],
   "source": [
    "for i in os.listdir(main_path):\n",
    "    if 'csv' in i:\n",
    "        print(str(main_path)+str('\\\\')+str(i))\n",
    "        data = pd.read_csv(str(main_path)+str('\\\\')+str(i))\n",
    "        print(data.shape)\n",
    "        print(data['Location'].isnull().sum())\n",
    "        print(data.columns)\n",
    "        main_data_old = pd.concat([main_data_old, data])\n",
    "        print(main_data_old.shape)"
   ]
  },
  {
   "cell_type": "code",
   "execution_count": 4,
   "metadata": {
    "ExecuteTime": {
     "end_time": "2020-03-25T04:45:42.054153Z",
     "start_time": "2020-03-25T04:44:47.850874Z"
    }
   },
   "outputs": [
    {
     "name": "stdout",
     "output_type": "stream",
     "text": [
      "C:\\Users\\User\\Desktop\\Fresh\\Vertex\\Misc\\Glassdoor_Collection\\\\Glassdoor 9 Mar_15\\companies_table.csv\n",
      "(28887, 6)\n",
      "0\n",
      "(132151, 9)\n",
      "C:\\Users\\User\\Desktop\\Fresh\\Vertex\\Misc\\Glassdoor_Collection\\\\Glassdoor 9 Mar_21\\companies_table.csv\n",
      "(129, 5)\n",
      "0\n"
     ]
    },
    {
     "name": "stderr",
     "output_type": "stream",
     "text": [
      "C:\\Users\\User\\Anaconda3\\lib\\site-packages\\ipykernel_launcher.py:8: FutureWarning: Sorting because non-concatenation axis is not aligned. A future version\n",
      "of pandas will change to not sort by default.\n",
      "\n",
      "To accept the future behavior, pass 'sort=False'.\n",
      "\n",
      "To retain the current behavior and silence the warning, pass 'sort=True'.\n",
      "\n",
      "  \n"
     ]
    },
    {
     "name": "stdout",
     "output_type": "stream",
     "text": [
      "(132280, 9)\n",
      "C:\\Users\\User\\Desktop\\Fresh\\Vertex\\Misc\\Glassdoor_Collection\\\\Glassdoor_12_Mar_17\\companies_table.csv\n",
      "(21537, 6)\n",
      "0\n",
      "(153817, 9)\n",
      "C:\\Users\\User\\Desktop\\Fresh\\Vertex\\Misc\\Glassdoor_Collection\\\\Glassdoor_12_Mar_17\\companies_table_new_5.csv\n",
      "(1347, 7)\n",
      "0\n"
     ]
    },
    {
     "name": "stderr",
     "output_type": "stream",
     "text": [
      "C:\\Users\\User\\Anaconda3\\lib\\site-packages\\ipykernel_launcher.py:16: FutureWarning: Sorting because non-concatenation axis is not aligned. A future version\n",
      "of pandas will change to not sort by default.\n",
      "\n",
      "To accept the future behavior, pass 'sort=False'.\n",
      "\n",
      "To retain the current behavior and silence the warning, pass 'sort=True'.\n",
      "\n",
      "  app.launch_new_instance()\n"
     ]
    },
    {
     "name": "stdout",
     "output_type": "stream",
     "text": [
      "(155164, 9)\n",
      "C:\\Users\\User\\Desktop\\Fresh\\Vertex\\Misc\\Glassdoor_Collection\\\\Glassdoor_12_Mar_47\\companies_table.csv\n",
      "(21478, 6)\n",
      "0\n",
      "(176642, 9)\n",
      "C:\\Users\\User\\Desktop\\Fresh\\Vertex\\Misc\\Glassdoor_Collection\\\\Glassdoor_12_Mar_47\\companies_table_new_10.csv\n",
      "(1465, 8)\n",
      "0\n"
     ]
    },
    {
     "name": "stderr",
     "output_type": "stream",
     "text": [
      "C:\\Users\\User\\Anaconda3\\lib\\site-packages\\ipykernel_launcher.py:24: FutureWarning: Sorting because non-concatenation axis is not aligned. A future version\n",
      "of pandas will change to not sort by default.\n",
      "\n",
      "To accept the future behavior, pass 'sort=False'.\n",
      "\n",
      "To retain the current behavior and silence the warning, pass 'sort=True'.\n",
      "\n"
     ]
    },
    {
     "name": "stdout",
     "output_type": "stream",
     "text": [
      "(178107, 11)\n",
      "C:\\Users\\User\\Desktop\\Fresh\\Vertex\\Misc\\Glassdoor_Collection\\\\Glassdoor_12_Mar_47\\companies_table_new_5.csv\n",
      "(1581, 7)\n",
      "0\n",
      "(179688, 11)\n",
      "C:\\Users\\User\\Desktop\\Fresh\\Vertex\\Misc\\Glassdoor_Collection\\\\Glassdoor_12_Mar_52\\companies_table.csv\n",
      "(23336, 6)\n",
      "0\n",
      "(203024, 11)\n",
      "C:\\Users\\User\\Desktop\\Fresh\\Vertex\\Misc\\Glassdoor_Collection\\\\Glassdoor_12_Mar_52\\companies_table_new_10.csv\n",
      "(1761, 8)\n",
      "0\n",
      "(204785, 11)\n",
      "C:\\Users\\User\\Desktop\\Fresh\\Vertex\\Misc\\Glassdoor_Collection\\\\Glassdoor_12_Mar_52\\companies_table_new_5.csv\n",
      "(2205, 7)\n",
      "0\n",
      "(206990, 11)\n",
      "C:\\Users\\User\\Desktop\\Fresh\\Vertex\\Misc\\Glassdoor_Collection\\\\Glassdoor_13_Mar_23\\companies_table.csv\n",
      "(16802, 6)\n",
      "0\n",
      "(223792, 11)\n",
      "C:\\Users\\User\\Desktop\\Fresh\\Vertex\\Misc\\Glassdoor_Collection\\\\Glassdoor_14_Mar\\companies_table_new_5.csv\n",
      "(4448, 7)\n",
      "0\n",
      "(228240, 11)\n",
      "C:\\Users\\User\\Desktop\\Fresh\\Vertex\\Misc\\Glassdoor_Collection\\\\Glassdoor_14_Mar_1\\companies_table_new_5.csv\n",
      "(1060, 7)\n",
      "0\n",
      "(229300, 11)\n",
      "C:\\Users\\User\\Desktop\\Fresh\\Vertex\\Misc\\Glassdoor_Collection\\\\Glassdoor_14_Mar_10\\companies_table_new_5.csv\n",
      "(946, 7)\n",
      "0\n",
      "(230246, 11)\n",
      "C:\\Users\\User\\Desktop\\Fresh\\Vertex\\Misc\\Glassdoor_Collection\\\\Glassdoor_14_Mar_15\\companies_table_new_5.csv\n",
      "(1495, 7)\n",
      "0\n",
      "(231741, 11)\n",
      "C:\\Users\\User\\Desktop\\Fresh\\Vertex\\Misc\\Glassdoor_Collection\\\\Glassdoor_14_Mar_16\\companies_table_new_5.csv\n",
      "(681, 7)\n",
      "0\n",
      "(232422, 11)\n",
      "C:\\Users\\User\\Desktop\\Fresh\\Vertex\\Misc\\Glassdoor_Collection\\\\Glassdoor_14_Mar_18\\companies_table.csv\n",
      "(507, 7)\n",
      "0\n",
      "(232929, 11)\n",
      "C:\\Users\\User\\Desktop\\Fresh\\Vertex\\Misc\\Glassdoor_Collection\\\\Glassdoor_14_Mar_18\\companies_table_new_5.csv\n",
      "(1382, 7)\n",
      "0\n",
      "(234311, 11)\n",
      "C:\\Users\\User\\Desktop\\Fresh\\Vertex\\Misc\\Glassdoor_Collection\\\\Glassdoor_14_Mar_20\\companies_table_new_5.csv\n",
      "(764, 7)\n",
      "0\n",
      "(235075, 11)\n",
      "C:\\Users\\User\\Desktop\\Fresh\\Vertex\\Misc\\Glassdoor_Collection\\\\Glassdoor_14_Mar_24\\companies_table_new_5.csv\n",
      "(4474, 8)\n",
      "0\n",
      "(239549, 11)\n",
      "C:\\Users\\User\\Desktop\\Fresh\\Vertex\\Misc\\Glassdoor_Collection\\\\Glassdoor_14_Mar_29\\companies_table_new_10.csv\n",
      "(109, 8)\n",
      "0\n",
      "(239658, 11)\n",
      "C:\\Users\\User\\Desktop\\Fresh\\Vertex\\Misc\\Glassdoor_Collection\\\\Glassdoor_14_Mar_29\\companies_table_new_5.csv\n",
      "(197, 7)\n",
      "0\n",
      "(239855, 11)\n",
      "C:\\Users\\User\\Desktop\\Fresh\\Vertex\\Misc\\Glassdoor_Collection\\\\Glassdoor_14_Mar_31\\companies_table.csv\n",
      "(2349, 7)\n",
      "0\n",
      "(242204, 11)\n",
      "C:\\Users\\User\\Desktop\\Fresh\\Vertex\\Misc\\Glassdoor_Collection\\\\Glassdoor_14_Mar_32\\companies_table.csv\n",
      "(1888, 7)\n",
      "0\n",
      "(244092, 11)\n",
      "C:\\Users\\User\\Desktop\\Fresh\\Vertex\\Misc\\Glassdoor_Collection\\\\Glassdoor_14_Mar_32\\companies_table_new_10.csv\n",
      "(1499, 8)\n",
      "0\n",
      "(245591, 11)\n",
      "C:\\Users\\User\\Desktop\\Fresh\\Vertex\\Misc\\Glassdoor_Collection\\\\Glassdoor_14_Mar_32\\companies_table_new_5.csv\n",
      "(1324, 7)\n",
      "0\n",
      "(246915, 11)\n",
      "C:\\Users\\User\\Desktop\\Fresh\\Vertex\\Misc\\Glassdoor_Collection\\\\Glassdoor_14_Mar_33\\companies_table_new_10.csv\n",
      "(1265, 8)\n",
      "0\n",
      "(248180, 11)\n",
      "C:\\Users\\User\\Desktop\\Fresh\\Vertex\\Misc\\Glassdoor_Collection\\\\Glassdoor_14_Mar_33\\companies_table_new_5.csv\n",
      "(468, 7)\n",
      "0\n",
      "(248648, 11)\n",
      "C:\\Users\\User\\Desktop\\Fresh\\Vertex\\Misc\\Glassdoor_Collection\\\\Glassdoor_14_Mar_35\\companies_table.csv\n",
      "(848, 7)\n",
      "0\n",
      "(249496, 11)\n",
      "C:\\Users\\User\\Desktop\\Fresh\\Vertex\\Misc\\Glassdoor_Collection\\\\Glassdoor_14_Mar_35\\companies_table_new_10.csv\n",
      "(1083, 8)\n",
      "0\n",
      "(250579, 11)\n",
      "C:\\Users\\User\\Desktop\\Fresh\\Vertex\\Misc\\Glassdoor_Collection\\\\Glassdoor_14_Mar_35\\companies_table_new_5.csv\n",
      "(1601, 7)\n",
      "0\n",
      "(252180, 11)\n",
      "C:\\Users\\User\\Desktop\\Fresh\\Vertex\\Misc\\Glassdoor_Collection\\\\Glassdoor_14_Mar_36\\companies_table_new_10.csv\n",
      "(1397, 8)\n",
      "0\n",
      "(253577, 11)\n",
      "C:\\Users\\User\\Desktop\\Fresh\\Vertex\\Misc\\Glassdoor_Collection\\\\Glassdoor_14_Mar_36\\companies_table_new_5.csv\n",
      "(783, 7)\n",
      "0\n",
      "(254360, 11)\n",
      "C:\\Users\\User\\Desktop\\Fresh\\Vertex\\Misc\\Glassdoor_Collection\\\\Glassdoor_14_Mar_37\\companies_table_new_10.csv\n",
      "(2093, 8)\n",
      "0\n",
      "(256453, 11)\n",
      "C:\\Users\\User\\Desktop\\Fresh\\Vertex\\Misc\\Glassdoor_Collection\\\\Glassdoor_14_Mar_37\\companies_table_new_5.csv\n",
      "(1383, 7)\n",
      "0\n",
      "(257836, 11)\n",
      "C:\\Users\\User\\Desktop\\Fresh\\Vertex\\Misc\\Glassdoor_Collection\\\\Glassdoor_14_Mar_38\\companies_table_new_10.csv\n",
      "(1284, 8)\n",
      "0\n",
      "(259120, 11)\n",
      "C:\\Users\\User\\Desktop\\Fresh\\Vertex\\Misc\\Glassdoor_Collection\\\\Glassdoor_14_Mar_38\\companies_table_new_5.csv\n",
      "(1022, 7)\n",
      "0\n",
      "(260142, 11)\n",
      "C:\\Users\\User\\Desktop\\Fresh\\Vertex\\Misc\\Glassdoor_Collection\\\\Glassdoor_14_Mar_39\\companies_table_new_10.csv\n",
      "(1069, 8)\n",
      "0\n",
      "(261211, 11)\n",
      "C:\\Users\\User\\Desktop\\Fresh\\Vertex\\Misc\\Glassdoor_Collection\\\\Glassdoor_14_Mar_39\\companies_table_new_5.csv\n",
      "(2682, 7)\n",
      "0\n",
      "(263893, 11)\n",
      "C:\\Users\\User\\Desktop\\Fresh\\Vertex\\Misc\\Glassdoor_Collection\\\\Glassdoor_14_Mar_40\\companies_table_new_10.csv\n",
      "(1021, 8)\n",
      "0\n",
      "(264914, 11)\n",
      "C:\\Users\\User\\Desktop\\Fresh\\Vertex\\Misc\\Glassdoor_Collection\\\\Glassdoor_14_Mar_40\\companies_table_new_5.csv\n",
      "(1088, 7)\n",
      "0\n",
      "(266002, 11)\n",
      "C:\\Users\\User\\Desktop\\Fresh\\Vertex\\Misc\\Glassdoor_Collection\\\\Glassdoor_14_Mar_41\\companies_table.csv\n",
      "(2947, 7)\n",
      "0\n",
      "(268949, 11)\n",
      "C:\\Users\\User\\Desktop\\Fresh\\Vertex\\Misc\\Glassdoor_Collection\\\\Glassdoor_14_Mar_41\\companies_table_new_10.csv\n",
      "(1691, 8)\n",
      "0\n",
      "(270640, 11)\n",
      "C:\\Users\\User\\Desktop\\Fresh\\Vertex\\Misc\\Glassdoor_Collection\\\\Glassdoor_14_Mar_42\\companies_table_new_10.csv\n",
      "(2020, 8)\n",
      "0\n",
      "(272660, 11)\n",
      "C:\\Users\\User\\Desktop\\Fresh\\Vertex\\Misc\\Glassdoor_Collection\\\\Glassdoor_14_Mar_42\\companies_table_new_5.csv\n",
      "(1934, 7)\n",
      "0\n",
      "(274594, 11)\n",
      "C:\\Users\\User\\Desktop\\Fresh\\Vertex\\Misc\\Glassdoor_Collection\\\\Glassdoor_14_Mar_44\\companies_table.csv\n",
      "(2496, 7)\n",
      "0\n",
      "(277090, 11)\n",
      "C:\\Users\\User\\Desktop\\Fresh\\Vertex\\Misc\\Glassdoor_Collection\\\\Glassdoor_14_Mar_44\\companies_table_new_10.csv\n",
      "(1299, 8)\n",
      "0\n",
      "(278389, 11)\n",
      "C:\\Users\\User\\Desktop\\Fresh\\Vertex\\Misc\\Glassdoor_Collection\\\\Glassdoor_14_Mar_45\\companies_table.csv\n",
      "(209, 7)\n",
      "0\n",
      "(278598, 11)\n",
      "C:\\Users\\User\\Desktop\\Fresh\\Vertex\\Misc\\Glassdoor_Collection\\\\Glassdoor_14_Mar_45\\companies_table_new_10.csv\n",
      "(1472, 8)\n",
      "0\n",
      "(280070, 11)\n",
      "C:\\Users\\User\\Desktop\\Fresh\\Vertex\\Misc\\Glassdoor_Collection\\\\Glassdoor_14_Mar_45\\companies_table_new_5.csv\n",
      "(2663, 7)\n",
      "0\n",
      "(282733, 11)\n",
      "C:\\Users\\User\\Desktop\\Fresh\\Vertex\\Misc\\Glassdoor_Collection\\\\Glassdoor_14_Mar_46\\companies_table.csv\n",
      "(1269, 7)\n",
      "0\n",
      "(284002, 11)\n",
      "C:\\Users\\User\\Desktop\\Fresh\\Vertex\\Misc\\Glassdoor_Collection\\\\Glassdoor_14_Mar_46\\companies_table_new_10.csv\n",
      "(2138, 8)\n",
      "0\n",
      "(286140, 11)\n",
      "C:\\Users\\User\\Desktop\\Fresh\\Vertex\\Misc\\Glassdoor_Collection\\\\Glassdoor_14_Mar_46\\companies_table_new_5.csv\n",
      "(1508, 7)\n",
      "0\n",
      "(287648, 11)\n",
      "C:\\Users\\User\\Desktop\\Fresh\\Vertex\\Misc\\Glassdoor_Collection\\\\Glassdoor_14_Mar_48\\companies_table_new_10.csv\n",
      "(1045, 8)\n",
      "0\n",
      "(288693, 11)\n",
      "C:\\Users\\User\\Desktop\\Fresh\\Vertex\\Misc\\Glassdoor_Collection\\\\Glassdoor_14_Mar_48\\companies_table_new_5.csv\n",
      "(1136, 7)\n",
      "0\n",
      "(289829, 11)\n",
      "C:\\Users\\User\\Desktop\\Fresh\\Vertex\\Misc\\Glassdoor_Collection\\\\Glassdoor_14_Mar_49\\companies_table.csv\n",
      "(1, 7)\n",
      "0\n",
      "(289830, 11)\n",
      "C:\\Users\\User\\Desktop\\Fresh\\Vertex\\Misc\\Glassdoor_Collection\\\\Glassdoor_14_Mar_49\\companies_table_new_10.csv\n",
      "(2581, 8)\n",
      "0\n",
      "(292411, 11)\n",
      "C:\\Users\\User\\Desktop\\Fresh\\Vertex\\Misc\\Glassdoor_Collection\\\\Glassdoor_14_Mar_49\\companies_table_new_5.csv\n",
      "(3339, 7)\n",
      "0\n",
      "(295750, 11)\n",
      "C:\\Users\\User\\Desktop\\Fresh\\Vertex\\Misc\\Glassdoor_Collection\\\\Glassdoor_14_Mar_50\\companies_table.csv\n",
      "(389, 7)\n",
      "0\n",
      "(296139, 11)\n",
      "C:\\Users\\User\\Desktop\\Fresh\\Vertex\\Misc\\Glassdoor_Collection\\\\Glassdoor_14_Mar_50\\companies_table_new_10.csv\n",
      "(1563, 8)\n",
      "0\n",
      "(297702, 11)\n",
      "C:\\Users\\User\\Desktop\\Fresh\\Vertex\\Misc\\Glassdoor_Collection\\\\Glassdoor_14_Mar_50\\companies_table_new_5.csv\n",
      "(1837, 7)\n",
      "0\n",
      "(299539, 11)\n",
      "C:\\Users\\User\\Desktop\\Fresh\\Vertex\\Misc\\Glassdoor_Collection\\\\Glassdoor_14_Mar_51\\companies_table_new_10.csv\n",
      "(2162, 8)\n",
      "0\n",
      "(301701, 11)\n",
      "C:\\Users\\User\\Desktop\\Fresh\\Vertex\\Misc\\Glassdoor_Collection\\\\Glassdoor_14_Mar_51\\companies_table_new_5.csv\n",
      "(845, 7)\n",
      "0\n",
      "(302546, 11)\n",
      "C:\\Users\\User\\Desktop\\Fresh\\Vertex\\Misc\\Glassdoor_Collection\\\\Glassdoor_14_Mar_53\\companies_table.csv\n",
      "(2284, 7)\n",
      "0\n",
      "(304830, 11)\n",
      "C:\\Users\\User\\Desktop\\Fresh\\Vertex\\Misc\\Glassdoor_Collection\\\\Glassdoor_14_Mar_53\\companies_table_new_10.csv\n",
      "(1340, 8)\n",
      "0\n",
      "(306170, 11)\n",
      "C:\\Users\\User\\Desktop\\Fresh\\Vertex\\Misc\\Glassdoor_Collection\\\\Glassdoor_14_Mar_54\\companies_table.csv\n",
      "(60, 7)\n",
      "0\n",
      "(306230, 11)\n",
      "C:\\Users\\User\\Desktop\\Fresh\\Vertex\\Misc\\Glassdoor_Collection\\\\Glassdoor_14_Mar_54\\companies_table_new_10.csv\n",
      "(1294, 8)\n",
      "0\n",
      "(307524, 11)\n",
      "C:\\Users\\User\\Desktop\\Fresh\\Vertex\\Misc\\Glassdoor_Collection\\\\Glassdoor_14_Mar_54\\companies_table_new_5.csv\n",
      "(2712, 7)\n",
      "0\n",
      "(310236, 11)\n",
      "C:\\Users\\User\\Desktop\\Fresh\\Vertex\\Misc\\Glassdoor_Collection\\\\Glassdoor_14_Mar_55\\companies_table_new_10.csv\n",
      "(1756, 8)\n",
      "0\n"
     ]
    },
    {
     "name": "stdout",
     "output_type": "stream",
     "text": [
      "(311992, 11)\n",
      "C:\\Users\\User\\Desktop\\Fresh\\Vertex\\Misc\\Glassdoor_Collection\\\\Glassdoor_14_Mar_55\\companies_table_new_5.csv\n",
      "(3025, 7)\n",
      "0\n",
      "(315017, 11)\n",
      "C:\\Users\\User\\Desktop\\Fresh\\Vertex\\Misc\\Glassdoor_Collection\\\\Glassdoor_14_Mar_59\\companies_table_new_10.csv\n",
      "(571, 8)\n",
      "0\n",
      "(315588, 11)\n",
      "C:\\Users\\User\\Desktop\\Fresh\\Vertex\\Misc\\Glassdoor_Collection\\\\Glassdoor_14_Mar_59\\companies_table_new_5.csv\n",
      "(3911, 7)\n",
      "0\n",
      "(319499, 11)\n",
      "C:\\Users\\User\\Desktop\\Fresh\\Vertex\\Misc\\Glassdoor_Collection\\\\Glassdoor_14_Mar_61\\companies_table.csv\n",
      "(455, 7)\n",
      "0\n",
      "(319954, 11)\n",
      "C:\\Users\\User\\Desktop\\Fresh\\Vertex\\Misc\\Glassdoor_Collection\\\\Glassdoor_14_Mar_61\\companies_table_new_10.csv\n",
      "(2086, 8)\n",
      "0\n",
      "(322040, 11)\n",
      "C:\\Users\\User\\Desktop\\Fresh\\Vertex\\Misc\\Glassdoor_Collection\\\\Glassdoor_14_Mar_61\\companies_table_new_5.csv\n",
      "(785, 7)\n",
      "0\n",
      "(322825, 11)\n",
      "C:\\Users\\User\\Desktop\\Fresh\\Vertex\\Misc\\Glassdoor_Collection\\\\Glassdoor_14_Mar_62\\companies_table.csv\n",
      "(2053, 7)\n",
      "0\n",
      "(324878, 11)\n",
      "C:\\Users\\User\\Desktop\\Fresh\\Vertex\\Misc\\Glassdoor_Collection\\\\Glassdoor_14_Mar_62\\companies_table_new_10.csv\n",
      "(2140, 8)\n",
      "0\n",
      "(327018, 11)\n",
      "C:\\Users\\User\\Desktop\\Fresh\\Vertex\\Misc\\Glassdoor_Collection\\\\Glassdoor_14_Mar_63\\companies_table.csv\n",
      "(247, 7)\n",
      "0\n",
      "(327265, 11)\n",
      "C:\\Users\\User\\Desktop\\Fresh\\Vertex\\Misc\\Glassdoor_Collection\\\\Glassdoor_14_Mar_63\\companies_table_new_10.csv\n",
      "(1080, 8)\n",
      "0\n",
      "(328345, 11)\n",
      "C:\\Users\\User\\Desktop\\Fresh\\Vertex\\Misc\\Glassdoor_Collection\\\\Glassdoor_14_Mar_63\\companies_table_new_5.csv\n",
      "(4098, 7)\n",
      "0\n",
      "(332443, 11)\n",
      "C:\\Users\\User\\Desktop\\Fresh\\Vertex\\Misc\\Glassdoor_Collection\\\\Glassdoor_14_Mar_64\\companies_table.csv\n",
      "(206, 7)\n",
      "0\n",
      "(332649, 11)\n",
      "C:\\Users\\User\\Desktop\\Fresh\\Vertex\\Misc\\Glassdoor_Collection\\\\Glassdoor_14_Mar_64\\companies_table_new_10.csv\n",
      "(3456, 8)\n",
      "0\n",
      "(336105, 11)\n",
      "C:\\Users\\User\\Desktop\\Fresh\\Vertex\\Misc\\Glassdoor_Collection\\\\Glassdoor_14_Mar_64\\companies_table_new_5.csv\n",
      "(3053, 7)\n",
      "0\n",
      "(339158, 11)\n",
      "C:\\Users\\User\\Desktop\\Fresh\\Vertex\\Misc\\Glassdoor_Collection\\\\Glassdoor_14_Mar_65\\companies_table.csv\n",
      "(2300, 7)\n",
      "0\n",
      "(341458, 11)\n",
      "C:\\Users\\User\\Desktop\\Fresh\\Vertex\\Misc\\Glassdoor_Collection\\\\Glassdoor_14_Mar_65\\companies_table_new_10.csv\n",
      "(2462, 8)\n",
      "0\n",
      "(343920, 11)\n",
      "C:\\Users\\User\\Desktop\\Fresh\\Vertex\\Misc\\Glassdoor_Collection\\\\Glassdoor_14_Mar_67\\companies_table_new_10.csv\n",
      "(1828, 8)\n",
      "0\n",
      "(345748, 11)\n",
      "C:\\Users\\User\\Desktop\\Fresh\\Vertex\\Misc\\Glassdoor_Collection\\\\Glassdoor_14_Mar_67\\companies_table_new_5.csv\n",
      "(366, 7)\n",
      "0\n",
      "(346114, 11)\n",
      "C:\\Users\\User\\Desktop\\Fresh\\Vertex\\Misc\\Glassdoor_Collection\\\\Glassdoor_14_Mar_68\\companies_table_new_10.csv\n",
      "(1050, 8)\n",
      "0\n",
      "(347164, 11)\n",
      "C:\\Users\\User\\Desktop\\Fresh\\Vertex\\Misc\\Glassdoor_Collection\\\\Glassdoor_14_Mar_68\\companies_table_new_5.csv\n",
      "(2330, 7)\n",
      "0\n",
      "(349494, 11)\n",
      "C:\\Users\\User\\Desktop\\Fresh\\Vertex\\Misc\\Glassdoor_Collection\\\\Glassdoor_15_Mar_11\\companies_table.csv\n",
      "(33338, 6)\n",
      "0\n",
      "(382832, 11)\n",
      "C:\\Users\\User\\Desktop\\Fresh\\Vertex\\Misc\\Glassdoor_Collection\\\\Glassdoor_15_Mar_12\\companies_table.csv\n",
      "(38297, 6)\n",
      "0\n",
      "(421129, 11)\n",
      "C:\\Users\\User\\Desktop\\Fresh\\Vertex\\Misc\\Glassdoor_Collection\\\\Glassdoor_15_Mar_13\\companies_table.csv\n",
      "(29473, 6)\n",
      "0\n",
      "(450602, 11)\n",
      "C:\\Users\\User\\Desktop\\Fresh\\Vertex\\Misc\\Glassdoor_Collection\\\\Glassdoor_15_Mar_14\\companies_table.csv\n",
      "(42349, 6)\n",
      "0\n",
      "(492951, 11)\n",
      "C:\\Users\\User\\Desktop\\Fresh\\Vertex\\Misc\\Glassdoor_Collection\\\\Glassdoor_15_Mar_19\\companies_table.csv\n",
      "(17563, 6)\n",
      "0\n",
      "(510514, 11)\n",
      "C:\\Users\\User\\Desktop\\Fresh\\Vertex\\Misc\\Glassdoor_Collection\\\\Glassdoor_15_Mar_19\\companies_table_new_5.csv\n",
      "(1794, 7)\n",
      "0\n",
      "(512308, 11)\n",
      "C:\\Users\\User\\Desktop\\Fresh\\Vertex\\Misc\\Glassdoor_Collection\\\\Glassdoor_15_Mar_2\\companies_table.csv\n",
      "(21653, 6)\n",
      "0\n",
      "(533961, 11)\n",
      "C:\\Users\\User\\Desktop\\Fresh\\Vertex\\Misc\\Glassdoor_Collection\\\\Glassdoor_15_Mar_24\\companies_table.csv\n",
      "(20643, 6)\n",
      "0\n",
      "(554604, 11)\n",
      "C:\\Users\\User\\Desktop\\Fresh\\Vertex\\Misc\\Glassdoor_Collection\\\\Glassdoor_15_Mar_24\\companies_table_new_5.csv\n",
      "(808, 7)\n",
      "0\n",
      "(555412, 11)\n",
      "C:\\Users\\User\\Desktop\\Fresh\\Vertex\\Misc\\Glassdoor_Collection\\\\Glassdoor_15_Mar_25\\companies_table.csv\n",
      "(24523, 6)\n",
      "0\n",
      "(579935, 11)\n",
      "C:\\Users\\User\\Desktop\\Fresh\\Vertex\\Misc\\Glassdoor_Collection\\\\Glassdoor_15_Mar_25\\companies_table_new_5.csv\n",
      "(8725, 7)\n",
      "0\n",
      "(588660, 11)\n",
      "C:\\Users\\User\\Desktop\\Fresh\\Vertex\\Misc\\Glassdoor_Collection\\\\Glassdoor_15_Mar_26\\companies_table.csv\n",
      "(17782, 6)\n",
      "0\n",
      "(606442, 11)\n",
      "C:\\Users\\User\\Desktop\\Fresh\\Vertex\\Misc\\Glassdoor_Collection\\\\Glassdoor_15_Mar_26\\companies_table_new_10.csv\n",
      "(1722, 8)\n",
      "0\n",
      "(608164, 11)\n",
      "C:\\Users\\User\\Desktop\\Fresh\\Vertex\\Misc\\Glassdoor_Collection\\\\Glassdoor_15_Mar_26\\companies_table_new_5.csv\n",
      "(2274, 7)\n",
      "0\n",
      "(610438, 11)\n",
      "C:\\Users\\User\\Desktop\\Fresh\\Vertex\\Misc\\Glassdoor_Collection\\\\Glassdoor_15_Mar_27\\companies_table.csv\n",
      "(57942, 6)\n",
      "0\n",
      "(668380, 11)\n",
      "C:\\Users\\User\\Desktop\\Fresh\\Vertex\\Misc\\Glassdoor_Collection\\\\Glassdoor_15_Mar_27\\companies_table_new_10.csv\n",
      "(485, 8)\n",
      "0\n",
      "(668865, 11)\n",
      "C:\\Users\\User\\Desktop\\Fresh\\Vertex\\Misc\\Glassdoor_Collection\\\\Glassdoor_15_Mar_3\\companies_table.csv\n",
      "(24671, 6)\n",
      "0\n",
      "(693536, 11)\n",
      "C:\\Users\\User\\Desktop\\Fresh\\Vertex\\Misc\\Glassdoor_Collection\\\\Glassdoor_15_Mar_3\\companies_table_new_5.csv\n",
      "(1314, 7)\n",
      "0\n",
      "(694850, 11)\n",
      "C:\\Users\\User\\Desktop\\Fresh\\Vertex\\Misc\\Glassdoor_Collection\\\\Glassdoor_15_Mar_30\\companies_table.csv\n",
      "(58223, 6)\n",
      "0\n",
      "(753073, 11)\n",
      "C:\\Users\\User\\Desktop\\Fresh\\Vertex\\Misc\\Glassdoor_Collection\\\\Glassdoor_15_Mar_30\\companies_table_new_10.csv\n",
      "(774, 8)\n",
      "0\n",
      "(753847, 11)\n",
      "C:\\Users\\User\\Desktop\\Fresh\\Vertex\\Misc\\Glassdoor_Collection\\\\Glassdoor_15_Mar_34\\companies_table.csv\n",
      "(30383, 6)\n",
      "0\n",
      "(784230, 11)\n",
      "C:\\Users\\User\\Desktop\\Fresh\\Vertex\\Misc\\Glassdoor_Collection\\\\Glassdoor_15_Mar_34\\companies_table_new_10.csv\n",
      "(1407, 8)\n",
      "0\n",
      "(785637, 11)\n",
      "C:\\Users\\User\\Desktop\\Fresh\\Vertex\\Misc\\Glassdoor_Collection\\\\Glassdoor_15_Mar_34\\companies_table_new_5.csv\n",
      "(4484, 8)\n",
      "0\n",
      "(790121, 11)\n",
      "C:\\Users\\User\\Desktop\\Fresh\\Vertex\\Misc\\Glassdoor_Collection\\\\Glassdoor_15_Mar_43\\companies_table.csv\n",
      "(46473, 6)\n",
      "0\n",
      "(836594, 11)\n",
      "C:\\Users\\User\\Desktop\\Fresh\\Vertex\\Misc\\Glassdoor_Collection\\\\Glassdoor_15_Mar_43\\companies_table_new_10.csv\n",
      "(1763, 8)\n",
      "0\n",
      "(838357, 11)\n",
      "C:\\Users\\User\\Desktop\\Fresh\\Vertex\\Misc\\Glassdoor_Collection\\\\Glassdoor_15_Mar_5\\companies_table.csv\n",
      "(24727, 6)\n",
      "0\n",
      "(863084, 11)\n",
      "C:\\Users\\User\\Desktop\\Fresh\\Vertex\\Misc\\Glassdoor_Collection\\\\Glassdoor_15_Mar_5\\companies_table_new_5.csv\n",
      "(979, 7)\n",
      "0\n",
      "(864063, 11)\n",
      "C:\\Users\\User\\Desktop\\Fresh\\Vertex\\Misc\\Glassdoor_Collection\\\\Glassdoor_15_Mar_56\\companies_table.csv\n",
      "(22451, 6)\n",
      "0\n",
      "(886514, 11)\n",
      "C:\\Users\\User\\Desktop\\Fresh\\Vertex\\Misc\\Glassdoor_Collection\\\\Glassdoor_15_Mar_56\\companies_table_new_10.csv\n",
      "(2261, 8)\n",
      "0\n",
      "(888775, 11)\n",
      "C:\\Users\\User\\Desktop\\Fresh\\Vertex\\Misc\\Glassdoor_Collection\\\\Glassdoor_15_Mar_56\\companies_table_new_5.csv\n",
      "(2371, 7)\n",
      "0\n",
      "(891146, 11)\n",
      "C:\\Users\\User\\Desktop\\Fresh\\Vertex\\Misc\\Glassdoor_Collection\\\\Glassdoor_15_Mar_57\\companies_table.csv\n",
      "(73496, 6)\n",
      "0\n",
      "(964642, 11)\n",
      "C:\\Users\\User\\Desktop\\Fresh\\Vertex\\Misc\\Glassdoor_Collection\\\\Glassdoor_15_Mar_57\\companies_table_new_10.csv\n",
      "(720, 8)\n",
      "0\n",
      "(965362, 11)\n",
      "C:\\Users\\User\\Desktop\\Fresh\\Vertex\\Misc\\Glassdoor_Collection\\\\Glassdoor_15_Mar_58\\companies_table.csv\n",
      "(23660, 6)\n",
      "0\n",
      "(989022, 11)\n",
      "C:\\Users\\User\\Desktop\\Fresh\\Vertex\\Misc\\Glassdoor_Collection\\\\Glassdoor_15_Mar_58\\companies_table_new_10.csv\n",
      "(1483, 8)\n",
      "0\n",
      "(990505, 11)\n",
      "C:\\Users\\User\\Desktop\\Fresh\\Vertex\\Misc\\Glassdoor_Collection\\\\Glassdoor_15_Mar_58\\companies_table_new_5.csv\n",
      "(2721, 7)\n",
      "0\n",
      "(993226, 11)\n",
      "C:\\Users\\User\\Desktop\\Fresh\\Vertex\\Misc\\Glassdoor_Collection\\\\Glassdoor_15_Mar_6\\companies_table.csv\n",
      "(34295, 6)\n",
      "0\n",
      "(1027521, 11)\n",
      "C:\\Users\\User\\Desktop\\Fresh\\Vertex\\Misc\\Glassdoor_Collection\\\\Glassdoor_15_Mar_66\\companies_table.csv\n",
      "(22073, 6)\n",
      "0\n",
      "(1049594, 11)\n",
      "C:\\Users\\User\\Desktop\\Fresh\\Vertex\\Misc\\Glassdoor_Collection\\\\Glassdoor_15_Mar_66\\companies_table_new_10.csv\n",
      "(2799, 8)\n",
      "0\n",
      "(1052393, 11)\n",
      "C:\\Users\\User\\Desktop\\Fresh\\Vertex\\Misc\\Glassdoor_Collection\\\\Glassdoor_15_Mar_66\\companies_table_new_5.csv\n",
      "(10944, 7)\n",
      "0\n",
      "(1063337, 11)\n",
      "C:\\Users\\User\\Desktop\\Fresh\\Vertex\\Misc\\Glassdoor_Collection\\\\Glassdoor_15_Mar_8\\companies_table.csv\n",
      "(21882, 6)\n",
      "0\n",
      "(1085219, 11)\n",
      "C:\\Users\\User\\Desktop\\Fresh\\Vertex\\Misc\\Glassdoor_Collection\\\\Glassdoor_15_Mar_9\\companies_table.csv\n",
      "(43119, 6)\n",
      "0\n",
      "(1128338, 11)\n",
      "C:\\Users\\User\\Desktop\\Fresh\\Vertex\\Misc\\Glassdoor_Collection\\\\Glassdoor_7_Mar_22\\companies_table.csv\n",
      "(26264, 6)\n",
      "0\n",
      "(1154602, 11)\n",
      "C:\\Users\\User\\Desktop\\Fresh\\Vertex\\Misc\\Glassdoor_Collection\\\\Glassdoor_7_Mar_4\\companies_table.csv\n",
      "(31231, 6)\n",
      "0\n"
     ]
    },
    {
     "name": "stdout",
     "output_type": "stream",
     "text": [
      "(1185833, 11)\n",
      "C:\\Users\\User\\Desktop\\Fresh\\Vertex\\Misc\\Glassdoor_Collection\\\\Glassdoor_7_Mar_4\\companies_table_new_5.csv\n",
      "(806, 7)\n",
      "0\n",
      "(1186639, 11)\n"
     ]
    }
   ],
   "source": [
    "for i in next(os.walk(str(main_path)))[1]:\n",
    "    for j in os.listdir(str(main_path)+str(i)):\n",
    "        if j == 'companies_table.csv':\n",
    "            print(str(main_path)+str(i)+('\\\\')+str(j))\n",
    "            data = pd.read_csv((str(main_path)+str(i)+('\\\\')+str(j)), header=0)\n",
    "            print(data.shape)\n",
    "            print(data['Location'].isnull().sum())\n",
    "            main_data_old = pd.concat([main_data_old, data])\n",
    "            print(main_data_old.shape)\n",
    "        elif j == 'companies_table_new_5.csv':\n",
    "            print(str(main_path)+str(i)+('\\\\')+str(j))\n",
    "            data = pd.read_csv((str(main_path)+str(i)+('\\\\')+str(j)), header=0)\n",
    "            print(data.shape)\n",
    "            print(data['Location'].isnull().sum())\n",
    "#             print(data.columns)\n",
    "            main_data_old = pd.concat([main_data_old, data])\n",
    "            print(main_data_old.shape)\n",
    "        elif j == 'companies_table_new_10.csv':\n",
    "            print(str(main_path)+str(i)+('\\\\')+str(j))\n",
    "            data = pd.read_csv((str(main_path)+str(i)+('\\\\')+str(j)), header=0)\n",
    "            print(data.shape)\n",
    "            print(data['Location'].isnull().sum())\n",
    "#             print(data.columns)\n",
    "            main_data_old = pd.concat([main_data_old, data])\n",
    "            print(main_data_old.shape)"
   ]
  },
  {
   "cell_type": "code",
   "execution_count": 5,
   "metadata": {
    "ExecuteTime": {
     "end_time": "2020-03-25T04:46:05.290489Z",
     "start_time": "2020-03-25T04:46:04.769062Z"
    }
   },
   "outputs": [],
   "source": [
    "main_data = main_data_old.copy()"
   ]
  },
  {
   "cell_type": "code",
   "execution_count": 6,
   "metadata": {
    "ExecuteTime": {
     "end_time": "2020-03-25T04:46:11.231452Z",
     "start_time": "2020-03-25T04:46:10.551810Z"
    }
   },
   "outputs": [
    {
     "name": "stdout",
     "output_type": "stream",
     "text": [
      "(1186639, 11)\n"
     ]
    },
    {
     "data": {
      "text/plain": [
       "Company Name      0.003257\n",
       "Data Collected    0.999985\n",
       "Data Size         0.999987\n",
       "Location          0.000413\n",
       "Rating            0.453393\n",
       "Recommend         0.453393\n",
       "Time Collected    0.649320\n",
       "Timestamp         0.824639\n",
       "URL               0.999992\n",
       "Unnamed: 0        0.000415\n",
       "Url               0.947415\n",
       "dtype: float64"
      ]
     },
     "execution_count": 6,
     "metadata": {},
     "output_type": "execute_result"
    }
   ],
   "source": [
    "print(main_data.shape)\n",
    "main_data.isnull().sum()/len(main_data)"
   ]
  },
  {
   "cell_type": "code",
   "execution_count": 7,
   "metadata": {
    "ExecuteTime": {
     "end_time": "2020-03-25T04:46:12.700337Z",
     "start_time": "2020-03-25T04:46:12.694335Z"
    }
   },
   "outputs": [],
   "source": [
    "di = {'https://www.glassdoor.sg/Reviews/india-reviews-SRCH_IL.0,5_IN115_IP' : \"India\", \n",
    "    'https://www.glassdoor.sg/Reviews/philippines-reviews-SRCH_IL.0,11_IN204_IP' : \"Philippines\",\n",
    "    'https://www.glassdoor.sg/Reviews/germany-reviews-SRCH_IL.0,7_IN96_IP' : \"Germany\",\n",
    "    'https://www.glassdoor.sg/Reviews/france-reviews-SRCH_IL.0,6_IN86_IP' : \"France\",\n",
    "    'https://www.glassdoor.sg/Reviews/us-reviews-SRCH_IL.0,2_IN1_IP' : \"United States\",\n",
    "    'https://www.glassdoor.sg/Reviews/singapore-reviews-SRCH_IL.0,9_IM1123_IP' : \"Singapore\",\n",
    "    'https://www.glassdoor.sg/Reviews/uk-reviews-SRCH_IL.0,2_IN2_IP' : \"United Kingdom\",\n",
    "    'https://www.glassdoor.sg/Reviews/thailand-reviews-SRCH_IL.0,8_IN229_IP' : \"Thailand\",\n",
    "    'https://www.glassdoor.sg/Reviews/yung-shue-wan-reviews-SRCH_IL.0,13_IM1462_IP' : \"Hong Kong\",\n",
    "    'https://www.glassdoor.sg/Reviews/vietnam-reviews-SRCH_IL.0,7_IN251_IP' : \"Vietnam\",\n",
    "    'https://www.glassdoor.sg/Reviews/denmark-reviews-SRCH_IL.0,7_IN63_IP' : \"Denmark\",\n",
    "    'https://www.glassdoor.sg/Reviews/japan-reviews-SRCH_IL.0,5_IN123_IP' : \"Japan\",\n",
    "    'https://www.glassdoor.sg/Reviews/switzerland-reviews-SRCH_IL.0,11_IN226_IP' : \"Switzerland\",\n",
    "    'https://www.glassdoor.sg/Reviews/malaysia-reviews-SRCH_IL.0,8_IN170_IP' : \"Malaysia\",\n",
    "    'https://www.glassdoor.sg/Reviews/indonesia-reviews-SRCH_IL.0,9_IN113_IP' : \"Indonesia\",\n",
    "    'https://www.glassdoor.sg/Reviews/sydney-reviews-SRCH_IL.0,6_IM962_IP' : \"Sydney\",\n",
    "    'https://www.glassdoor.sg/Reviews/israel-reviews-SRCH_IL.0,6_IN119_IP' : \"Israel\",\n",
    "    'https://www.glassdoor.sg/Reviews/china-reviews-SRCH_IL.0,5_IN48_IP' : \"China\"}"
   ]
  },
  {
   "cell_type": "code",
   "execution_count": 8,
   "metadata": {
    "ExecuteTime": {
     "end_time": "2020-03-25T04:46:15.158440Z",
     "start_time": "2020-03-25T04:46:14.114610Z"
    }
   },
   "outputs": [],
   "source": [
    "main_data['Location'] = main_data['Location'].replace(di)"
   ]
  },
  {
   "cell_type": "code",
   "execution_count": 9,
   "metadata": {
    "ExecuteTime": {
     "end_time": "2020-03-25T04:46:19.077201Z",
     "start_time": "2020-03-25T04:46:18.980854Z"
    }
   },
   "outputs": [
    {
     "data": {
      "text/plain": [
       "array(['Indonesia', 'Singapore', 'United States', 'San Francisco',\n",
       "       'Germany', 'France', 'United Kingdom', 'India', 'Sydney', 'China',\n",
       "       'Hong Kong', nan, 'Thailand', 'Israel', 'Japan', 'Philippines',\n",
       "       'Switzerland', ' Chennai, India', ' Bengaluru, India',\n",
       "       ' Noida, India', ' Nimbahera, India', ' Cuttack, India',\n",
       "       ' Hyderabad, India', ' Mumbai, India', 'Coimbatore, India',\n",
       "       ' New Delhi, India', ' Kolkata, India', ' Ahmedabad, India',\n",
       "       ' Indore, India', ' Dehradun, India', ' Chandigarh, India',\n",
       "       ' Mohali, Punjab, India', ' Kochi, India', ' Banjara Hills, India',\n",
       "       ' Birmingham, England, United Kingdom',\n",
       "       ' Nagpur, Maharashtra, India', 'Karol Bagh, India',\n",
       "       ' Delft, Netherlands', ' Madhapur, India', ' Pune, India',\n",
       "       'Greater Noida, India', ' San Jose, CA, United States',\n",
       "       ' Rajkot, Gujarat, India', ' Munger, India',\n",
       "       ' Sunnyvale, CA, United States', ' Lucknow, India',\n",
       "       ' New York, NY, United States', ' Dwarka, India',\n",
       "       ' Gurgaon, Haryana, India', ' Rochester, NY, United States',\n",
       "       ' Houston, TX, United States', ' Janakpuri, India',\n",
       "       ' Gandhinagar, Gujarat, India', ' Saratoga, CA, United States',\n",
       "       ' Coimbatore, India', ' Irving, TX, United States',\n",
       "       ' Vasant Kunj, India', ' Nashik, India',\n",
       "       ' Hosur, Karnataka, India', ' Boston, MA, United States',\n",
       "       ' Oakville, ON, Canada', ' Verona, WI, United States',\n",
       "       ' Minneapolis, MN, United States', ' McLean, VA, United States',\n",
       "       ' Warrenville, IL, United States', ' Miami, FL, United States',\n",
       "       ' Tampa, FL, United States',\n",
       "       ' Storrs Mansfield, CT, United States',\n",
       "       ' Princeton, NJ, United States', ' Mill Valley, CA, United States',\n",
       "       ' London, England, United Kingdom', ' Melbourne, Australia',\n",
       "       ' Coventry, England, United Kingdom',\n",
       "       ' Milwaukee, WI, United States',\n",
       "       ' Peachtree City, GA, United States',\n",
       "       ' Palo Alto, CA, United States', ' Mortsel, Belgium',\n",
       "       ' Dublin, Co. Dublin, Ireland', ' Jacksonville, FL, United States',\n",
       "       ' San Francisco, CA, United States',\n",
       "       ' Woodinville, WA, United States', ' Ditzingen, Germany',\n",
       "       ' Trowbridge, England, United Kingdom', ' Florence, Italy',\n",
       "       ' Burlingame, CA, United States', ' Subang, Malaysia',\n",
       "       ' Muscatine, IA, United States', ' Denver, CO, United States',\n",
       "       ' Oakland, CA, United States', ' Senago, Italy',\n",
       "       ' Thousand Oaks, CA, United States',\n",
       "       ' Garching b.München, Germany', ' Letterkenny, Ireland',\n",
       "       ' Stevenage, England, United Kingdom',\n",
       "       ' Louisville, KY, United States', ' Minnetonka, MN, United States',\n",
       "       ' Chicago, IL, United States', ' Wichita Falls, TX, United States',\n",
       "       ' Albany, NY, United States', ' Seongnam, South Korea',\n",
       "       ' Braintree, MA, United States', ' Paris, France',\n",
       "       ' Baltimore, MD, United States', ' Kirkland, WA, United States',\n",
       "       ' Redmond, WA, United States', ' Saint Louis, MO, United States',\n",
       "       ' Munich, Bayern, Germany', ' Pleasanton, CA, United States',\n",
       "       ' Gurnee, IL, United States', ' Dubai, United Arab Emirates',\n",
       "       ' Jumayrah, United Arab Emirates',\n",
       "       ' Enderby, England, United Kingdom', ' Phoenix, AZ, United States',\n",
       "       ' Stavanger, Norway', ' São Paulo, São Paulo, Brazil',\n",
       "       ' Riyadh, Saudi Arabia', ' Zug, Switzerland',\n",
       "       ' Woburn, MA, United States', ' Tokyo, Japan',\n",
       "       ' Irvine, CA, United States', ' Rockville, MD, United States',\n",
       "       ' Tel Aviv-Yafo, Israel', ' Holland, OH, United States',\n",
       "       ' King of Prussia, PA, United States', ' Wixom, MI, United States',\n",
       "       ' Costa Mesa, CA, United States', ' Addison, TX, United States',\n",
       "       ' Armonk, NY, United States', ' San Diego, CA, United States',\n",
       "       ' Hoffman Estates, IL, United States',\n",
       "       ' Teaneck, NJ, United States', ' Washington, DC, United States',\n",
       "       ' Reynoldsburg, OH, United States', ' Norwalk, CT, United States',\n",
       "       ' Mc Lean, VA, United States', ' Ann Arbor, MI, United States',\n",
       "       ' Mountain View, CA, United States', ' Wayne, NJ, United States',\n",
       "       ' Cincinnati, OH, United States',\n",
       "       ' Uxbridge, England, United Kingdom',\n",
       "       ' Brentwood, TN, United States', ' Monrovia, CA, United States',\n",
       "       ' Los Angeles, CA, United States', ' Seattle, WA, United States',\n",
       "       ' Atlanta, GA, United States', ' Salisbury, NC, United States',\n",
       "       ' Reston, VA, United States', ' Piscataway, NJ, United States',\n",
       "       ' Dallas, TX, United States',\n",
       "       ' Brentford, England, United Kingdom',\n",
       "       ' Bloomington, MN, United States', ' Plano, TX, United States',\n",
       "       ' Davis, CA, United States', ' Madison, WI, United States',\n",
       "       ' Maryville, TN, United States',\n",
       "       ' Lake Success, NY, United States',\n",
       "       ' Fort Lauderdale, FL, United States',\n",
       "       ' San Antonio, TX, United States',\n",
       "       ' Port Saint Lucie, FL, United States',\n",
       "       ' Charlotte, NC, United States', ' Kerrville, TX, United States',\n",
       "       ' Madison, AL, United States', 'Toa Alta, PR, United States',\n",
       "       ' Rochester, MN, United States', ' Victor, NY, United States',\n",
       "       ' Reading, England, United Kingdom',\n",
       "       ' Gilbertsville, PA, United States', ' Norfolk, VA, United States',\n",
       "       ' Omaha, NE, United States', ' Greenwich, CT, United States',\n",
       "       ' Encino, CA, United States', ' Branford, CT, United States',\n",
       "       ' Melbourne, FL, United States', ' Lebanon, OH, United States',\n",
       "       ' Forest Hill, MD, United States', ' Allentown, PA, United States',\n",
       "       ' Ellensburg, WA, United States', ' Muskogee, OK, United States',\n",
       "       ' Toms River, NJ, United States', ' Destrehan, LA, United States',\n",
       "       'Mason, OH, United States', ' Des Moines, IA, United States',\n",
       "       ' Clearwater, FL, United States', ' Jackson, TN, United States',\n",
       "       ' Tracy, CA, United States', ' Middleton, WI, United States',\n",
       "       ' Kansas City, MO, United States', ' Lamar, CO, United States',\n",
       "       'Davie, FL, United States', ' Wilmington, DE, United States',\n",
       "       ' Bakersfield, CA, United States',\n",
       "       ' New London, CT, United States', ' Pittsburgh, PA, United States',\n",
       "       ' Tucson, AZ, United States', ' Tryon, NC, United States',\n",
       "       ' Wayland, MI, United States', ' Chattanooga, TN, United States',\n",
       "       ' Sussex, WI, United States', 'Goodyear, AZ, United States',\n",
       "       ' Augsburg, Bayern, Germany', ' Taipei, Taiwan',\n",
       "       ' Coevorden, Netherlands', ' Hershey, PA, United States',\n",
       "       ' Centennial, CO, United States', ' Toronto, ON, Canada',\n",
       "       ' Alpharetta, GA, United States',\n",
       "       ' Landisville, PA, United States', ' Mission, TX, United States',\n",
       "       ' Redwood City, CA, United States', 'Chicago, IL, United States',\n",
       "       ' Texarkana, TX, United States', ' Chino Hills, CA, United States',\n",
       "       ' Columbia, SC, United States', ' Pulaski, WI, United States',\n",
       "       ' Rossville, GA, United States', ' Bloomington, IN, United States',\n",
       "       ' Wichita, KS, United States', ' Midland, MI, United States',\n",
       "       ' Spartanburg, SC, United States', ' Albion, NY, United States',\n",
       "       ' Bayside, NY, United States', 'North Adams, MA, United States',\n",
       "       ' New Holland, PA, United States',\n",
       "       ' Saint Augustine, FL, United States',\n",
       "       ' Scottsdale, AZ, United States', ' Saint Paul, MN, United States',\n",
       "       ' Monroe, CT, United States', ' Urbanna, VA, United States',\n",
       "       ' Columbus, GA, United States', 'Snow Hill, NC, United States',\n",
       "       ' London, OH, United States', ' Spring, TX, United States',\n",
       "       ' Hilliard, OH, United States', ' Washington, WI, United States',\n",
       "       ' Ocala, FL, United States', ' Santee, SC, United States',\n",
       "       ' Hoquiam, WA, United States', ' Fort Wayne, IN, United States',\n",
       "       ' Boca Raton, FL, United States', ' Allen, TX, United States',\n",
       "       ' Shelburne, VT, United States', ' Southgate, MI, United States',\n",
       "       ' Wilmington, NC, United States', ' East Burke, VT, United States',\n",
       "       ' Wallingford, CT, United States', ' Hartford, WI, United States',\n",
       "       ' Ramona, CA, United States',\n",
       "       ' New Philadelphia, OH, United States',\n",
       "       'San Diego, CA, United States', ' Columbia, MD, United States',\n",
       "       'Bronx, NY, United States', ' Goleta, CA, United States',\n",
       "       ' Cayman Palms, Cayman Islands', ' Hod HaSharon, Israel',\n",
       "       ' Clive, IA, United States', ' Glen Cove, NY, United States',\n",
       "       'San Jose, CA, United States', ' Fayetteville, NC, United States',\n",
       "       ' Bensalem, PA, United States',\n",
       "       ' Pinellas Park, FL, United States', ' Salix, PA, United States',\n",
       "       ' Sandstone, MN, United States', ' Asheville, NC, United States',\n",
       "       ' Richmond, VA, United States', 'The Woodlands, TX, United States',\n",
       "       ' Mountlake Terrace, WA, United States',\n",
       "       ' San Martin, CA, United States', ' Newport, OR, United States',\n",
       "       ' Giddings, TX, United States', ' Greensboro, NC, United States',\n",
       "       'Cleveland, OH, United States', ' Maple Grove, MN, United States',\n",
       "       ' Dalton, GA, United States',\n",
       "       ' Greenwood Village, CO, United States',\n",
       "       ' Fremont, CA, United States', 'Brooklyn, NY, United States',\n",
       "       ' Rutherford, NJ, United States', ' Wellsville, OH, United States',\n",
       "       ' Lincolnshire, IL, United States', ' Darien, CT, United States',\n",
       "       ' Gardena, CA, United States', ' Mission Viejo, CA, United States',\n",
       "       ' Hobart, IN, United States', ' Raeford, NC, United States',\n",
       "       ' Myrtle Beach, SC, United States',\n",
       "       ' Montgomery, AL, United States', 'Wichita, KS, United States',\n",
       "       ' Austin, TX, United States', ' Durango, CO, United States',\n",
       "       ' Lake Oswego, OR, United States', ' Edina, MN, United States',\n",
       "       ' Overland Park, KS, United States',\n",
       "       ' San Carlos, CA, United States', ' Newton, MA, United States',\n",
       "       ' Naples, Italy', ' Provo, UT, United States',\n",
       "       ' Cherry Hill, NJ, United States', ' Smithtown, NY, United States',\n",
       "       ' Rocky Hill, CT, United States', ' San Marcos, CA, United States',\n",
       "       ' Sarasota, FL, United States', 'www.servicecenterteam.com ',\n",
       "       ' Rocky Point, NC, United States', ' Lafayette, LA, United States',\n",
       "       ' Surprise, AZ, United States', 'Fullerton, CA, United States',\n",
       "       ' Highland Park, IL, United States',\n",
       "       ' Colorado Springs, CO, United States',\n",
       "       ' Kings Mountain, NC, United States',\n",
       "       ' Wauconda, IL, United States',\n",
       "       ' Hendersonville, TN, United States',\n",
       "       ' Morgan Hill, CA, United States', ' Rumson, NJ, United States',\n",
       "       ' Columbus, OH, United States', ' Los Gatos, CA, United States',\n",
       "       ' Zionsville, IN, United States', ' Leesburg, VA, United States',\n",
       "       ' Pitman, NJ, United States', ' Berthoud, CO, United States',\n",
       "       ' Spring Lake, NC, United States', ' Hollywood, CA, United States',\n",
       "       ' Mishawaka, IN, United States',\n",
       "       ' Universal City, TX, United States',\n",
       "       ' Fairfield, OH, United States', ' Westminster, CO, United States',\n",
       "       ' Glasgow, Scotland, United Kingdom',\n",
       "       'Montevallo, AL, United States', ' Nacogdoches, TX, United States',\n",
       "       'Kendallville, IN, United States', ' Mesa, AZ, United States',\n",
       "       ' Mendota, IL, United States', ' Bergen, Norway',\n",
       "       ' Fall River, MA, United States', 'Manchester, NH, United States',\n",
       "       ' Cerritos, CA, United States', ' Marshall, TX, United States',\n",
       "       'Mount Vernon, NY, United States', ' Larkspur, CA, United States',\n",
       "       ' Barrington, IL, United States', ' Las Vegas, NV, United States',\n",
       "       ' Hagerstown, MD, United States',\n",
       "       ' Scott Depot, WV, United States', ' Rumelange, Luxembourg',\n",
       "       ' Indialantic, FL, United States',\n",
       "       ' Indianapolis, IN, United States', ' Windham, NH, United States',\n",
       "       ' Salisbury, MD, United States', ' Millersburg, OH, United States',\n",
       "       ' Anchorage, AK, United States', 'Jackson, MS, United States',\n",
       "       ' Alexandria, VA, United States',\n",
       "       ' Virginia Beach, VA, United States', 'Dublin, OH, United States',\n",
       "       ' Vicksburg, MI, United States', ' Kingsport, TN, United States',\n",
       "       'West Memphis, AR, United States', ' Staunton, VA, United States',\n",
       "       ' Salt Lake City, UT, United States',\n",
       "       ' Manhattan, KS, United States', ' Salem, NJ, United States',\n",
       "       ' Beverly Hills, CA, United States',\n",
       "       ' Kennebunk, ME, United States', ' Pleasanton, IA, United States',\n",
       "       ' Charlottesville, VA, United States',\n",
       "       ' Hopkins, MN, United States', ' Portland, OR, United States',\n",
       "       ' Philadelphia, PA, United States', ' Golden, CO, United States',\n",
       "       ' Newport Beach, CA, United States',\n",
       "       ' Shingle Springs, CA, United States',\n",
       "       ' Tarboro, NC, United States', ' Kinston, NC, United States',\n",
       "       ' Hutchinson, KS, United States', ' Boise, ID, United States',\n",
       "       ' Oklahoma City, OK, United States',\n",
       "       ' Bad Homburg v. d. Höhe, Germany',\n",
       "       ' Miami Lakes, FL, United States', ' Kenmore, NY, United States',\n",
       "       ' Conroe, TX, United States', ' Richmond Hill, NY, United States',\n",
       "       ' Lewiston, ID, United States', ' Northvale, NJ, United States',\n",
       "       ' College Station, TX, United States',\n",
       "       ' Knoxville, TN, United States',\n",
       "       ' Grand Rapids, MI, United States', ' Raleigh, NC, United States',\n",
       "       ' Germantown, MD, United States', ' Danville, VA, United States',\n",
       "       ' Amarillo, TX, United States', ' Manchester, NH, United States',\n",
       "       ' Orange, CA, United States', ' Kronberg im Taunus, Germany',\n",
       "       ' Ramsey, NJ, United States', 'Newark, NJ, United States',\n",
       "       ' Fredericksburg, VA, United States',\n",
       "       'Freehold, NJ, United States', 'Sunnyvale, CA, United States',\n",
       "       'Dallas, TX, United States', ' Oviedo, FL, United States',\n",
       "       ' The Woodlands, TX, United States',\n",
       "       ' Manalapan, NJ, United States',\n",
       "       ' Corpus Christi, TX, United States',\n",
       "       ' Emporia, KS, United States', 'Kaohsiung, Taiwan',\n",
       "       ' Sugar Land, TX, United States', ' Hackensack, NJ, United States',\n",
       "       ' Bedminster, NJ, United States', 'Waimea, HI, United States',\n",
       "       ' Vega Alta, PR, United States',\n",
       "       ' City of Industry, CA, United States',\n",
       "       'Allentown, PA, United States', ' San Jose, San Jose, Costa Rica',\n",
       "       ' Metairie, LA, United States', ' New Haven, CT, United States',\n",
       "       ' Pratt, KS, United States', ' Watertown, SD, United States',\n",
       "       ' Westfield, IN, United States', ' Hazleton, PA, United States',\n",
       "       ' Richburg, SC, United States', 'Boca Raton, FL, United States',\n",
       "       ' Staten Island, NY, United States',\n",
       "       ' Orchard Park, NY, United States', ' Brea, CA, United States',\n",
       "       ' Livingston, NJ, United States', 'Miami, FL, United States',\n",
       "       ' Arlington, MA, United States', ' Hoboken, NJ, United States',\n",
       "       ' Long Beach, CA, United States', 'Riverdale, GA, United States',\n",
       "       ' Lawrence, KS, United States', ' Howell, MI, United States',\n",
       "       ' White Castle, LA, United States',\n",
       "       ' Bettendorf, IA, United States',\n",
       "       ' Los Fresnos, TX, United States', ' Boulder, CO, United States',\n",
       "       ' McKinney, TX, United States', ' Renton, WA, United States',\n",
       "       ' Hendersonville, NC, United States',\n",
       "       ' Glen Allen, VA, United States', ' Milpitas, CA, United States',\n",
       "       ' Lanham, MD, United States', 'Woodland Hills, CA, United States',\n",
       "       ' Sandy Springs, GA, United States',\n",
       "       ' Lexington, KY, United States', ' Youngstown, OH, United States',\n",
       "       'McComb, MS, United States', 'Buffalo Grove, IL, United States',\n",
       "       'Belfast, ME, United States', ' Boardman, OH, United States',\n",
       "       'health.umd.edu ', ' Bogotá, Bogota, Colombia',\n",
       "       ' Panama City, FL, United States', ' Stockholm, Stockholm, Sweden',\n",
       "       ' Daqing, Heilongjiang, China', ' Yauco, PR, United States',\n",
       "       ' Port Charlotte, FL, United States',\n",
       "       ' Levittown, PR, United States', ' Birmingham, AL, United States',\n",
       "       ' Jacksonville Beach, FL, United States',\n",
       "       ' Newport News, VA, United States', ' Lincoln, NE, United States',\n",
       "       ' Orland Park, IL, United States', ' Oxford, MS, United States',\n",
       "       ' West Jordan, UT, United States', ' Lutz, FL, United States',\n",
       "       'Elk City, OK, United States', ' Middletown, PA, United States',\n",
       "       ' Dothan, AL, United States', ' Syracuse, NY, United States',\n",
       "       ' Lake Park, FL, United States', 'Asbury Park, NJ, United States',\n",
       "       ' Corona, CA, United States', ' Punta Caña, Dominican Republic',\n",
       "       \" Coeur d'Alene, ID, United States\", ' Seoul, South Korea',\n",
       "       ' Maplewood, NJ, United States', ' Bayport, MN, United States',\n",
       "       'Martinsville, IN, United States',\n",
       "       ' North Wales, PA, United States', ' Laplace, LA, United States',\n",
       "       ' Oxford, AL, United States', 'Syracuse, NY, United States',\n",
       "       ' Coatesville, PA, United States', ' Lagrange, GA, United States',\n",
       "       'Philadelphia, PA, United States', ' Monroe, WA, United States',\n",
       "       'Denver, CO, United States', 'Bradford, PA, United States',\n",
       "       ' Fort Collins, CO, United States', ' Lubbock, TX, United States',\n",
       "       'Joy, IL, United States', ' Greenville, SC, United States',\n",
       "       ' Rotterdam, Netherlands', ' Woodbridge, VA, United States',\n",
       "       ' Tamarac, FL, United States', ' Port Harcourt, Nigeria',\n",
       "       ' Broomfield, CO, United States', ' Georgetown, TX, United States',\n",
       "       ' Joshua, TX, United States',\n",
       "       ' Berkeley Springs, WV, United States',\n",
       "       ' Montgomery, TX, United States', 'Melrose, MA, United States',\n",
       "       ' Wayne, PA, United States', ' Duluth, GA, United States',\n",
       "       ' Mandeville, LA, United States', ' Waco, TX, United States',\n",
       "       'Oakhurst, CA, United States', ' Mankato, MN, United States',\n",
       "       ' Ogden, UT, United States', ' Sacramento, CA, United States',\n",
       "       ' Cambridge, MA, United States', ' Telluride, CO, United States',\n",
       "       ' Everett, WA, United States', ' Durham, NC, United States',\n",
       "       ' Midvale, UT, United States', ' Largo, MD, United States',\n",
       "       ' Chatsworth, CA, United States', ' Quakertown, PA, United States',\n",
       "       ' Roscoe, IL, United States', ' Sumner, WA, United States',\n",
       "       ' San Juan, PR, United States', ' Winnipeg, MB, Canada',\n",
       "       ' Joplin, MO, United States', ' Chelsea, MI, United States',\n",
       "       ' Saint Charles, MO, United States', ' Hutto, TX, United States',\n",
       "       ' Anderson, SC, United States', 'New York, NY, United States',\n",
       "       'Folsom, CA, United States', ' Hyannis, MA, United States',\n",
       "       ' Lakewood, CO, United States', ' El Cerrito, CA, United States',\n",
       "       ' Aitkin, MN, United States', ' Burlington, MA, United States',\n",
       "       'Middlesex, NJ, United States', ' Cleveland, OH, United States',\n",
       "       ' Bridgeton, NJ, United States', 'Winter Park, FL, United States',\n",
       "       ' Springfield, MO, United States', ' Eugene, OR, United States',\n",
       "       ' Chesaning, MI, United States',\n",
       "       ' Childersburg, AL, United States',\n",
       "       ' Camp Hill, PA, United States', ' DeKalb, IL, United States',\n",
       "       ' Naperville, IL, United States', ' Las Cruces, NM, United States',\n",
       "       ' Concord, CA, United States', ' Puyallup, WA, United States',\n",
       "       'Washington, DC, United States', ' Mansfield, MA, United States',\n",
       "       ' Broadalbin, NY, United States', ' Savannah, GA, United States',\n",
       "       ' Fairfield, CA, United States', ' Brooklyn, NY, United States',\n",
       "       ' Tonawanda, NY, United States',\n",
       "       ' South Pasadena, CA, United States',\n",
       "       ' Miami Gardens, FL, United States', ' Massena, NY, United States',\n",
       "       ' Vladivostok, Russia', ' Marietta, GA, United States',\n",
       "       ' Englewood, CO, United States', ' Elgin, SC, United States',\n",
       "       ' Carrollton, TX, United States', ' Tualatin, OR, United States',\n",
       "       'Mount Vernon, WA, United States',\n",
       "       'Barceloneta, PR, United States',\n",
       "       ' Eagle River, WI, United States', ' Thomaston, CT, United States',\n",
       "       ' New Hope, PA, United States', ' Carrboro, NC, United States',\n",
       "       'Spokane Valley, WA, United States',\n",
       "       ' Portsmouth, NH, United States', 'Ballwin, MO, United States',\n",
       "       'Gulf Shores, AL, United States', ' Manchester, CT, United States',\n",
       "       ' Belle Mead, NJ, United States', ' Scranton, PA, United States',\n",
       "       ' Bronx, NY, United States', ' Beijing, Beijing, China',\n",
       "       ' San Rafael, CA, United States', ' Santa Ana, CA, United States',\n",
       "       ' Providence, RI, United States', ' Sullivan, IL, United States',\n",
       "       'Dubai, United Arab Emirates', ' Johnstown, PA, United States',\n",
       "       ' White Settlement, TX, United States', ' Beirut, Lebanon',\n",
       "       ' Midland, TX, United States', ' Huntsville, TX, United States',\n",
       "       ' New Orleans, LA, United States',\n",
       "       ' McMinnville, OR, United States', ' Glendale, CA, United States',\n",
       "       ' Mobile, AL, United States', ' Palm Harbor, FL, United States',\n",
       "       ' Canton, MI, United States', ' West Simsbury, CT, United States',\n",
       "       ' Brownstown, MI, United States', 'Rogers, MN, United States',\n",
       "       ' Bethany, OK, United States', ' Sausalito, CA, United States',\n",
       "       ' Spring Valley, WI, United States',\n",
       "       ' West Hollywood, CA, United States',\n",
       "       ' Gainesville, FL, United States',\n",
       "       ' Mount Vernon, NY, United States',\n",
       "       ' Dade City, FL, United States', ' Petaling Jaya, Malaysia',\n",
       "       ' Plymouth Meeting, PA, United States',\n",
       "       ' San Mateo, CA, United States', ' Aiea, HI, United States',\n",
       "       ' Yardley, PA, United States', ' Morgan City, LA, United States',\n",
       "       ' Canton, OH, United States', 'Swainsboro, GA, United States',\n",
       "       ' Bloomfield Hills, MI, United States',\n",
       "       ' Sioux Falls, SD, United States', ' Crescent, MO, United States',\n",
       "       'Lisle, IL, United States', ' Orland Hills, IL, United States',\n",
       "       'Rozet, WY, United States', 'Troutman, NC, United States',\n",
       "       'Chennai, India', ' La Crosse, WI, United States',\n",
       "       ' Jacksonville, TX, United States',\n",
       "       ' Baton Rouge, LA, United States', ' Napa, CA, United States',\n",
       "       'Newburyport, MA, United States', 'Riverside, CA, United States',\n",
       "       ' New Berlin, WI, United States', ' Greenwood, IN, United States',\n",
       "       ' Ava, MO, United States', ' College Park, MD, United States',\n",
       "       'Eastpointe, MI, United States',\n",
       "       ' North Fort Myers, FL, United States',\n",
       "       ' Shamokin, PA, United States', ' Pittsburg, KS, United States',\n",
       "       ' Vernon, CA, United States',\n",
       "       ' Glendale Heights, IL, United States',\n",
       "       ' San Bernardino, CA, United States', ' Altus, OK, United States',\n",
       "       ' Cypress, CA, United States', ' Kansas City, KS, United States',\n",
       "       ' Nashville, TN, United States', ' Trexlertown, PA, United States',\n",
       "       ' Beaver Dam, WI, United States', ' Swampscott, MA, United States',\n",
       "       ' Woodstock, GA, United States', ' Newburgh, NY, United States',\n",
       "       ' Menasha, WI, United States', ' Gibsonia, PA, United States',\n",
       "       ' Gillespie, IL, United States', ' Loveland, CO, United States',\n",
       "       ' Jensen Beach, FL, United States',\n",
       "       ' Hampstead, NH, United States', ' Bridgewater, MA, United States',\n",
       "       ' Scarsdale, NY, United States', ' Norwich, CT, United States',\n",
       "       ' Lakeland, FL, United States', ' Maracaibo, Venezuela',\n",
       "       ' West Des Moines, IA, United States', 'Eagle, WI, United States',\n",
       "       ' Fuquay Varina, NC, United States', ' Salem, MA, United States',\n",
       "       ' Mill Hall, PA, United States', ' Riverhead, NY, United States',\n",
       "       ' Seabrook, TX, United States', 'Palmdale, CA, United States',\n",
       "       ' Downey, CA, United States', 'Torrance, CA, United States',\n",
       "       ' Euless, TX, United States', ' Coronado, CA, United States',\n",
       "       ' Carate Brianza, Italy', 'Charlotte, NC, United States',\n",
       "       ' Morgan, UT, United States', ' Tucker, GA, United States',\n",
       "       'Oak Brook, IL, United States', ' Ventura, CA, United States',\n",
       "       ' Shreveport, LA, United States', ' Yonkers, NY, United States',\n",
       "       ' Rumford, RI, United States', ' Burien, WA, United States',\n",
       "       ' Arlington, TX, United States', ' Brentwood, CA, United States',\n",
       "       ' Crosby, ND, United States', ' Edison, NJ, United States',\n",
       "       ' Santo Domingo, Dominican Republic',\n",
       "       ' Skillman, NJ, United States', ' Bethel, PA, United States',\n",
       "       'Tacoma, WA, United States', ' Postville, IA, United States',\n",
       "       ' Sherman Oaks, CA, United States',\n",
       "       ' Port Jefferson Station, NY, United States',\n",
       "       ' Chelmsford, MA, United States', ' Arlington, VA, United States',\n",
       "       'Baton Rouge, LA, United States', 'Burleson, TX, United States',\n",
       "       'Sudbury, MA, United States', 'Omaha, NE, United States',\n",
       "       ' Toledo, OH, United States', ' Westminster, MD, United States',\n",
       "       ' Winchester, VA, United States', ' Venice, CA, United States',\n",
       "       ' Campbell, CA, United States', ' Cusco, Cusco, Peru',\n",
       "       ' Albuquerque, NM, United States', ' Mahopac, NY, United States',\n",
       "       ' Newcastle upon Tyne, England, United Kingdom',\n",
       "       ' Barry, Wales, United Kingdom',\n",
       "       ' Saint George, UT, United States', ' Hangzhou, Zhejiang, China',\n",
       "       ' Vilnius, Lithuania', ' Grand Junction, CO, United States',\n",
       "       ' Davie, FL, United States', ' Round Rock, TX, United States',\n",
       "       ' Oxford, OH, United States', ' Memphis, TN, United States',\n",
       "       ' Cheyenne, WY, United States', ' Farmingdale, NY, United States',\n",
       "       'Monmouth Junction, NJ, United States',\n",
       "       ' Florissant, MO, United States', ' Alkmaar, Netherlands',\n",
       "       ' Fort Worth, TX, United States',\n",
       "       ' Idaho Falls, ID, United States', ' Union, NJ, United States',\n",
       "       ' Farmington, NM, United States',\n",
       "       ' Brownsville, TX, United States', 'Matthews, NC, United States',\n",
       "       ' Hinsdale, MA, United States', ' Elverson, PA, United States',\n",
       "       'Fort Lee, NJ, United States', ' Glen Ellen, CA, United States',\n",
       "       ' Brooksville, FL, United States', ' Deland, FL, United States',\n",
       "       ' Huntersville, NC, United States',\n",
       "       ' Severna Park, MD, United States',\n",
       "       ' Pensacola, FL, United States', 'Petaluma, CA, United States',\n",
       "       ' Hanover, MA, United States', ' Edwardsville, IL, United States',\n",
       "       'Great Neck, NY, United States', ' West Newton, MA, United States',\n",
       "       'Prescott, AZ, United States', ' Istanbul, Turkey',\n",
       "       ' Platteville, WI, United States',\n",
       "       ' Crystal Lake, IL, United States',\n",
       "       ' Lindenhurst, NY, United States', ' Opelika, AL, United States',\n",
       "       ' Northfield, OH, United States',\n",
       "       ' Walla Walla, WA, United States', ' Dortmund, Germany',\n",
       "       'Pompano Beach, FL, United States', ' Millbury, OH, United States',\n",
       "       ' Towson, MD, United States', ' Red Bank, NJ, United States',\n",
       "       ' Grove City, OH, United States', ' Berlin, NJ, United States',\n",
       "       ' Wapakoneta, OH, United States',\n",
       "       ' Long Branch, NJ, United States',\n",
       "       ' Villa Rica, GA, United States', ' Jeddah, Saudi Arabia',\n",
       "       ' Hollister, CA, United States', ' Montclair, NJ, United States',\n",
       "       ' Deerfield, IL, United States', ' Canfield, OH, United States',\n",
       "       ' Batesville, IN, United States', ' Frisco, TX, United States',\n",
       "       ' West Freehold, NJ, United States', 'Hobbs, NM, United States',\n",
       "       ' Pinecrest, FL, United States', ' Easton, PA, United States',\n",
       "       'Shelbyville, TN, United States',\n",
       "       ' Clinton Township, MI, United States',\n",
       "       'Wilson, NC, United States', ' Sanford, NC, United States',\n",
       "       ' Ardmore, PA, United States', 'Romulus, MI, United States',\n",
       "       ' Yuma, AZ, United States', ' Neptune, NJ, United States',\n",
       "       'Birmingham, AL, United States', ' Oak Lawn, IL, United States',\n",
       "       ' Bothell, WA, United States', ' Warren, PA, United States',\n",
       "       ' Murray, UT, United States', ' Middleborough, MA, United States',\n",
       "       ' Incline Village, NV, United States',\n",
       "       ' Bellevue, WA, United States', 'Oakland, CA, United States',\n",
       "       ' Longview, TX, United States', 'Daqing, Heilongjiang, China',\n",
       "       ' Alameda, CA, United States', 'Cincinnati, OH, United States',\n",
       "       ' Slidell, LA, United States', ' Ferndale, MI, United States',\n",
       "       ' Batesville, AR, United States', ' Kuala Lumpur, Malaysia',\n",
       "       ' Palm Springs, CA, United States',\n",
       "       ' Commerce City, CO, United States', ' Kenosha, WI, United States',\n",
       "       'Greenville, MS, United States',\n",
       "       ' East Stroudsburg, PA, United States',\n",
       "       ' Weston, MA, United States', ' Santa Paula, CA, United States',\n",
       "       'Flat Rock, NC, United States', ' Beaverton, OR, United States',\n",
       "       'Buckeye Lake, OH, United States', ' Parker, CO, United States',\n",
       "       ' Spooner, WI, United States', ' Stoneham, MA, United States',\n",
       "       ' Fremont, NE, United States', ' Moses Lake, WA, United States',\n",
       "       ' Chengdu, Sichuan, China', ' Narragansett, RI, United States',\n",
       "       ' Skopje, Republic of Macedonia', 'Terre Haute, IN, United States',\n",
       "       ' Spring Hill, TN, United States',\n",
       "       ' Georgetown, MD, United States',\n",
       "       ' Research Triangle Park, NC, United States',\n",
       "       ' Essex, MD, United States', ' Montpelier, VT, United States',\n",
       "       ' Fort Walton Beach, FL, United States',\n",
       "       'Harrisburg, PA, United States', 'Columbus, GA, United States',\n",
       "       ' Martinez, CA, United States', ' Sulaibiya, Kuwait',\n",
       "       ' Carlsbad, CA, United States', ' Visakhapatnam, India',\n",
       "       'Atlanta, GA, United States', 'Sanford, FL, United States',\n",
       "       'Centralia, MO, United States', ' Seven Fields, PA, United States',\n",
       "       ' Bethlehem, PA, United States',\n",
       "       'Wichita Falls, TX, United States',\n",
       "       ' Marina del Rey, CA, United States', ' Fresno, CA, United States',\n",
       "       'Albany, NY, United States', ' Beaufort, SC, United States',\n",
       "       ' Bozeman, MT, United States', ' Acampo, CA, United States',\n",
       "       ' Sutton Coldfield, England, United Kingdom',\n",
       "       ' Elk Grove Village, IL, United States',\n",
       "       ' Glenwood Springs, CO, United States',\n",
       "       ' Saginaw, MI, United States', ' Cleveland, TN, United States',\n",
       "       ' Pembroke Pines, FL, United States',\n",
       "       ' Fort Myers, FL, United States', ' Appleton, WI, United States',\n",
       "       \" Ra's al Khaymah, United Arab Emirates\",\n",
       "       ' Wethersfield, CT, United States', ' Troy, MI, United States',\n",
       "       ' Westbrook, ME, United States',\n",
       "       ' Hato Mayor, Santiago, Dominican Republic',\n",
       "       ' Kingston upon Thames, England, United Kingdom',\n",
       "       ' Banff, Scotland, United Kingdom',\n",
       "       ' Santa Clara, CA, United States', ' Guishan, Taiwan',\n",
       "       ' Hastings, MN, United States', ' Eichstätt, Germany',\n",
       "       ' Chico, CA, United States', ' Concord, NC, United States',\n",
       "       ' Hamilton, OH, United States', 'Jacksonville, FL, United States',\n",
       "       ' Reno, NV, United States', ' Shanghai, Shanghai, China',\n",
       "       ' Goose Creek, SC, United States', ' Buckeye, AZ, United States',\n",
       "       ' Teutopolis, IL, United States',\n",
       "       ' Poughkeepsie, NY, United States',\n",
       "       ' Clifton Park, NY, United States', 'Austin, TX, United States',\n",
       "       ' Nashua, NH, United States', ' Temecula, CA, United States',\n",
       "       ' Gallatin, TN, United States', ' Roseville, MI, United States',\n",
       "       ' Gadsden, AL, United States', 'Issaquah, WA, United States',\n",
       "       ' Bournemouth, England, United Kingdom',\n",
       "       ' Canby, OR, United States', ' Tooele, UT, United States',\n",
       "       'Thomasville, GA, United States', ' Cary, NC, United States',\n",
       "       ' Cookeville, TN, United States', 'Gorham, NH, United States',\n",
       "       ' Bartlesville, OK, United States',\n",
       "       ' Sewickley, PA, United States', ' Morristown, NJ, United States',\n",
       "       ' Hamilton, Bermuda', ' Aston, PA, United States',\n",
       "       ' Breaux Bridge, LA, United States',\n",
       "       ' Mesquite, TX, United States',\n",
       "       ' North Wilkesboro, NC, United States',\n",
       "       ' San Clemente, CA, United States',\n",
       "       ' Brunswick, ME, United States',\n",
       "       ' Wellesley Hills, MA, United States',\n",
       "       ' Glenview, IL, United States', ' Belle Chasse, LA, United States',\n",
       "       ' Lancaster, PA, United States',\n",
       "       ' Lawrenceville, GA, United States',\n",
       "       ' Brookeville, MD, United States', ' Stafford, VA, United States',\n",
       "       ' Covington, LA, United States', ' Broadview, IL, United States',\n",
       "       ' Hayden, ID, United States', ' Blue Bell, PA, United States',\n",
       "       ' Portola Valley, CA, United States',\n",
       "       ' Addison, IL, United States', ' Santa Cruz, CA, United States',\n",
       "       ' Rockford, IL, United States', ' Modesto, CA, United States',\n",
       "       ' Somerset, NJ, United States', ' Bohemia, NY, United States',\n",
       "       ' Fontana, CA, United States',\n",
       "       ' North Las Vegas, NV, United States', ' Horw, Switzerland',\n",
       "       ' Trussville, AL, United States',\n",
       "       ' Little Rock, AR, United States', ' Bismarck, ND, United States',\n",
       "       ' Yarmouth, ME, United States', ' Langhorne, PA, United States',\n",
       "       ' Surrey, BC, Canada', 'www.foundationlearning.org ',\n",
       "       ' El Paso, TX, United States', ' Cecil, AL, United States',\n",
       "       ' Orlando, FL, United States', ' Blue Springs, MO, United States',\n",
       "       ' Honolulu, HI, United States', ' Gilmer, TX, United States',\n",
       "       ' Newnan, GA, United States', ' Dayton, OH, United States',\n",
       "       ' Spring Valley, CA, United States', 'Malaysia', 'Denmark',\n",
       "       'Vietnam', 'Laos', 'Brunei', 'Cambodia', 'Burma', 'East Timor'],\n",
       "      dtype=object)"
      ]
     },
     "execution_count": 9,
     "metadata": {},
     "output_type": "execute_result"
    }
   ],
   "source": [
    "main_data['Location'].unique()"
   ]
  },
  {
   "cell_type": "code",
   "execution_count": 10,
   "metadata": {
    "ExecuteTime": {
     "end_time": "2020-03-25T04:46:31.207178Z",
     "start_time": "2020-03-25T04:46:29.318764Z"
    }
   },
   "outputs": [],
   "source": [
    "main_data = main_data.reset_index().drop(['Unnamed: 0', 'index'], axis=1).dropna(subset=[\n",
    "    'Company Name', 'Location'], how='any').drop_duplicates(subset=['Company Name', 'Location', 'Url'])"
   ]
  },
  {
   "cell_type": "code",
   "execution_count": 11,
   "metadata": {
    "ExecuteTime": {
     "end_time": "2020-03-25T04:46:38.564096Z",
     "start_time": "2020-03-25T04:46:38.558689Z"
    }
   },
   "outputs": [
    {
     "data": {
      "text/plain": [
       "(384737, 10)"
      ]
     },
     "execution_count": 11,
     "metadata": {},
     "output_type": "execute_result"
    }
   ],
   "source": [
    "main_data.shape"
   ]
  },
  {
   "cell_type": "code",
   "execution_count": 12,
   "metadata": {
    "ExecuteTime": {
     "end_time": "2020-03-25T04:46:40.263873Z",
     "start_time": "2020-03-25T04:46:39.985299Z"
    }
   },
   "outputs": [
    {
     "data": {
      "text/plain": [
       "(372137, 10)"
      ]
     },
     "execution_count": 12,
     "metadata": {},
     "output_type": "execute_result"
    }
   ],
   "source": [
    "test = main_data.drop_duplicates(subset=['Company Name', 'Location'])\n",
    "test.shape"
   ]
  },
  {
   "cell_type": "code",
   "execution_count": 13,
   "metadata": {
    "ExecuteTime": {
     "end_time": "2020-03-25T04:46:41.388763Z",
     "start_time": "2020-03-25T04:46:41.185476Z"
    }
   },
   "outputs": [
    {
     "data": {
      "text/plain": [
       "Company Name      0.000000\n",
       "Data Collected    0.999961\n",
       "Data Size         1.000000\n",
       "Location          0.000000\n",
       "Rating            0.403585\n",
       "Recommend         0.403585\n",
       "Time Collected    0.423806\n",
       "Timestamp         0.738060\n",
       "URL               1.000000\n",
       "Url               0.861440\n",
       "dtype: float64"
      ]
     },
     "execution_count": 13,
     "metadata": {},
     "output_type": "execute_result"
    }
   ],
   "source": [
    "main_data.isnull().sum()/len(main_data)"
   ]
  },
  {
   "cell_type": "code",
   "execution_count": 14,
   "metadata": {
    "ExecuteTime": {
     "end_time": "2020-03-25T04:46:48.576913Z",
     "start_time": "2020-03-25T04:46:48.524358Z"
    }
   },
   "outputs": [],
   "source": [
    "main_data = main_data.drop(['Data Collected', 'Data Size', 'Timestamp', 'Time Collected', 'URL'],axis=1)"
   ]
  },
  {
   "cell_type": "markdown",
   "metadata": {},
   "source": [
    "# To csv "
   ]
  },
  {
   "cell_type": "code",
   "execution_count": null,
   "metadata": {
    "ExecuteTime": {
     "end_time": "2020-03-24T16:25:55.795696Z",
     "start_time": "2020-03-24T16:25:54.497203Z"
    }
   },
   "outputs": [],
   "source": [
    "main_data.to_csv(r'C:\\Users\\User\\Desktop\\Glassdoor_Collection\\GLASSDOOR_FULL_LIST.csv')"
   ]
  },
  {
   "cell_type": "code",
   "execution_count": 15,
   "metadata": {
    "ExecuteTime": {
     "end_time": "2020-03-25T04:46:51.371032Z",
     "start_time": "2020-03-25T04:46:51.183800Z"
    }
   },
   "outputs": [],
   "source": [
    "main_data_company_focused = main_data.drop_duplicates(subset=['Company Name'])"
   ]
  },
  {
   "cell_type": "code",
   "execution_count": 16,
   "metadata": {
    "ExecuteTime": {
     "end_time": "2020-03-25T04:46:57.270286Z",
     "start_time": "2020-03-25T04:46:57.265622Z"
    }
   },
   "outputs": [
    {
     "data": {
      "text/plain": [
       "(274180, 5)"
      ]
     },
     "execution_count": 16,
     "metadata": {},
     "output_type": "execute_result"
    }
   ],
   "source": [
    "main_data_company_focused.shape"
   ]
  },
  {
   "cell_type": "code",
   "execution_count": 17,
   "metadata": {
    "ExecuteTime": {
     "end_time": "2020-03-25T04:47:04.677190Z",
     "start_time": "2020-03-25T04:47:04.506551Z"
    }
   },
   "outputs": [
    {
     "name": "stderr",
     "output_type": "stream",
     "text": [
      "C:\\Users\\User\\Anaconda3\\lib\\site-packages\\ipykernel_launcher.py:1: SettingWithCopyWarning: \n",
      "A value is trying to be set on a copy of a slice from a DataFrame.\n",
      "Try using .loc[row_indexer,col_indexer] = value instead\n",
      "\n",
      "See the caveats in the documentation: http://pandas.pydata.org/pandas-docs/stable/user_guide/indexing.html#returning-a-view-versus-a-copy\n",
      "  \"\"\"Entry point for launching an IPython kernel.\n"
     ]
    }
   ],
   "source": [
    "main_data_company_focused['Company Name'] = main_data_company_focused['Company Name'].str.lower()"
   ]
  },
  {
   "cell_type": "markdown",
   "metadata": {},
   "source": [
    "# To csv"
   ]
  },
  {
   "cell_type": "code",
   "execution_count": 21,
   "metadata": {
    "ExecuteTime": {
     "end_time": "2020-03-25T04:48:30.437619Z",
     "start_time": "2020-03-25T04:48:28.495113Z"
    }
   },
   "outputs": [],
   "source": [
    "main_data_company_focused.to_csv(r'C:\\Users\\User\\Desktop\\Fresh\\Vertex\\TO_BE_SEARCHED_GLASSDOOR_FULL_LIST.csv')"
   ]
  },
  {
   "cell_type": "code",
   "execution_count": null,
   "metadata": {},
   "outputs": [],
   "source": []
  },
  {
   "cell_type": "code",
   "execution_count": 22,
   "metadata": {
    "ExecuteTime": {
     "end_time": "2020-03-25T04:48:45.325065Z",
     "start_time": "2020-03-25T04:48:44.385678Z"
    }
   },
   "outputs": [
    {
     "name": "stderr",
     "output_type": "stream",
     "text": [
      "C:\\Users\\User\\Anaconda3\\lib\\site-packages\\IPython\\core\\interactiveshell.py:3058: DtypeWarning: Columns (8) have mixed types. Specify dtype option on import or set low_memory=False.\n",
      "  interactivity=interactivity, compiler=compiler, result=result)\n"
     ]
    }
   ],
   "source": [
    "current_search_list = pd.read_csv(r'C:\\Users\\User\\Desktop\\Fresh\\Vertex\\TO_BE_SEARCHED_GLASSDOOR_CURRENT_LIST.csv')\n",
    "full_search_list = pd.read_csv(r'C:\\Users\\User\\Desktop\\Fresh\\Vertex\\TO_BE_SEARCHED_GLASSDOOR_FULL_LIST.csv')"
   ]
  },
  {
   "cell_type": "code",
   "execution_count": 23,
   "metadata": {
    "ExecuteTime": {
     "end_time": "2020-03-25T04:48:47.485035Z",
     "start_time": "2020-03-25T04:48:47.478266Z"
    }
   },
   "outputs": [
    {
     "name": "stdout",
     "output_type": "stream",
     "text": [
      "(122099, 9)\n",
      "(274180, 6)\n"
     ]
    }
   ],
   "source": [
    "print(current_search_list.shape)\n",
    "print(full_search_list.shape)"
   ]
  },
  {
   "cell_type": "code",
   "execution_count": 30,
   "metadata": {
    "ExecuteTime": {
     "end_time": "2020-03-25T04:51:58.066745Z",
     "start_time": "2020-03-25T04:51:57.978394Z"
    }
   },
   "outputs": [
    {
     "data": {
      "text/plain": [
       "(121914, 9)"
      ]
     },
     "execution_count": 30,
     "metadata": {},
     "output_type": "execute_result"
    }
   ],
   "source": [
    "current_search_list = current_search_list.drop_duplicates(subset=['Company Name'])\n",
    "current_search_list.shape"
   ]
  },
  {
   "cell_type": "code",
   "execution_count": 25,
   "metadata": {
    "ExecuteTime": {
     "end_time": "2020-03-25T04:49:34.502938Z",
     "start_time": "2020-03-25T04:49:34.468401Z"
    }
   },
   "outputs": [],
   "source": [
    "dictionary = list(current_search_list['Company Name'])\n",
    "# change to lower case in dictionary\n",
    "dictionary = [i.lower() for i in dictionary]"
   ]
  },
  {
   "cell_type": "code",
   "execution_count": 26,
   "metadata": {
    "ExecuteTime": {
     "end_time": "2020-03-25T04:49:38.950375Z",
     "start_time": "2020-03-25T04:49:38.772669Z"
    }
   },
   "outputs": [],
   "source": [
    "full_search_list['Company Name'] = full_search_list['Company Name'].str.lower()"
   ]
  },
  {
   "cell_type": "code",
   "execution_count": 27,
   "metadata": {
    "ExecuteTime": {
     "end_time": "2020-03-25T04:49:39.881442Z",
     "start_time": "2020-03-25T04:49:39.755211Z"
    }
   },
   "outputs": [],
   "source": [
    "new_search_list = full_search_list[full_search_list['Company Name'].isin(dictionary)]"
   ]
  },
  {
   "cell_type": "code",
   "execution_count": 28,
   "metadata": {
    "ExecuteTime": {
     "end_time": "2020-03-25T04:49:57.456774Z",
     "start_time": "2020-03-25T04:49:57.363163Z"
    }
   },
   "outputs": [],
   "source": [
    "new_search_list = new_search_list.drop_duplicates(subset=['Company Name'])"
   ]
  },
  {
   "cell_type": "code",
   "execution_count": 31,
   "metadata": {
    "ExecuteTime": {
     "end_time": "2020-03-25T05:18:31.926029Z",
     "start_time": "2020-03-25T05:18:31.921040Z"
    }
   },
   "outputs": [
    {
     "data": {
      "text/plain": [
       "(121914, 6)"
      ]
     },
     "execution_count": 31,
     "metadata": {},
     "output_type": "execute_result"
    }
   ],
   "source": [
    "new_search_list.shape"
   ]
  },
  {
   "cell_type": "code",
   "execution_count": 33,
   "metadata": {
    "ExecuteTime": {
     "end_time": "2020-03-25T05:18:45.737357Z",
     "start_time": "2020-03-25T05:18:44.700135Z"
    }
   },
   "outputs": [],
   "source": [
    "new_search_list.to_csv(r'C:\\Users\\User\\Desktop\\Fresh\\Vertex\\TO_BE_SEARCHED_GLASSDOOR_NEW_LIST.csv')"
   ]
  },
  {
   "cell_type": "code",
   "execution_count": null,
   "metadata": {},
   "outputs": [],
   "source": []
  }
 ],
 "metadata": {
  "kernelspec": {
   "display_name": "Python 3",
   "language": "python",
   "name": "python3"
  },
  "language_info": {
   "codemirror_mode": {
    "name": "ipython",
    "version": 3
   },
   "file_extension": ".py",
   "mimetype": "text/x-python",
   "name": "python",
   "nbconvert_exporter": "python",
   "pygments_lexer": "ipython3",
   "version": "3.7.4"
  },
  "toc": {
   "base_numbering": 1,
   "nav_menu": {},
   "number_sections": true,
   "sideBar": true,
   "skip_h1_title": false,
   "title_cell": "Table of Contents",
   "title_sidebar": "Contents",
   "toc_cell": false,
   "toc_position": {
    "height": "calc(100% - 180px)",
    "left": "10px",
    "top": "150px",
    "width": "224px"
   },
   "toc_section_display": true,
   "toc_window_display": true
  }
 },
 "nbformat": 4,
 "nbformat_minor": 2
}
